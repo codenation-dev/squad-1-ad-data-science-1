{
 "cells": [
  {
   "cell_type": "markdown",
   "metadata": {},
   "source": [
    "# Objetivo\n",
    "\n",
    "Avaliar quais das 180 features são mais importantes."
   ]
  },
  {
   "cell_type": "markdown",
   "metadata": {},
   "source": [
    "# Método\n",
    "\n",
    "Aplicar _pandas_profiling_ para verificar features com muitos NaN (*not a number*) e correlação alta com outras features."
   ]
  },
  {
   "cell_type": "code",
   "execution_count": 2,
   "metadata": {},
   "outputs": [],
   "source": [
    "# imports\n",
    "import pandas as pd\n",
    "import feather\n",
    "import pandas_profiling"
   ]
  },
  {
   "cell_type": "markdown",
   "metadata": {},
   "source": [
    "# Carregamento do arquivo de teste com 10 mil amostras"
   ]
  },
  {
   "cell_type": "markdown",
   "metadata": {},
   "source": [
    "## Google Colab\n",
    "\n",
    "Se estiver usando Google Colab, executar o código a seguir, para acessar o arquivo de dados no Drive."
   ]
  },
  {
   "cell_type": "code",
   "execution_count": 0,
   "metadata": {
    "colab": {},
    "colab_type": "code",
    "id": "1A_kiywn9Io4"
   },
   "outputs": [],
   "source": [
    "import os\n",
    "from google.colab import drive\n",
    "drive.mount('/content/drive')"
   ]
  },
  {
   "cell_type": "code",
   "execution_count": null,
   "metadata": {
    "colab": {
     "base_uri": "https://localhost:8080/",
     "height": 69
    },
    "colab_type": "code",
    "id": "coRDuSbkzqPN",
    "outputId": "e26430e6-8b4e-4e10-f038-abfb6a11edd0"
   },
   "outputs": [],
   "source": [
    "!ls 'drive/My Drive/Colab Notebooks'"
   ]
  },
  {
   "cell_type": "code",
   "execution_count": 7,
   "metadata": {
    "colab": {
     "base_uri": "https://localhost:8080/",
     "height": 34
    },
    "colab_type": "code",
    "id": "6aZhm9uNzgIr",
    "outputId": "fcd15e57-3648-41a6-de50-f2164acc36f4"
   },
   "outputs": [
    {
     "data": {
      "text/plain": [
       "True"
      ]
     },
     "execution_count": 7,
     "metadata": {
      "tags": []
     },
     "output_type": "execute_result"
    }
   ],
   "source": [
    "os.path.isfile(\"drive/My Drive/Colab Notebooks/market_sample10k.feather\")"
   ]
  },
  {
   "cell_type": "code",
   "execution_count": null,
   "metadata": {},
   "outputs": [],
   "source": [
    "market10k = feather.read_dataframe('drive/My Drive/Colab Notebooks/market_sample10k.feather')"
   ]
  },
  {
   "cell_type": "markdown",
   "metadata": {},
   "source": [
    "## Arquivo local\n",
    "\n",
    "Se estiver usando arquivo local, simplesmente carregá-lo."
   ]
  },
  {
   "cell_type": "code",
   "execution_count": 8,
   "metadata": {
    "colab": {
     "base_uri": "https://localhost:8080/",
     "height": 104
    },
    "colab_type": "code",
    "id": "-WpdQ-LExRVh",
    "outputId": "19625df5-e745-415b-9416-a8bd22be877f"
   },
   "outputs": [
    {
     "name": "stdout",
     "output_type": "stream",
     "text": [
      "<class 'pandas.core.frame.DataFrame'>\n",
      "RangeIndex: 10000 entries, 0 to 9999\n",
      "Columns: 182 entries, Unnamed: 0 to qt_filiais\n",
      "dtypes: bool(9), float64(144), int64(2), object(27)\n",
      "memory usage: 13.3+ MB\n"
     ]
    }
   ],
   "source": [
    "market10k = feather.read_dataframe('market_sample10k.feather')"
   ]
  },
  {
   "cell_type": "markdown",
   "metadata": {},
   "source": [
    "# Geração do Relatório"
   ]
  },
  {
   "cell_type": "code",
   "execution_count": null,
   "metadata": {},
   "outputs": [],
   "source": [
    "market10k.info()"
   ]
  },
  {
   "cell_type": "code",
   "execution_count": 0,
   "metadata": {
    "colab": {
     "base_uri": "https://localhost:8080/",
     "height": 34
    },
    "colab_type": "code",
    "id": "Px4C3yntxTYC",
    "outputId": "ca944e1c-340d-45f0-9bdf-17e83dccd111"
   },
   "outputs": [
    {
     "data": {
      "text/plain": [
       "(10000, 182)"
      ]
     },
     "execution_count": 8,
     "metadata": {
      "tags": []
     },
     "output_type": "execute_result"
    }
   ],
   "source": [
    "market10k.shape"
   ]
  },
  {
   "cell_type": "code",
   "execution_count": 0,
   "metadata": {
    "colab": {},
    "colab_type": "code",
    "id": "Bgt5NKcwxVVB"
   },
   "outputs": [],
   "source": [
    "profile10k = pandas_profiling.ProfileReport(market10k)"
   ]
  },
  {
   "cell_type": "code",
   "execution_count": 0,
   "metadata": {
    "colab": {},
    "colab_type": "code",
    "id": "tuwgiX3Sl5kz"
   },
   "outputs": [],
   "source": [
    "profile10k.to_file(outputfile='Profile 10k sample from estaticos_market.html')"
   ]
  },
  {
   "cell_type": "markdown",
   "metadata": {},
   "source": [
    "# Análises"
   ]
  },
  {
   "cell_type": "code",
   "execution_count": null,
   "metadata": {},
   "outputs": [],
   "source": [
    "# Listar features que tem correlação maior que:\n",
    "threshold_correlation = 0.8\n",
    "\n",
    "#Listar features que tem fração de missing values (NaN) maior que:\n",
    "threshold_missing = 0.7"
   ]
  },
  {
   "cell_type": "markdown",
   "metadata": {},
   "source": [
    "## Features que apresentam alta correlação"
   ]
  },
  {
   "cell_type": "code",
   "execution_count": 23,
   "metadata": {
    "colab": {
     "base_uri": "https://localhost:8080/",
     "height": 34
    },
    "colab_type": "code",
    "id": "YZWL6e0H9B4U",
    "outputId": "43a989aa-877e-4fa7-cc92-42711c7d69d2"
   },
   "outputs": [
    {
     "data": {
      "text/plain": [
       "52"
      ]
     },
     "execution_count": 23,
     "metadata": {
      "tags": []
     },
     "output_type": "execute_result"
    }
   ],
   "source": [
    "# verifica features que tem alta correlação (por exemplo, quantidade de funcionários e funcionários com idade em uma faixa)\n",
    "rejected_variables_corr = profile10k.get_rejected_variables(threshold = threshold_correlation)\n",
    "len(rejected_variables_corr)"
   ]
  },
  {
   "cell_type": "markdown",
   "metadata": {},
   "source": [
    "## Features com muitos valores nulos (NaN)"
   ]
  },
  {
   "cell_type": "code",
   "execution_count": 0,
   "metadata": {
    "colab": {},
    "colab_type": "code",
    "id": "PGbCU0Xk9KY4"
   },
   "outputs": [],
   "source": [
    "def get_missing_variables(prof, threshold: int = 0.5) -> list:\n",
    "    \"\"\"Return a list of variable names being rejected for \n",
    "    presenting missing values (NaN).\n",
    "    \n",
    "    Args:\n",
    "        threshold: fraction of NaN values (Default value = 0.5 = 50%)\n",
    "\n",
    "    Returns:\n",
    "        A list of missing variables.\n",
    "    \"\"\"\n",
    "    variable_profile = prof.description_set['variables']\n",
    "    result = []\n",
    "    for row in variable_profile.index:\n",
    "      if variable_profile.loc[row]['type']!='CORR':\n",
    "        if variable_profile.loc[row]['p_missing'] > threshold:\n",
    "          result.append(row)\n",
    "    return result"
   ]
  },
  {
   "cell_type": "code",
   "execution_count": 22,
   "metadata": {
    "colab": {
     "base_uri": "https://localhost:8080/",
     "height": 34
    },
    "colab_type": "code",
    "id": "LIXTAdzE9UdA",
    "outputId": "25fb9e9e-2f8a-43fe-d377-6ebfbf983660"
   },
   "outputs": [
    {
     "data": {
      "text/plain": [
       "81"
      ]
     },
     "execution_count": 22,
     "metadata": {
      "tags": []
     },
     "output_type": "execute_result"
    }
   ],
   "source": [
    "missing_variables = get_missing_variables(profile10k, threshold = threshold_missing)\n",
    "len(missing_variables)"
   ]
  },
  {
   "cell_type": "markdown",
   "metadata": {},
   "source": [
    "# Conclusão\n",
    "\n",
    "Em `exclude_variables`, temos o resultado final: uma lista de features a excluir por conta de alta correlação com outras features ou por apresentar grande número de valores NaN.\n",
    "\n",
    "Neste caso, usando `threshold_correlation = 0.8` e `threshold_missing = 0.7`, podemos excluir **133** features."
   ]
  },
  {
   "cell_type": "code",
   "execution_count": 26,
   "metadata": {
    "colab": {
     "base_uri": "https://localhost:8080/",
     "height": 34
    },
    "colab_type": "code",
    "id": "IQql7vIdkHI-",
    "outputId": "9cad9454-668b-4ef0-e28e-18ac77bec39a"
   },
   "outputs": [
    {
     "data": {
      "text/plain": [
       "133"
      ]
     },
     "execution_count": 26,
     "metadata": {
      "tags": []
     },
     "output_type": "execute_result"
    }
   ],
   "source": [
    "# conferir se não há sobreposição nas duas listas \n",
    "exclude_variables = list(set(rejected_variables_corr + missing_variables))\n",
    "len(exclude_variables)"
   ]
  },
  {
   "cell_type": "raw",
   "metadata": {},
   "source": [
    "['qt_coligados_agropecuaria',\n",
    " 'qt_coligados_nordeste',\n",
    " 'idade_de_34_a_38',\n",
    " 'qt_coligados_mei',\n",
    " 'qt_coligados_serviço',\n",
    " 'qt_ramos_coligados',\n",
    " 'idade_de_24_a_28',\n",
    " 'qt_coligados_epp',\n",
    " 'total_filiais_coligados',\n",
    " 'qt_socios_pj_ativos',\n",
    " 'qt_socios_pj_baixados',\n",
    " 'qt_coligados_sa',\n",
    " 'qt_coligados_inapta',\n",
    " 'min_meses_servicos',\n",
    " 'media_funcionarios_coligados_gp',\n",
    " 'qt_coligados_sudeste',\n",
    " 'faturamento_est_coligados',\n",
    " 'qt_coligados_ltda',\n",
    " 'idade_acima_de_58',\n",
    " 'max_vl_folha_coligados_gp',\n",
    " 'idade_media_coligadas',\n",
    " 'vl_total_veiculos_pesados',\n",
    " 'qt_socios_pj_nulos',\n",
    " 'max_faturamento_est_coligados_gp',\n",
    " 'min_faturamento_est_coligados_gp',\n",
    " 'qt_admitidos_12meses',\n",
    " 'idade_de_29_a_33',\n",
    " 'idade_de_49_a_53',\n",
    " 'max_faturamento_est_coligados',\n",
    " 'qt_coligados_centro',\n",
    " 'faturamento_est_coligados_gp',\n",
    " 'qt_admitidos',\n",
    " 'qt_desligados',\n",
    " 'percent_func_genero_fem',\n",
    " 'vl_total_tancagem_grupo',\n",
    " 'grau_instrucao_macro_escolaridade_media',\n",
    " 'qt_funcionarios_12meses',\n",
    " 'qt_coligados_nula',\n",
    " 'qt_socios_pj_suspensos',\n",
    " 'meses_ultima_contratacaco',\n",
    " 'idade_de_54_a_58',\n",
    " 'qt_ex_funcionarios',\n",
    " 'qt_alteracao_socio_90d',\n",
    " 'vl_idade_media_socios_pj',\n",
    " 'idade_de_44_a_48',\n",
    " 'coligada_mais_nova_ativa',\n",
    " 'tx_crescimento_12meses',\n",
    " 'vl_frota',\n",
    " 'qt_coligados_me',\n",
    " 'percent_func_genero_masc',\n",
    " 'min_faturamento_est_coligados',\n",
    " 'min_filiais_coligados',\n",
    " 'vl_folha_coligados',\n",
    " 'sum_faturamento_estimado_coligadas',\n",
    " 'media_vl_folha_coligados_gp',\n",
    " 'qt_coligados_ccivil',\n",
    " 'idade_media_coligadas_baixadas',\n",
    " 'qt_coligados_atividade_inativo',\n",
    " 'qt_coligados_matriz',\n",
    " 'idade_de_19_a_23',\n",
    " 'idade_maxima_socios',\n",
    " 'qt_coligados',\n",
    " 'qt_socios_st_suspensa',\n",
    " 'idade_minima_coligadas',\n",
    " 'min_vl_folha_coligados',\n",
    " 'qt_funcionarios_grupo',\n",
    " 'qt_socios_pj_inaptos',\n",
    " 'grau_instrucao_macro_desconhecido',\n",
    " 'qt_socios_coligados',\n",
    " 'max_meses_servicos_all',\n",
    " 'idade_media_coligadas_ativas',\n",
    " 'qt_coligados_ativo',\n",
    " 'total',\n",
    " 'qt_socios_pf',\n",
    " 'max_meses_servicos',\n",
    " 'min_meses_servicos_all',\n",
    " 'media_faturamento_est_coligados_gp',\n",
    " 'qt_coligados_sul',\n",
    " 'coligada_mais_nova_baixada',\n",
    " 'qt_socios_st_regular',\n",
    " 'qt_coligados_suspensa',\n",
    " 'qt_coligados_comercio',\n",
    " 'media_meses_servicos',\n",
    " 'idade_maxima_coligadas',\n",
    " 'media_filiais_coligados',\n",
    " 'qt_alteracao_socio_total',\n",
    " 'idade_de_39_a_43',\n",
    " 'coligada_mais_antiga_baixada',\n",
    " 'qt_art',\n",
    " 'coligada_mais_antiga_ativa',\n",
    " 'grau_instrucao_macro_escolaridade_superior',\n",
    " 'qt_alteracao_socio_365d',\n",
    " 'qt_coligados_atividade_mt_baixo',\n",
    " 'qt_coligados_exterior',\n",
    " 'qt_coligados_atividade_alto',\n",
    " 'vl_total_veiculos_antt_grupo',\n",
    " 'grau_instrucao_macro_escolaridade_fundamental',\n",
    " 'grau_instrucao_macro_analfabeto',\n",
    " 'qt_ufs_coligados',\n",
    " 'vl_folha_coligados_gp',\n",
    " 'max_funcionarios_coligados_gp',\n",
    " 'qt_coligadas',\n",
    " 'max_vl_folha_coligados',\n",
    " 'tx_rotatividade',\n",
    " 'qt_funcionarios_coligados',\n",
    " 'min_vl_folha_coligados_gp',\n",
    " 'vl_total_tancagem',\n",
    " 'qt_coligados_atividade_baixo',\n",
    " 'qt_coligados_baixada',\n",
    " 'tx_crescimento_24meses',\n",
    " 'vl_total_veiculos_leves',\n",
    " 'qt_funcionarios_coligados_gp',\n",
    " 'vl_potenc_cons_oleo_gas',\n",
    " 'qt_coligados_atividade_medio',\n",
    " 'vl_total_veiculos_antt',\n",
    " 'vl_idade_minima_socios_pj',\n",
    " 'qt_coligados_industria',\n",
    " 'de_indicador_telefone',\n",
    " 'idade_ate_18',\n",
    " 'min_funcionarios_coligados_gp',\n",
    " 'qt_desligados_12meses',\n",
    " 'qt_socios_pep',\n",
    " 'qt_funcionarios',\n",
    " 'qt_funcionarios_24meses',\n",
    " 'media_meses_servicos_all',\n",
    " 'max_filiais_coligados',\n",
    " 'idade_minima_socios',\n",
    " 'media_vl_folha_coligados',\n",
    " 'qt_regioes_coligados',\n",
    " 'vl_idade_maxima_socios_pj',\n",
    " 'qt_alteracao_socio_180d',\n",
    " 'qt_coligados_norte',\n",
    " 'media_faturamento_est_coligados']"
   ]
  }
 ],
 "metadata": {
  "colab": {
   "collapsed_sections": [],
   "name": "profiling 10k market.ipynb",
   "provenance": [],
   "version": "0.3.2"
  },
  "kernelspec": {
   "display_name": "Python 3",
   "language": "python",
   "name": "python3"
  },
  "language_info": {
   "codemirror_mode": {
    "name": "ipython",
    "version": 3
   },
   "file_extension": ".py",
   "mimetype": "text/x-python",
   "name": "python",
   "nbconvert_exporter": "python",
   "pygments_lexer": "ipython3",
   "version": "3.7.3"
  },
  "toc": {
   "base_numbering": 1,
   "nav_menu": {},
   "number_sections": true,
   "sideBar": true,
   "skip_h1_title": false,
   "title_cell": "Table of Contents",
   "title_sidebar": "Contents",
   "toc_cell": false,
   "toc_position": {},
   "toc_section_display": true,
   "toc_window_display": false
  }
 },
 "nbformat": 4,
 "nbformat_minor": 1
}
