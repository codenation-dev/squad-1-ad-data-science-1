{
 "cells": [
  {
   "cell_type": "markdown",
   "metadata": {},
   "source": [
    "# Objetivo\n",
    "\n",
    "Objetivo é avaliar as sugestões obtidas, comparando-as com uma parte separada do portfólio, além de verificar se o resultado é melhor que uma escolha aleatória."
   ]
  },
  {
   "cell_type": "markdown",
   "metadata": {},
   "source": [
    "# Método\n",
    "\n",
    "Neste problema de recomendação, não temos uma variável-alvo definida, nem uma base explícita de teste.\n",
    "\n",
    "Então, para fazer a avaliação dos resultados, separamos o portfólio em duas partes: uma (`X_train`) é usada para gerar a lista de sugestões. A outra (`X_test`) é a base em que procuramos nossas sugestões. Idealmente, todos os IDs que estão em `X_test` deveriam estar na lista de sugestões.\n",
    "\n",
    "Definimos uma função para contar o número de **hits**, ou seja, quantos itens sugeridos estão dentro da parte do portfólio separada para teste. \n",
    "\n",
    "Por fim, comparamos o número de _hits_ com uma escolha aleatória na base completa. Usamos uma simulação de Monte Carlo, em que o mesmo número de sugestões é aleatoriamente obtido da base completa _market_, usando o método `sample` do Pandas, sendo esse processo repetido várias vezes (`monte_carlo_size`), para obter uma estimativa mais robusta."
   ]
  },
  {
   "cell_type": "markdown",
   "metadata": {},
   "source": [
    "# Preparação (Imports)"
   ]
  },
  {
   "cell_type": "code",
   "execution_count": 1,
   "metadata": {},
   "outputs": [],
   "source": [
    "# imports\n",
    "import pandas as pd\n",
    "import matplotlib.pyplot as plt\n",
    "import numpy as np\n",
    "\n",
    "# preprocessing\n",
    "from sklearn import preprocessing\n",
    "\n",
    "#Unsupervised Learning\n",
    "from sklearn.neighbors import NearestNeighbors\n",
    "\n",
    "#Imports para Visualizações\n",
    "import folium\n",
    "from folium import plugins\n",
    "import random"
   ]
  },
  {
   "cell_type": "markdown",
   "metadata": {},
   "source": [
    "# Leitura do arquivo de entrada (portfólio com IDs de clientes atuais)"
   ]
  },
  {
   "cell_type": "code",
   "execution_count": 2,
   "metadata": {},
   "outputs": [],
   "source": [
    "port = pd.read_csv('estaticos_portfolio3.csv',usecols = ['id'])\n",
    "port.set_index('id',inplace=True)"
   ]
  },
  {
   "cell_type": "markdown",
   "metadata": {},
   "source": [
    "# Carregamento da Base de dados (Market)"
   ]
  },
  {
   "cell_type": "code",
   "execution_count": 3,
   "metadata": {},
   "outputs": [
    {
     "name": "stdout",
     "output_type": "stream",
     "text": [
      "Opening market database...\n",
      "Done opening market database.\n"
     ]
    },
    {
     "data": {
      "text/html": [
       "<div>\n",
       "<style scoped>\n",
       "    .dataframe tbody tr th:only-of-type {\n",
       "        vertical-align: middle;\n",
       "    }\n",
       "\n",
       "    .dataframe tbody tr th {\n",
       "        vertical-align: top;\n",
       "    }\n",
       "\n",
       "    .dataframe thead th {\n",
       "        text-align: right;\n",
       "    }\n",
       "</style>\n",
       "<table border=\"1\" class=\"dataframe\">\n",
       "  <thead>\n",
       "    <tr style=\"text-align: right;\">\n",
       "      <th></th>\n",
       "      <th>fl_matriz</th>\n",
       "      <th>de_natureza_juridica</th>\n",
       "      <th>sg_uf</th>\n",
       "      <th>natureza_juridica_macro</th>\n",
       "      <th>de_ramo</th>\n",
       "      <th>setor</th>\n",
       "      <th>idade_empresa_anos</th>\n",
       "      <th>idade_emp_cat</th>\n",
       "      <th>fl_me</th>\n",
       "      <th>fl_sa</th>\n",
       "      <th>...</th>\n",
       "      <th>nm_meso_regiao</th>\n",
       "      <th>nm_micro_regiao</th>\n",
       "      <th>fl_passivel_iss</th>\n",
       "      <th>qt_socios</th>\n",
       "      <th>idade_media_socios</th>\n",
       "      <th>qt_socios_feminino</th>\n",
       "      <th>de_faixa_faturamento_estimado</th>\n",
       "      <th>de_faixa_faturamento_estimado_grupo</th>\n",
       "      <th>vl_faturamento_estimado_aux</th>\n",
       "      <th>vl_faturamento_estimado_grupo_aux</th>\n",
       "    </tr>\n",
       "    <tr>\n",
       "      <th>id</th>\n",
       "      <th></th>\n",
       "      <th></th>\n",
       "      <th></th>\n",
       "      <th></th>\n",
       "      <th></th>\n",
       "      <th></th>\n",
       "      <th></th>\n",
       "      <th></th>\n",
       "      <th></th>\n",
       "      <th></th>\n",
       "      <th></th>\n",
       "      <th></th>\n",
       "      <th></th>\n",
       "      <th></th>\n",
       "      <th></th>\n",
       "      <th></th>\n",
       "      <th></th>\n",
       "      <th></th>\n",
       "      <th></th>\n",
       "      <th></th>\n",
       "      <th></th>\n",
       "    </tr>\n",
       "  </thead>\n",
       "  <tbody>\n",
       "    <tr>\n",
       "      <th>a6984c3ae395090e3bee8ad63c3758b110de096d5d819583a784a113726db849</th>\n",
       "      <td>True</td>\n",
       "      <td>SOCIEDADE EMPRESARIA LIMITADA</td>\n",
       "      <td>RN</td>\n",
       "      <td>ENTIDADES EMPRESARIAIS</td>\n",
       "      <td>INDUSTRIA DA CONSTRUCAO</td>\n",
       "      <td>CONSTRUÇÃO CIVIL</td>\n",
       "      <td>14.457534</td>\n",
       "      <td>10 a 15</td>\n",
       "      <td>False</td>\n",
       "      <td>False</td>\n",
       "      <td>...</td>\n",
       "      <td>LESTE POTIGUAR</td>\n",
       "      <td>NATAL</td>\n",
       "      <td>True</td>\n",
       "      <td>2.0</td>\n",
       "      <td>44.0</td>\n",
       "      <td>NaN</td>\n",
       "      <td>DE R$ 1.500.000,01 A R$ 4.800.000,00</td>\n",
       "      <td>DE R$ 1.500.000,01 A R$ 4.800.000,00</td>\n",
       "      <td>3132172.8</td>\n",
       "      <td>3132172.8</td>\n",
       "    </tr>\n",
       "    <tr>\n",
       "      <th>6178f41ade1365e44bc2c46654c2c8c0eaae27dcb476c47fdef50b33f4f56f05</th>\n",
       "      <td>True</td>\n",
       "      <td>EMPRESARIO INDIVIDUAL</td>\n",
       "      <td>PI</td>\n",
       "      <td>OUTROS</td>\n",
       "      <td>SERVICOS DE ALOJAMENTO/ALIMENTACAO</td>\n",
       "      <td>SERVIÇO</td>\n",
       "      <td>1.463014</td>\n",
       "      <td>1 a 5</td>\n",
       "      <td>False</td>\n",
       "      <td>False</td>\n",
       "      <td>...</td>\n",
       "      <td>CENTRO NORTE PIAUIENSE</td>\n",
       "      <td>TERESINA</td>\n",
       "      <td>True</td>\n",
       "      <td>1.0</td>\n",
       "      <td>27.0</td>\n",
       "      <td>NaN</td>\n",
       "      <td>DE R$ 81.000,01 A R$ 360.000,00</td>\n",
       "      <td>DE R$ 81.000,01 A R$ 360.000,00</td>\n",
       "      <td>210000.0</td>\n",
       "      <td>210000.0</td>\n",
       "    </tr>\n",
       "  </tbody>\n",
       "</table>\n",
       "<p>2 rows × 37 columns</p>\n",
       "</div>"
      ],
      "text/plain": [
       "                                                    fl_matriz  \\\n",
       "id                                                              \n",
       "a6984c3ae395090e3bee8ad63c3758b110de096d5d81958...       True   \n",
       "6178f41ade1365e44bc2c46654c2c8c0eaae27dcb476c47...       True   \n",
       "\n",
       "                                                             de_natureza_juridica  \\\n",
       "id                                                                                  \n",
       "a6984c3ae395090e3bee8ad63c3758b110de096d5d81958...  SOCIEDADE EMPRESARIA LIMITADA   \n",
       "6178f41ade1365e44bc2c46654c2c8c0eaae27dcb476c47...          EMPRESARIO INDIVIDUAL   \n",
       "\n",
       "                                                   sg_uf  \\\n",
       "id                                                         \n",
       "a6984c3ae395090e3bee8ad63c3758b110de096d5d81958...    RN   \n",
       "6178f41ade1365e44bc2c46654c2c8c0eaae27dcb476c47...    PI   \n",
       "\n",
       "                                                   natureza_juridica_macro  \\\n",
       "id                                                                           \n",
       "a6984c3ae395090e3bee8ad63c3758b110de096d5d81958...  ENTIDADES EMPRESARIAIS   \n",
       "6178f41ade1365e44bc2c46654c2c8c0eaae27dcb476c47...                  OUTROS   \n",
       "\n",
       "                                                                               de_ramo  \\\n",
       "id                                                                                       \n",
       "a6984c3ae395090e3bee8ad63c3758b110de096d5d81958...             INDUSTRIA DA CONSTRUCAO   \n",
       "6178f41ade1365e44bc2c46654c2c8c0eaae27dcb476c47...  SERVICOS DE ALOJAMENTO/ALIMENTACAO   \n",
       "\n",
       "                                                               setor  \\\n",
       "id                                                                     \n",
       "a6984c3ae395090e3bee8ad63c3758b110de096d5d81958...  CONSTRUÇÃO CIVIL   \n",
       "6178f41ade1365e44bc2c46654c2c8c0eaae27dcb476c47...           SERVIÇO   \n",
       "\n",
       "                                                    idade_empresa_anos  \\\n",
       "id                                                                       \n",
       "a6984c3ae395090e3bee8ad63c3758b110de096d5d81958...           14.457534   \n",
       "6178f41ade1365e44bc2c46654c2c8c0eaae27dcb476c47...            1.463014   \n",
       "\n",
       "                                                   idade_emp_cat  fl_me  \\\n",
       "id                                                                        \n",
       "a6984c3ae395090e3bee8ad63c3758b110de096d5d81958...       10 a 15  False   \n",
       "6178f41ade1365e44bc2c46654c2c8c0eaae27dcb476c47...         1 a 5  False   \n",
       "\n",
       "                                                    fl_sa  ...  \\\n",
       "id                                                         ...   \n",
       "a6984c3ae395090e3bee8ad63c3758b110de096d5d81958...  False  ...   \n",
       "6178f41ade1365e44bc2c46654c2c8c0eaae27dcb476c47...  False  ...   \n",
       "\n",
       "                                                            nm_meso_regiao  \\\n",
       "id                                                                           \n",
       "a6984c3ae395090e3bee8ad63c3758b110de096d5d81958...          LESTE POTIGUAR   \n",
       "6178f41ade1365e44bc2c46654c2c8c0eaae27dcb476c47...  CENTRO NORTE PIAUIENSE   \n",
       "\n",
       "                                                    nm_micro_regiao  \\\n",
       "id                                                                    \n",
       "a6984c3ae395090e3bee8ad63c3758b110de096d5d81958...            NATAL   \n",
       "6178f41ade1365e44bc2c46654c2c8c0eaae27dcb476c47...         TERESINA   \n",
       "\n",
       "                                                   fl_passivel_iss  qt_socios  \\\n",
       "id                                                                              \n",
       "a6984c3ae395090e3bee8ad63c3758b110de096d5d81958...            True        2.0   \n",
       "6178f41ade1365e44bc2c46654c2c8c0eaae27dcb476c47...            True        1.0   \n",
       "\n",
       "                                                    idade_media_socios  \\\n",
       "id                                                                       \n",
       "a6984c3ae395090e3bee8ad63c3758b110de096d5d81958...                44.0   \n",
       "6178f41ade1365e44bc2c46654c2c8c0eaae27dcb476c47...                27.0   \n",
       "\n",
       "                                                    qt_socios_feminino  \\\n",
       "id                                                                       \n",
       "a6984c3ae395090e3bee8ad63c3758b110de096d5d81958...                 NaN   \n",
       "6178f41ade1365e44bc2c46654c2c8c0eaae27dcb476c47...                 NaN   \n",
       "\n",
       "                                                           de_faixa_faturamento_estimado  \\\n",
       "id                                                                                         \n",
       "a6984c3ae395090e3bee8ad63c3758b110de096d5d81958...  DE R$ 1.500.000,01 A R$ 4.800.000,00   \n",
       "6178f41ade1365e44bc2c46654c2c8c0eaae27dcb476c47...       DE R$ 81.000,01 A R$ 360.000,00   \n",
       "\n",
       "                                                     de_faixa_faturamento_estimado_grupo  \\\n",
       "id                                                                                         \n",
       "a6984c3ae395090e3bee8ad63c3758b110de096d5d81958...  DE R$ 1.500.000,01 A R$ 4.800.000,00   \n",
       "6178f41ade1365e44bc2c46654c2c8c0eaae27dcb476c47...       DE R$ 81.000,01 A R$ 360.000,00   \n",
       "\n",
       "                                                   vl_faturamento_estimado_aux  \\\n",
       "id                                                                               \n",
       "a6984c3ae395090e3bee8ad63c3758b110de096d5d81958...                   3132172.8   \n",
       "6178f41ade1365e44bc2c46654c2c8c0eaae27dcb476c47...                    210000.0   \n",
       "\n",
       "                                                   vl_faturamento_estimado_grupo_aux  \n",
       "id                                                                                    \n",
       "a6984c3ae395090e3bee8ad63c3758b110de096d5d81958...                         3132172.8  \n",
       "6178f41ade1365e44bc2c46654c2c8c0eaae27dcb476c47...                          210000.0  \n",
       "\n",
       "[2 rows x 37 columns]"
      ]
     },
     "execution_count": 3,
     "metadata": {},
     "output_type": "execute_result"
    }
   ],
   "source": [
    "import os, wget\n",
    "market_file = 'estaticos_market.feather'\n",
    "url_market = 'https://owncloud.ifsc.edu.br/index.php/s/vH4JMIAOuAqvmRc/download'\n",
    "if not os.path.exists(market_file):\n",
    "    try:\n",
    "        #Tip from https://stackabuse.com/download-files-with-python/\n",
    "        print('Downloading market database...')\n",
    "        wget.download(url_market, market_file)\n",
    "        print('Done!')\n",
    "    except:\n",
    "        print('Error downloading market database. Check url and connection.')\n",
    "        raise\n",
    "\n",
    "print('Opening market database...')\n",
    "base = pd.read_feather(market_file)\n",
    "print('Done opening market database.')\n",
    "base.set_index('id',inplace=True)\n",
    "base.head(2)"
   ]
  },
  {
   "cell_type": "markdown",
   "metadata": {},
   "source": [
    "# Pré-Processamento\n"
   ]
  },
  {
   "cell_type": "markdown",
   "metadata": {},
   "source": [
    "## Inicialmente identificar como serão preenchidos os NaNs de acordo com seu tipo"
   ]
  },
  {
   "cell_type": "code",
   "execution_count": 4,
   "metadata": {
    "scrolled": true
   },
   "outputs": [],
   "source": [
    "fill_dict = base.dtypes.to_dict()\n",
    "# Categorias em que existiam NaNs e são categóricas, mas deveriam ser booleans\n",
    "cat2bool = ['fl_optante_simei','fl_optante_simples','fl_passivel_iss']\n",
    "\n",
    "for feature in fill_dict:\n",
    "    if(fill_dict[feature] == bool):\n",
    "        fill_dict[feature] = False\n",
    "    elif(fill_dict[feature] == object):\n",
    "        fill_dict[feature] = 'other'\n",
    "    else:\n",
    "        fill_dict[feature] = 0\n",
    "    if feature in cat2bool:\n",
    "        fill_dict[feature] = False\n",
    "        \n",
    "#fill_dict"
   ]
  },
  {
   "cell_type": "markdown",
   "metadata": {},
   "source": [
    "## Executando o preenchimento de NaNs"
   ]
  },
  {
   "cell_type": "code",
   "execution_count": 5,
   "metadata": {},
   "outputs": [],
   "source": [
    "base.fillna(value=fill_dict, inplace=True)\n",
    "base[cat2bool] = base[cat2bool].astype(bool)\n",
    "bool2numeric = base.columns[base.dtypes == bool]\n",
    "\n",
    "base[bool2numeric] = base[bool2numeric].astype(int)"
   ]
  },
  {
   "cell_type": "markdown",
   "metadata": {},
   "source": [
    "## Encoding"
   ]
  },
  {
   "cell_type": "code",
   "execution_count": 6,
   "metadata": {},
   "outputs": [],
   "source": [
    "cat = base.columns[base.dtypes == object]\n",
    "not_cat = base.columns[base.dtypes != object]"
   ]
  },
  {
   "cell_type": "code",
   "execution_count": 7,
   "metadata": {},
   "outputs": [],
   "source": [
    "# Usando LabelEncoder\n",
    "#https://chrisalbon.com/machine_learning/preprocessing_structured_data/convert_pandas_categorical_column_into_integers_for_scikit-learn/\n",
    "\n",
    "# Create a label (category) encoder object\n",
    "le = preprocessing.LabelEncoder()"
   ]
  },
  {
   "cell_type": "code",
   "execution_count": 8,
   "metadata": {
    "scrolled": true
   },
   "outputs": [
    {
     "data": {
      "text/html": [
       "<div>\n",
       "<style scoped>\n",
       "    .dataframe tbody tr th:only-of-type {\n",
       "        vertical-align: middle;\n",
       "    }\n",
       "\n",
       "    .dataframe tbody tr th {\n",
       "        vertical-align: top;\n",
       "    }\n",
       "\n",
       "    .dataframe thead th {\n",
       "        text-align: right;\n",
       "    }\n",
       "</style>\n",
       "<table border=\"1\" class=\"dataframe\">\n",
       "  <thead>\n",
       "    <tr style=\"text-align: right;\">\n",
       "      <th></th>\n",
       "      <th>fl_matriz</th>\n",
       "      <th>idade_empresa_anos</th>\n",
       "      <th>fl_me</th>\n",
       "      <th>fl_sa</th>\n",
       "      <th>fl_mei</th>\n",
       "      <th>fl_ltda</th>\n",
       "      <th>fl_st_especial</th>\n",
       "      <th>fl_email</th>\n",
       "      <th>fl_telefone</th>\n",
       "      <th>fl_optante_simples</th>\n",
       "      <th>...</th>\n",
       "      <th>nm_divisao</th>\n",
       "      <th>nm_segmento</th>\n",
       "      <th>sg_uf_matriz</th>\n",
       "      <th>de_saude_tributaria</th>\n",
       "      <th>de_saude_rescencia</th>\n",
       "      <th>de_nivel_atividade</th>\n",
       "      <th>nm_meso_regiao</th>\n",
       "      <th>nm_micro_regiao</th>\n",
       "      <th>de_faixa_faturamento_estimado</th>\n",
       "      <th>de_faixa_faturamento_estimado_grupo</th>\n",
       "    </tr>\n",
       "    <tr>\n",
       "      <th>id</th>\n",
       "      <th></th>\n",
       "      <th></th>\n",
       "      <th></th>\n",
       "      <th></th>\n",
       "      <th></th>\n",
       "      <th></th>\n",
       "      <th></th>\n",
       "      <th></th>\n",
       "      <th></th>\n",
       "      <th></th>\n",
       "      <th></th>\n",
       "      <th></th>\n",
       "      <th></th>\n",
       "      <th></th>\n",
       "      <th></th>\n",
       "      <th></th>\n",
       "      <th></th>\n",
       "      <th></th>\n",
       "      <th></th>\n",
       "      <th></th>\n",
       "      <th></th>\n",
       "    </tr>\n",
       "  </thead>\n",
       "  <tbody>\n",
       "    <tr>\n",
       "      <th>a6984c3ae395090e3bee8ad63c3758b110de096d5d819583a784a113726db849</th>\n",
       "      <td>1</td>\n",
       "      <td>14.457534</td>\n",
       "      <td>0</td>\n",
       "      <td>0</td>\n",
       "      <td>0</td>\n",
       "      <td>0</td>\n",
       "      <td>0</td>\n",
       "      <td>1</td>\n",
       "      <td>1</td>\n",
       "      <td>1</td>\n",
       "      <td>...</td>\n",
       "      <td>32</td>\n",
       "      <td>10</td>\n",
       "      <td>19</td>\n",
       "      <td>4</td>\n",
       "      <td>0</td>\n",
       "      <td>0</td>\n",
       "      <td>6</td>\n",
       "      <td>48</td>\n",
       "      <td>2</td>\n",
       "      <td>2</td>\n",
       "    </tr>\n",
       "    <tr>\n",
       "      <th>6178f41ade1365e44bc2c46654c2c8c0eaae27dcb476c47fdef50b33f4f56f05</th>\n",
       "      <td>1</td>\n",
       "      <td>1.463014</td>\n",
       "      <td>0</td>\n",
       "      <td>0</td>\n",
       "      <td>1</td>\n",
       "      <td>0</td>\n",
       "      <td>0</td>\n",
       "      <td>1</td>\n",
       "      <td>1</td>\n",
       "      <td>0</td>\n",
       "      <td>...</td>\n",
       "      <td>3</td>\n",
       "      <td>3</td>\n",
       "      <td>16</td>\n",
       "      <td>2</td>\n",
       "      <td>1</td>\n",
       "      <td>1</td>\n",
       "      <td>4</td>\n",
       "      <td>69</td>\n",
       "      <td>10</td>\n",
       "      <td>10</td>\n",
       "    </tr>\n",
       "    <tr>\n",
       "      <th>4a7e5069a397f12fdd7fd57111d6dc5d3ba558958efc02edc5147bc2a2535b08</th>\n",
       "      <td>1</td>\n",
       "      <td>7.093151</td>\n",
       "      <td>0</td>\n",
       "      <td>0</td>\n",
       "      <td>1</td>\n",
       "      <td>0</td>\n",
       "      <td>0</td>\n",
       "      <td>0</td>\n",
       "      <td>1</td>\n",
       "      <td>1</td>\n",
       "      <td>...</td>\n",
       "      <td>86</td>\n",
       "      <td>20</td>\n",
       "      <td>2</td>\n",
       "      <td>0</td>\n",
       "      <td>0</td>\n",
       "      <td>2</td>\n",
       "      <td>2</td>\n",
       "      <td>43</td>\n",
       "      <td>1</td>\n",
       "      <td>1</td>\n",
       "    </tr>\n",
       "    <tr>\n",
       "      <th>3348900fe63216a439d2e5238c79ddd46ede454df7b9d8c24ac33eb21d4b21ef</th>\n",
       "      <td>1</td>\n",
       "      <td>6.512329</td>\n",
       "      <td>0</td>\n",
       "      <td>0</td>\n",
       "      <td>0</td>\n",
       "      <td>0</td>\n",
       "      <td>0</td>\n",
       "      <td>1</td>\n",
       "      <td>1</td>\n",
       "      <td>1</td>\n",
       "      <td>...</td>\n",
       "      <td>74</td>\n",
       "      <td>17</td>\n",
       "      <td>2</td>\n",
       "      <td>0</td>\n",
       "      <td>0</td>\n",
       "      <td>2</td>\n",
       "      <td>2</td>\n",
       "      <td>43</td>\n",
       "      <td>10</td>\n",
       "      <td>10</td>\n",
       "    </tr>\n",
       "    <tr>\n",
       "      <th>1f9bcabc9d3173c1fe769899e4fac14b053037b953a1e4b102c769f7611ab29f</th>\n",
       "      <td>1</td>\n",
       "      <td>3.200000</td>\n",
       "      <td>0</td>\n",
       "      <td>0</td>\n",
       "      <td>0</td>\n",
       "      <td>0</td>\n",
       "      <td>0</td>\n",
       "      <td>1</td>\n",
       "      <td>1</td>\n",
       "      <td>1</td>\n",
       "      <td>...</td>\n",
       "      <td>77</td>\n",
       "      <td>8</td>\n",
       "      <td>19</td>\n",
       "      <td>4</td>\n",
       "      <td>0</td>\n",
       "      <td>0</td>\n",
       "      <td>6</td>\n",
       "      <td>48</td>\n",
       "      <td>10</td>\n",
       "      <td>10</td>\n",
       "    </tr>\n",
       "  </tbody>\n",
       "</table>\n",
       "<p>5 rows × 37 columns</p>\n",
       "</div>"
      ],
      "text/plain": [
       "                                                    fl_matriz  \\\n",
       "id                                                              \n",
       "a6984c3ae395090e3bee8ad63c3758b110de096d5d81958...          1   \n",
       "6178f41ade1365e44bc2c46654c2c8c0eaae27dcb476c47...          1   \n",
       "4a7e5069a397f12fdd7fd57111d6dc5d3ba558958efc02e...          1   \n",
       "3348900fe63216a439d2e5238c79ddd46ede454df7b9d8c...          1   \n",
       "1f9bcabc9d3173c1fe769899e4fac14b053037b953a1e4b...          1   \n",
       "\n",
       "                                                    idade_empresa_anos  fl_me  \\\n",
       "id                                                                              \n",
       "a6984c3ae395090e3bee8ad63c3758b110de096d5d81958...           14.457534      0   \n",
       "6178f41ade1365e44bc2c46654c2c8c0eaae27dcb476c47...            1.463014      0   \n",
       "4a7e5069a397f12fdd7fd57111d6dc5d3ba558958efc02e...            7.093151      0   \n",
       "3348900fe63216a439d2e5238c79ddd46ede454df7b9d8c...            6.512329      0   \n",
       "1f9bcabc9d3173c1fe769899e4fac14b053037b953a1e4b...            3.200000      0   \n",
       "\n",
       "                                                    fl_sa  fl_mei  fl_ltda  \\\n",
       "id                                                                           \n",
       "a6984c3ae395090e3bee8ad63c3758b110de096d5d81958...      0       0        0   \n",
       "6178f41ade1365e44bc2c46654c2c8c0eaae27dcb476c47...      0       1        0   \n",
       "4a7e5069a397f12fdd7fd57111d6dc5d3ba558958efc02e...      0       1        0   \n",
       "3348900fe63216a439d2e5238c79ddd46ede454df7b9d8c...      0       0        0   \n",
       "1f9bcabc9d3173c1fe769899e4fac14b053037b953a1e4b...      0       0        0   \n",
       "\n",
       "                                                    fl_st_especial  fl_email  \\\n",
       "id                                                                             \n",
       "a6984c3ae395090e3bee8ad63c3758b110de096d5d81958...               0         1   \n",
       "6178f41ade1365e44bc2c46654c2c8c0eaae27dcb476c47...               0         1   \n",
       "4a7e5069a397f12fdd7fd57111d6dc5d3ba558958efc02e...               0         0   \n",
       "3348900fe63216a439d2e5238c79ddd46ede454df7b9d8c...               0         1   \n",
       "1f9bcabc9d3173c1fe769899e4fac14b053037b953a1e4b...               0         1   \n",
       "\n",
       "                                                    fl_telefone  \\\n",
       "id                                                                \n",
       "a6984c3ae395090e3bee8ad63c3758b110de096d5d81958...            1   \n",
       "6178f41ade1365e44bc2c46654c2c8c0eaae27dcb476c47...            1   \n",
       "4a7e5069a397f12fdd7fd57111d6dc5d3ba558958efc02e...            1   \n",
       "3348900fe63216a439d2e5238c79ddd46ede454df7b9d8c...            1   \n",
       "1f9bcabc9d3173c1fe769899e4fac14b053037b953a1e4b...            1   \n",
       "\n",
       "                                                    fl_optante_simples  ...  \\\n",
       "id                                                                      ...   \n",
       "a6984c3ae395090e3bee8ad63c3758b110de096d5d81958...                   1  ...   \n",
       "6178f41ade1365e44bc2c46654c2c8c0eaae27dcb476c47...                   0  ...   \n",
       "4a7e5069a397f12fdd7fd57111d6dc5d3ba558958efc02e...                   1  ...   \n",
       "3348900fe63216a439d2e5238c79ddd46ede454df7b9d8c...                   1  ...   \n",
       "1f9bcabc9d3173c1fe769899e4fac14b053037b953a1e4b...                   1  ...   \n",
       "\n",
       "                                                    nm_divisao  nm_segmento  \\\n",
       "id                                                                            \n",
       "a6984c3ae395090e3bee8ad63c3758b110de096d5d81958...          32           10   \n",
       "6178f41ade1365e44bc2c46654c2c8c0eaae27dcb476c47...           3            3   \n",
       "4a7e5069a397f12fdd7fd57111d6dc5d3ba558958efc02e...          86           20   \n",
       "3348900fe63216a439d2e5238c79ddd46ede454df7b9d8c...          74           17   \n",
       "1f9bcabc9d3173c1fe769899e4fac14b053037b953a1e4b...          77            8   \n",
       "\n",
       "                                                    sg_uf_matriz  \\\n",
       "id                                                                 \n",
       "a6984c3ae395090e3bee8ad63c3758b110de096d5d81958...            19   \n",
       "6178f41ade1365e44bc2c46654c2c8c0eaae27dcb476c47...            16   \n",
       "4a7e5069a397f12fdd7fd57111d6dc5d3ba558958efc02e...             2   \n",
       "3348900fe63216a439d2e5238c79ddd46ede454df7b9d8c...             2   \n",
       "1f9bcabc9d3173c1fe769899e4fac14b053037b953a1e4b...            19   \n",
       "\n",
       "                                                    de_saude_tributaria  \\\n",
       "id                                                                        \n",
       "a6984c3ae395090e3bee8ad63c3758b110de096d5d81958...                    4   \n",
       "6178f41ade1365e44bc2c46654c2c8c0eaae27dcb476c47...                    2   \n",
       "4a7e5069a397f12fdd7fd57111d6dc5d3ba558958efc02e...                    0   \n",
       "3348900fe63216a439d2e5238c79ddd46ede454df7b9d8c...                    0   \n",
       "1f9bcabc9d3173c1fe769899e4fac14b053037b953a1e4b...                    4   \n",
       "\n",
       "                                                    de_saude_rescencia  \\\n",
       "id                                                                       \n",
       "a6984c3ae395090e3bee8ad63c3758b110de096d5d81958...                   0   \n",
       "6178f41ade1365e44bc2c46654c2c8c0eaae27dcb476c47...                   1   \n",
       "4a7e5069a397f12fdd7fd57111d6dc5d3ba558958efc02e...                   0   \n",
       "3348900fe63216a439d2e5238c79ddd46ede454df7b9d8c...                   0   \n",
       "1f9bcabc9d3173c1fe769899e4fac14b053037b953a1e4b...                   0   \n",
       "\n",
       "                                                    de_nivel_atividade  \\\n",
       "id                                                                       \n",
       "a6984c3ae395090e3bee8ad63c3758b110de096d5d81958...                   0   \n",
       "6178f41ade1365e44bc2c46654c2c8c0eaae27dcb476c47...                   1   \n",
       "4a7e5069a397f12fdd7fd57111d6dc5d3ba558958efc02e...                   2   \n",
       "3348900fe63216a439d2e5238c79ddd46ede454df7b9d8c...                   2   \n",
       "1f9bcabc9d3173c1fe769899e4fac14b053037b953a1e4b...                   0   \n",
       "\n",
       "                                                    nm_meso_regiao  \\\n",
       "id                                                                   \n",
       "a6984c3ae395090e3bee8ad63c3758b110de096d5d81958...               6   \n",
       "6178f41ade1365e44bc2c46654c2c8c0eaae27dcb476c47...               4   \n",
       "4a7e5069a397f12fdd7fd57111d6dc5d3ba558958efc02e...               2   \n",
       "3348900fe63216a439d2e5238c79ddd46ede454df7b9d8c...               2   \n",
       "1f9bcabc9d3173c1fe769899e4fac14b053037b953a1e4b...               6   \n",
       "\n",
       "                                                    nm_micro_regiao  \\\n",
       "id                                                                    \n",
       "a6984c3ae395090e3bee8ad63c3758b110de096d5d81958...               48   \n",
       "6178f41ade1365e44bc2c46654c2c8c0eaae27dcb476c47...               69   \n",
       "4a7e5069a397f12fdd7fd57111d6dc5d3ba558958efc02e...               43   \n",
       "3348900fe63216a439d2e5238c79ddd46ede454df7b9d8c...               43   \n",
       "1f9bcabc9d3173c1fe769899e4fac14b053037b953a1e4b...               48   \n",
       "\n",
       "                                                    de_faixa_faturamento_estimado  \\\n",
       "id                                                                                  \n",
       "a6984c3ae395090e3bee8ad63c3758b110de096d5d81958...                              2   \n",
       "6178f41ade1365e44bc2c46654c2c8c0eaae27dcb476c47...                             10   \n",
       "4a7e5069a397f12fdd7fd57111d6dc5d3ba558958efc02e...                              1   \n",
       "3348900fe63216a439d2e5238c79ddd46ede454df7b9d8c...                             10   \n",
       "1f9bcabc9d3173c1fe769899e4fac14b053037b953a1e4b...                             10   \n",
       "\n",
       "                                                    de_faixa_faturamento_estimado_grupo  \n",
       "id                                                                                       \n",
       "a6984c3ae395090e3bee8ad63c3758b110de096d5d81958...                                    2  \n",
       "6178f41ade1365e44bc2c46654c2c8c0eaae27dcb476c47...                                   10  \n",
       "4a7e5069a397f12fdd7fd57111d6dc5d3ba558958efc02e...                                    1  \n",
       "3348900fe63216a439d2e5238c79ddd46ede454df7b9d8c...                                   10  \n",
       "1f9bcabc9d3173c1fe769899e4fac14b053037b953a1e4b...                                   10  \n",
       "\n",
       "[5 rows x 37 columns]"
      ]
     },
     "execution_count": 8,
     "metadata": {},
     "output_type": "execute_result"
    }
   ],
   "source": [
    "base_le = pd.DataFrame()\n",
    "base_le[cat] = base[cat].apply(lambda col: le.fit_transform(col))\n",
    "base_encoded = pd.concat([base[not_cat],base_le], axis =1)\n",
    "base_encoded.head()\n"
   ]
  },
  {
   "cell_type": "markdown",
   "metadata": {},
   "source": [
    "Aplicando encoding ao portfólio."
   ]
  },
  {
   "cell_type": "code",
   "execution_count": 9,
   "metadata": {},
   "outputs": [],
   "source": [
    "port_le = base_encoded.merge(port, how='right',left_index=True,right_index=True)\n",
    "port = base.merge(port, how='right',left_index=True,right_index=True)"
   ]
  },
  {
   "cell_type": "markdown",
   "metadata": {},
   "source": [
    "# Modelo com Nearest Neighbors "
   ]
  },
  {
   "cell_type": "markdown",
   "metadata": {},
   "source": [
    "Como não temos variável-alvo, usamos o treinamento não supervisionado do Nearest Neighbors."
   ]
  },
  {
   "cell_type": "code",
   "execution_count": 10,
   "metadata": {},
   "outputs": [
    {
     "name": "stdout",
     "output_type": "stream",
     "text": [
      "CPU times: user 434 ms, sys: 429 ms, total: 863 ms\n",
      "Wall time: 862 ms\n"
     ]
    },
    {
     "data": {
      "text/plain": [
       "NearestNeighbors(algorithm='auto', leaf_size=30, metric='cosine',\n",
       "                 metric_params=None, n_jobs=None, n_neighbors=5, p=2,\n",
       "                 radius=1.0)"
      ]
     },
     "execution_count": 10,
     "metadata": {},
     "output_type": "execute_result"
    }
   ],
   "source": [
    "%%time\n",
    "\n",
    "qtd_neighbors = 5\n",
    "nearest = NearestNeighbors(n_neighbors=qtd_neighbors, metric = 'cosine')\n",
    "\n",
    "nearest.fit(base_encoded)\n"
   ]
  },
  {
   "cell_type": "markdown",
   "metadata": {},
   "source": [
    "## Separação \"treinamento\" e teste\n",
    "\n",
    "Esta separação deve ser usada somente para avaliação, não para a versão final."
   ]
  },
  {
   "cell_type": "code",
   "execution_count": 11,
   "metadata": {},
   "outputs": [
    {
     "name": "stdout",
     "output_type": "stream",
     "text": [
      "Tamanho do \"treinamento\": (185, 37)\n",
      "Tamanho do teste para avaliação: (80, 37)\n"
     ]
    }
   ],
   "source": [
    "from sklearn.model_selection import train_test_split\n",
    "# ignorar y. Só usamos X\n",
    "X_train, X_test, y_train, y_test = train_test_split(\n",
    "    port_le, list(range(len(port_le))), test_size=0.3, random_state=17)\n",
    "print(f'Tamanho do \"treinamento\": {X_train.shape}')\n",
    "print(f'Tamanho do teste para avaliação: {X_test.shape}')"
   ]
  },
  {
   "cell_type": "markdown",
   "metadata": {},
   "source": [
    "## Procurando por sugestões"
   ]
  },
  {
   "cell_type": "code",
   "execution_count": 12,
   "metadata": {},
   "outputs": [
    {
     "name": "stdout",
     "output_type": "stream",
     "text": [
      "CPU times: user 2min 21s, sys: 1min 7s, total: 3min 29s\n",
      "Wall time: 2min 15s\n"
     ]
    }
   ],
   "source": [
    "%%time\n",
    "neighbors_list = {}\n",
    "\n",
    "for row in range(X_train.shape[0]):\n",
    "    #print(row)\n",
    "    neighbors_list[row] = nearest.kneighbors(X_train.iloc[[row]].values)"
   ]
  },
  {
   "cell_type": "markdown",
   "metadata": {},
   "source": [
    "A resposta é uma lista de distâncias e de sugestões de clientes."
   ]
  },
  {
   "cell_type": "markdown",
   "metadata": {},
   "source": [
    "# Processamento da lista de sugestões"
   ]
  },
  {
   "cell_type": "markdown",
   "metadata": {},
   "source": [
    "Da lista de vizinhos, filtrar os clientes pertencentes ao portfólio de entrada."
   ]
  },
  {
   "cell_type": "code",
   "execution_count": 13,
   "metadata": {},
   "outputs": [],
   "source": [
    "list_size = len(neighbors_list)\n",
    "num_neighbors = len(neighbors_list[0][1][0])\n",
    "\n",
    "neighbors_idx_array = neighbors_list[0][1][0]\n",
    "neighbors_distance_array = neighbors_list[0][0][0]\n",
    "np.delete(neighbors_idx_array, [0,1])\n",
    "np.delete(neighbors_distance_array, [0,1])\n",
    "for line in range(1,list_size):\n",
    "    neighbors_idx_array = np.concatenate((neighbors_idx_array, neighbors_list[line][1][0]), axis=None) \n",
    "    neighbors_distance_array = np.concatenate((neighbors_distance_array, neighbors_list[line][0][0]), axis=None) \n",
    "\n",
    "if len(neighbors_idx_array) != list_size*num_neighbors:\n",
    "    print(\"ERROR: Check array size.\")\n",
    "# Temos agora um array unidimensional com os índices dos clientes recomendados)"
   ]
  },
  {
   "cell_type": "markdown",
   "metadata": {},
   "source": [
    "Criar um dicionário com o id de origem da requisição, id do vizinho e distância entre eles"
   ]
  },
  {
   "cell_type": "code",
   "execution_count": 14,
   "metadata": {},
   "outputs": [],
   "source": [
    "dicio = {}\n",
    "for idx,ind in zip(neighbors_idx_array, range(len(neighbors_idx_array))):\n",
    "    dicio[ind] = (port.iloc[int(ind/qtd_neighbors)].name, base.iloc[idx].name, (neighbors_distance_array[ind]))"
   ]
  },
  {
   "cell_type": "markdown",
   "metadata": {},
   "source": [
    "Criando um DataFrame com as sugestões."
   ]
  },
  {
   "cell_type": "code",
   "execution_count": 15,
   "metadata": {},
   "outputs": [],
   "source": [
    "neig_df = pd.DataFrame.from_dict(dicio,orient='index')\n",
    "neig_df.rename(columns={0:'id_origin', 1:'id',2:'distance'},inplace = True)\n",
    "neig_df.set_index('id', inplace=True)"
   ]
  },
  {
   "cell_type": "markdown",
   "metadata": {},
   "source": [
    "Identificando os conflitos e removendo da lista de sugestões."
   ]
  },
  {
   "cell_type": "code",
   "execution_count": 16,
   "metadata": {},
   "outputs": [],
   "source": [
    "conflicts = neig_df.merge(X_train, how='inner',left_index=True,right_index=True)\n",
    "suggestion_with_conflicts = neig_df.merge(base, how='left',left_index=True,right_index=True)\n",
    "\n",
    "suggestions = suggestion_with_conflicts.drop(conflicts.index)"
   ]
  },
  {
   "cell_type": "markdown",
   "metadata": {},
   "source": [
    "**Resultado**: lista de sugestões em `suggestions`."
   ]
  },
  {
   "cell_type": "markdown",
   "metadata": {},
   "source": [
    "# Análise dos resultados"
   ]
  },
  {
   "cell_type": "code",
   "execution_count": 17,
   "metadata": {},
   "outputs": [],
   "source": [
    "# Verificar número de hits (quantas sugestões são parte de um conjunto de teste)\n",
    "def count_hits_in_suggestion(df_suggestions, df_X_test): #suggestions e X_test são dataframes\n",
    "    X_list = df_X_test.index.to_list()\n",
    "    hits = 0\n",
    "    for sugg in df_suggestions.index.to_list():\n",
    "        hits = hits + X_list.count(sugg)\n",
    "    return hits"
   ]
  },
  {
   "cell_type": "code",
   "execution_count": 18,
   "metadata": {},
   "outputs": [],
   "source": [
    "our_hits = count_hits_in_suggestion(suggestions, X_test)"
   ]
  },
  {
   "cell_type": "code",
   "execution_count": 19,
   "metadata": {},
   "outputs": [],
   "source": [
    "# Compara com sorteio aleatório (random picking) da base market\n",
    "\n",
    "n_picking = len(suggestions) # quantidade de sugestões a sortear\n",
    "\n",
    "# Simulação de Monte Carlo, ou seja, sortear um conjunto várias vezes e depois fazer a média\n",
    "monte_carlo_size = 500\n",
    "num_hits = int(0)\n",
    "for k in range(monte_carlo_size):\n",
    "    random_suggestion = base_encoded.sample(n = n_picking)\n",
    "    num_hits = num_hits + count_hits_in_suggestion(random_suggestion, X_test)\n",
    "mean_num_hits = num_hits / monte_carlo_size"
   ]
  },
  {
   "cell_type": "code",
   "execution_count": 20,
   "metadata": {},
   "outputs": [
    {
     "name": "stdout",
     "output_type": "stream",
     "text": [
      "Number of hits in our suggestion: 0.\n",
      "They represent 0.00% of the test size.\n",
      "\n",
      "For random suggestion, we found an average of 0.09 hits.\n",
      "They represent 0.11% of the test size.\n"
     ]
    }
   ],
   "source": [
    "print(f'Number of hits in our suggestion: {our_hits}.')\n",
    "print(f'They represent {100*our_hits/len(X_test):.2f}% of the test size.\\n')\n",
    "\n",
    "print(f'For random suggestion, we found an average of {mean_num_hits:.2f} hits.')\n",
    "print(f'They represent {100*mean_num_hits/len(X_test):.2f}% of the test size.')"
   ]
  }
 ],
 "metadata": {
  "kernelspec": {
   "display_name": "Python 3",
   "language": "python",
   "name": "python3"
  },
  "language_info": {
   "codemirror_mode": {
    "name": "ipython",
    "version": 3
   },
   "file_extension": ".py",
   "mimetype": "text/x-python",
   "name": "python",
   "nbconvert_exporter": "python",
   "pygments_lexer": "ipython3",
   "version": "3.6.8"
  },
  "toc": {
   "base_numbering": 1,
   "nav_menu": {},
   "number_sections": true,
   "sideBar": true,
   "skip_h1_title": false,
   "title_cell": "Table of Contents",
   "title_sidebar": "Contents",
   "toc_cell": false,
   "toc_position": {},
   "toc_section_display": true,
   "toc_window_display": false
  }
 },
 "nbformat": 4,
 "nbformat_minor": 2
}
