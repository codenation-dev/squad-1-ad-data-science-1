{
 "cells": [
  {
   "cell_type": "markdown",
   "metadata": {},
   "source": [
    "# Objetivo\n",
    "Serviço que recebe lista de atuais clientes do usuário e retorna novos potenciais clientes. "
   ]
  },
  {
   "cell_type": "markdown",
   "metadata": {},
   "source": [
    "# Método para avaliação\n",
    "\n",
    "1. Clusterizar banco completo usando **Agglomerative Clustering + KNN**. Com Agglomerative, geram-se os labels para 2% do banco (mais do que isso, dá erro de memória). Depois, KNN entra como classificador supervisionado para clusterizar os restantes 98% do banco. O resultado é uma classificação: a qual cluster cada cliente pertence\n",
    "2. Ler arquivo com lista de IDs de clientes atuais\n",
    "3. Separar parte para teste\n",
    "4. Identificar clusters da lista de clientes atuais\n",
    "5. Buscar novos clientes dos mesmos clusters no banco completo\n",
    "6. Avaliar se lista de recomendações/sugestões inclui a parte separada para teste\n",
    "\n",
    "Versão final deve ser:\n",
    "1. Ler arquivo com lista de IDs de clientes atuais\n",
    "2. Ler banco clusterizado\n",
    "3. Identificar clusters da lista de clientes atuais\n",
    "4. Buscar novos clientes dos mesmos clusters no banco completo\n",
    "5. Apresentar resultados"
   ]
  },
  {
   "cell_type": "markdown",
   "metadata": {},
   "source": [
    "# Imports"
   ]
  },
  {
   "cell_type": "code",
   "execution_count": 1,
   "metadata": {},
   "outputs": [],
   "source": [
    "# imports\n",
    "import pandas as pd\n",
    "import numpy as np\n",
    "import feather"
   ]
  },
  {
   "cell_type": "markdown",
   "metadata": {},
   "source": [
    "# Carregamento do banco de dados com colunas filtradas"
   ]
  },
  {
   "cell_type": "code",
   "execution_count": 2,
   "metadata": {
    "scrolled": true
   },
   "outputs": [
    {
     "name": "stdout",
     "output_type": "stream",
     "text": [
      "<class 'pandas.core.frame.DataFrame'>\n",
      "Index: 462298 entries, a6984c3ae395090e3bee8ad63c3758b110de096d5d819583a784a113726db849 to 3d43e934e150b86be1e67524f5ba1018b27da9ef25566d9c0607623ae7f25e3a\n",
      "Data columns (total 47 columns):\n",
      "fl_matriz                                462298 non-null bool\n",
      "de_natureza_juridica                     462298 non-null object\n",
      "sg_uf                                    462298 non-null object\n",
      "natureza_juridica_macro                  462298 non-null object\n",
      "de_ramo                                  462298 non-null object\n",
      "setor                                    460371 non-null object\n",
      "idade_empresa_anos                       462298 non-null float64\n",
      "idade_emp_cat                            462298 non-null object\n",
      "fl_me                                    462298 non-null bool\n",
      "fl_sa                                    462298 non-null bool\n",
      "fl_epp                                   462298 non-null bool\n",
      "fl_mei                                   462298 non-null bool\n",
      "fl_ltda                                  462298 non-null bool\n",
      "dt_situacao                              462292 non-null object\n",
      "fl_st_especial                           462298 non-null bool\n",
      "fl_email                                 462298 non-null bool\n",
      "fl_telefone                              462298 non-null bool\n",
      "fl_rm                                    462298 non-null object\n",
      "nm_divisao                               460371 non-null object\n",
      "nm_segmento                              460371 non-null object\n",
      "fl_spa                                   460371 non-null object\n",
      "fl_antt                                  460371 non-null object\n",
      "fl_veiculo                               460371 non-null object\n",
      "fl_optante_simples                       379585 non-null object\n",
      "vl_total_veiculos_pesados_grupo          460371 non-null float64\n",
      "vl_total_veiculos_leves_grupo            460371 non-null float64\n",
      "fl_optante_simei                         379585 non-null object\n",
      "sg_uf_matriz                             460359 non-null object\n",
      "de_saude_tributaria                      447447 non-null object\n",
      "de_saude_rescencia                       447447 non-null object\n",
      "nu_meses_rescencia                       417022 non-null float64\n",
      "de_nivel_atividade                       451130 non-null object\n",
      "fl_simples_irregular                     460371 non-null object\n",
      "empsetorcensitariofaixarendapopulacao    318469 non-null float64\n",
      "nm_meso_regiao                           403600 non-null object\n",
      "nm_micro_regiao                          403600 non-null object\n",
      "fl_passivel_iss                          460371 non-null object\n",
      "qt_socios                                347207 non-null float64\n",
      "qt_socios_pj                             347207 non-null float64\n",
      "idade_media_socios                       310696 non-null float64\n",
      "qt_socios_masculino                      195115 non-null float64\n",
      "qt_socios_feminino                       145029 non-null float64\n",
      "de_faixa_faturamento_estimado            434785 non-null object\n",
      "de_faixa_faturamento_estimado_grupo      434785 non-null object\n",
      "vl_faturamento_estimado_aux              434785 non-null float64\n",
      "vl_faturamento_estimado_grupo_aux        434785 non-null float64\n",
      "qt_filiais                               462298 non-null int64\n",
      "dtypes: bool(9), float64(12), int64(1), object(25)\n",
      "memory usage: 141.5+ MB\n"
     ]
    }
   ],
   "source": [
    "fullmarket = feather.read_dataframe('full_market_reduced_columns.feather')\n",
    "fullmarket.set_index('id',inplace=True)\n",
    "fullmarket.info()\n",
    "#Tamanho já mais razoável: 141 MB. Ainda tem que resolver os NaN"
   ]
  },
  {
   "cell_type": "code",
   "execution_count": 3,
   "metadata": {},
   "outputs": [
    {
     "data": {
      "text/html": [
       "<div>\n",
       "<style scoped>\n",
       "    .dataframe tbody tr th:only-of-type {\n",
       "        vertical-align: middle;\n",
       "    }\n",
       "\n",
       "    .dataframe tbody tr th {\n",
       "        vertical-align: top;\n",
       "    }\n",
       "\n",
       "    .dataframe thead th {\n",
       "        text-align: right;\n",
       "    }\n",
       "</style>\n",
       "<table border=\"1\" class=\"dataframe\">\n",
       "  <thead>\n",
       "    <tr style=\"text-align: right;\">\n",
       "      <th></th>\n",
       "      <th>fl_matriz</th>\n",
       "      <th>de_natureza_juridica</th>\n",
       "      <th>sg_uf</th>\n",
       "      <th>natureza_juridica_macro</th>\n",
       "      <th>de_ramo</th>\n",
       "      <th>setor</th>\n",
       "      <th>idade_empresa_anos</th>\n",
       "      <th>idade_emp_cat</th>\n",
       "      <th>fl_me</th>\n",
       "      <th>fl_sa</th>\n",
       "      <th>...</th>\n",
       "      <th>qt_socios</th>\n",
       "      <th>qt_socios_pj</th>\n",
       "      <th>idade_media_socios</th>\n",
       "      <th>qt_socios_masculino</th>\n",
       "      <th>qt_socios_feminino</th>\n",
       "      <th>de_faixa_faturamento_estimado</th>\n",
       "      <th>de_faixa_faturamento_estimado_grupo</th>\n",
       "      <th>vl_faturamento_estimado_aux</th>\n",
       "      <th>vl_faturamento_estimado_grupo_aux</th>\n",
       "      <th>qt_filiais</th>\n",
       "    </tr>\n",
       "    <tr>\n",
       "      <th>id</th>\n",
       "      <th></th>\n",
       "      <th></th>\n",
       "      <th></th>\n",
       "      <th></th>\n",
       "      <th></th>\n",
       "      <th></th>\n",
       "      <th></th>\n",
       "      <th></th>\n",
       "      <th></th>\n",
       "      <th></th>\n",
       "      <th></th>\n",
       "      <th></th>\n",
       "      <th></th>\n",
       "      <th></th>\n",
       "      <th></th>\n",
       "      <th></th>\n",
       "      <th></th>\n",
       "      <th></th>\n",
       "      <th></th>\n",
       "      <th></th>\n",
       "      <th></th>\n",
       "    </tr>\n",
       "  </thead>\n",
       "  <tbody>\n",
       "    <tr>\n",
       "      <th>a6984c3ae395090e3bee8ad63c3758b110de096d5d819583a784a113726db849</th>\n",
       "      <td>True</td>\n",
       "      <td>SOCIEDADE EMPRESARIA LIMITADA</td>\n",
       "      <td>RN</td>\n",
       "      <td>ENTIDADES EMPRESARIAIS</td>\n",
       "      <td>INDUSTRIA DA CONSTRUCAO</td>\n",
       "      <td>CONSTRUÇÃO CIVIL</td>\n",
       "      <td>14.457534</td>\n",
       "      <td>10 a 15</td>\n",
       "      <td>False</td>\n",
       "      <td>False</td>\n",
       "      <td>...</td>\n",
       "      <td>2.0</td>\n",
       "      <td>0.0</td>\n",
       "      <td>44.0</td>\n",
       "      <td>2.0</td>\n",
       "      <td>NaN</td>\n",
       "      <td>DE R$ 1.500.000,01 A R$ 4.800.000,00</td>\n",
       "      <td>DE R$ 1.500.000,01 A R$ 4.800.000,00</td>\n",
       "      <td>3132172.8</td>\n",
       "      <td>3132172.8</td>\n",
       "      <td>0</td>\n",
       "    </tr>\n",
       "    <tr>\n",
       "      <th>6178f41ade1365e44bc2c46654c2c8c0eaae27dcb476c47fdef50b33f4f56f05</th>\n",
       "      <td>True</td>\n",
       "      <td>EMPRESARIO INDIVIDUAL</td>\n",
       "      <td>PI</td>\n",
       "      <td>OUTROS</td>\n",
       "      <td>SERVICOS DE ALOJAMENTO/ALIMENTACAO</td>\n",
       "      <td>SERVIÇO</td>\n",
       "      <td>1.463014</td>\n",
       "      <td>1 a 5</td>\n",
       "      <td>False</td>\n",
       "      <td>False</td>\n",
       "      <td>...</td>\n",
       "      <td>1.0</td>\n",
       "      <td>0.0</td>\n",
       "      <td>27.0</td>\n",
       "      <td>1.0</td>\n",
       "      <td>NaN</td>\n",
       "      <td>DE R$ 81.000,01 A R$ 360.000,00</td>\n",
       "      <td>DE R$ 81.000,01 A R$ 360.000,00</td>\n",
       "      <td>210000.0</td>\n",
       "      <td>210000.0</td>\n",
       "      <td>0</td>\n",
       "    </tr>\n",
       "    <tr>\n",
       "      <th>4a7e5069a397f12fdd7fd57111d6dc5d3ba558958efc02edc5147bc2a2535b08</th>\n",
       "      <td>True</td>\n",
       "      <td>EMPRESARIO INDIVIDUAL</td>\n",
       "      <td>AM</td>\n",
       "      <td>OUTROS</td>\n",
       "      <td>TRANSPORTE, ARMAZENAGEM E CORREIO</td>\n",
       "      <td>SERVIÇO</td>\n",
       "      <td>7.093151</td>\n",
       "      <td>5 a 10</td>\n",
       "      <td>False</td>\n",
       "      <td>False</td>\n",
       "      <td>...</td>\n",
       "      <td>1.0</td>\n",
       "      <td>0.0</td>\n",
       "      <td>32.0</td>\n",
       "      <td>1.0</td>\n",
       "      <td>NaN</td>\n",
       "      <td>ATE R$ 81.000,00</td>\n",
       "      <td>ATE R$ 81.000,00</td>\n",
       "      <td>50000.0</td>\n",
       "      <td>50000.0</td>\n",
       "      <td>0</td>\n",
       "    </tr>\n",
       "  </tbody>\n",
       "</table>\n",
       "<p>3 rows × 47 columns</p>\n",
       "</div>"
      ],
      "text/plain": [
       "                                                    fl_matriz  \\\n",
       "id                                                              \n",
       "a6984c3ae395090e3bee8ad63c3758b110de096d5d81958...       True   \n",
       "6178f41ade1365e44bc2c46654c2c8c0eaae27dcb476c47...       True   \n",
       "4a7e5069a397f12fdd7fd57111d6dc5d3ba558958efc02e...       True   \n",
       "\n",
       "                                                             de_natureza_juridica  \\\n",
       "id                                                                                  \n",
       "a6984c3ae395090e3bee8ad63c3758b110de096d5d81958...  SOCIEDADE EMPRESARIA LIMITADA   \n",
       "6178f41ade1365e44bc2c46654c2c8c0eaae27dcb476c47...          EMPRESARIO INDIVIDUAL   \n",
       "4a7e5069a397f12fdd7fd57111d6dc5d3ba558958efc02e...          EMPRESARIO INDIVIDUAL   \n",
       "\n",
       "                                                   sg_uf  \\\n",
       "id                                                         \n",
       "a6984c3ae395090e3bee8ad63c3758b110de096d5d81958...    RN   \n",
       "6178f41ade1365e44bc2c46654c2c8c0eaae27dcb476c47...    PI   \n",
       "4a7e5069a397f12fdd7fd57111d6dc5d3ba558958efc02e...    AM   \n",
       "\n",
       "                                                   natureza_juridica_macro  \\\n",
       "id                                                                           \n",
       "a6984c3ae395090e3bee8ad63c3758b110de096d5d81958...  ENTIDADES EMPRESARIAIS   \n",
       "6178f41ade1365e44bc2c46654c2c8c0eaae27dcb476c47...                  OUTROS   \n",
       "4a7e5069a397f12fdd7fd57111d6dc5d3ba558958efc02e...                  OUTROS   \n",
       "\n",
       "                                                                               de_ramo  \\\n",
       "id                                                                                       \n",
       "a6984c3ae395090e3bee8ad63c3758b110de096d5d81958...             INDUSTRIA DA CONSTRUCAO   \n",
       "6178f41ade1365e44bc2c46654c2c8c0eaae27dcb476c47...  SERVICOS DE ALOJAMENTO/ALIMENTACAO   \n",
       "4a7e5069a397f12fdd7fd57111d6dc5d3ba558958efc02e...   TRANSPORTE, ARMAZENAGEM E CORREIO   \n",
       "\n",
       "                                                               setor  \\\n",
       "id                                                                     \n",
       "a6984c3ae395090e3bee8ad63c3758b110de096d5d81958...  CONSTRUÇÃO CIVIL   \n",
       "6178f41ade1365e44bc2c46654c2c8c0eaae27dcb476c47...           SERVIÇO   \n",
       "4a7e5069a397f12fdd7fd57111d6dc5d3ba558958efc02e...           SERVIÇO   \n",
       "\n",
       "                                                    idade_empresa_anos  \\\n",
       "id                                                                       \n",
       "a6984c3ae395090e3bee8ad63c3758b110de096d5d81958...           14.457534   \n",
       "6178f41ade1365e44bc2c46654c2c8c0eaae27dcb476c47...            1.463014   \n",
       "4a7e5069a397f12fdd7fd57111d6dc5d3ba558958efc02e...            7.093151   \n",
       "\n",
       "                                                   idade_emp_cat  fl_me  \\\n",
       "id                                                                        \n",
       "a6984c3ae395090e3bee8ad63c3758b110de096d5d81958...       10 a 15  False   \n",
       "6178f41ade1365e44bc2c46654c2c8c0eaae27dcb476c47...         1 a 5  False   \n",
       "4a7e5069a397f12fdd7fd57111d6dc5d3ba558958efc02e...        5 a 10  False   \n",
       "\n",
       "                                                    fl_sa  ...  qt_socios  \\\n",
       "id                                                         ...              \n",
       "a6984c3ae395090e3bee8ad63c3758b110de096d5d81958...  False  ...        2.0   \n",
       "6178f41ade1365e44bc2c46654c2c8c0eaae27dcb476c47...  False  ...        1.0   \n",
       "4a7e5069a397f12fdd7fd57111d6dc5d3ba558958efc02e...  False  ...        1.0   \n",
       "\n",
       "                                                    qt_socios_pj  \\\n",
       "id                                                                 \n",
       "a6984c3ae395090e3bee8ad63c3758b110de096d5d81958...           0.0   \n",
       "6178f41ade1365e44bc2c46654c2c8c0eaae27dcb476c47...           0.0   \n",
       "4a7e5069a397f12fdd7fd57111d6dc5d3ba558958efc02e...           0.0   \n",
       "\n",
       "                                                    idade_media_socios  \\\n",
       "id                                                                       \n",
       "a6984c3ae395090e3bee8ad63c3758b110de096d5d81958...                44.0   \n",
       "6178f41ade1365e44bc2c46654c2c8c0eaae27dcb476c47...                27.0   \n",
       "4a7e5069a397f12fdd7fd57111d6dc5d3ba558958efc02e...                32.0   \n",
       "\n",
       "                                                   qt_socios_masculino  \\\n",
       "id                                                                       \n",
       "a6984c3ae395090e3bee8ad63c3758b110de096d5d81958...                 2.0   \n",
       "6178f41ade1365e44bc2c46654c2c8c0eaae27dcb476c47...                 1.0   \n",
       "4a7e5069a397f12fdd7fd57111d6dc5d3ba558958efc02e...                 1.0   \n",
       "\n",
       "                                                    qt_socios_feminino  \\\n",
       "id                                                                       \n",
       "a6984c3ae395090e3bee8ad63c3758b110de096d5d81958...                 NaN   \n",
       "6178f41ade1365e44bc2c46654c2c8c0eaae27dcb476c47...                 NaN   \n",
       "4a7e5069a397f12fdd7fd57111d6dc5d3ba558958efc02e...                 NaN   \n",
       "\n",
       "                                                           de_faixa_faturamento_estimado  \\\n",
       "id                                                                                         \n",
       "a6984c3ae395090e3bee8ad63c3758b110de096d5d81958...  DE R$ 1.500.000,01 A R$ 4.800.000,00   \n",
       "6178f41ade1365e44bc2c46654c2c8c0eaae27dcb476c47...       DE R$ 81.000,01 A R$ 360.000,00   \n",
       "4a7e5069a397f12fdd7fd57111d6dc5d3ba558958efc02e...                      ATE R$ 81.000,00   \n",
       "\n",
       "                                                     de_faixa_faturamento_estimado_grupo  \\\n",
       "id                                                                                         \n",
       "a6984c3ae395090e3bee8ad63c3758b110de096d5d81958...  DE R$ 1.500.000,01 A R$ 4.800.000,00   \n",
       "6178f41ade1365e44bc2c46654c2c8c0eaae27dcb476c47...       DE R$ 81.000,01 A R$ 360.000,00   \n",
       "4a7e5069a397f12fdd7fd57111d6dc5d3ba558958efc02e...                      ATE R$ 81.000,00   \n",
       "\n",
       "                                                   vl_faturamento_estimado_aux  \\\n",
       "id                                                                               \n",
       "a6984c3ae395090e3bee8ad63c3758b110de096d5d81958...                   3132172.8   \n",
       "6178f41ade1365e44bc2c46654c2c8c0eaae27dcb476c47...                    210000.0   \n",
       "4a7e5069a397f12fdd7fd57111d6dc5d3ba558958efc02e...                     50000.0   \n",
       "\n",
       "                                                   vl_faturamento_estimado_grupo_aux  \\\n",
       "id                                                                                     \n",
       "a6984c3ae395090e3bee8ad63c3758b110de096d5d81958...                         3132172.8   \n",
       "6178f41ade1365e44bc2c46654c2c8c0eaae27dcb476c47...                          210000.0   \n",
       "4a7e5069a397f12fdd7fd57111d6dc5d3ba558958efc02e...                           50000.0   \n",
       "\n",
       "                                                   qt_filiais  \n",
       "id                                                             \n",
       "a6984c3ae395090e3bee8ad63c3758b110de096d5d81958...          0  \n",
       "6178f41ade1365e44bc2c46654c2c8c0eaae27dcb476c47...          0  \n",
       "4a7e5069a397f12fdd7fd57111d6dc5d3ba558958efc02e...          0  \n",
       "\n",
       "[3 rows x 47 columns]"
      ]
     },
     "execution_count": 3,
     "metadata": {},
     "output_type": "execute_result"
    }
   ],
   "source": [
    "fullmarket.head(3)"
   ]
  },
  {
   "cell_type": "markdown",
   "metadata": {},
   "source": [
    "# Seleção de features e clusterização"
   ]
  },
  {
   "cell_type": "code",
   "execution_count": 4,
   "metadata": {},
   "outputs": [],
   "source": [
    "feature_list = ['de_nivel_atividade', 'de_ramo', 'nm_meso_regiao', 'setor']"
   ]
  },
  {
   "cell_type": "code",
   "execution_count": 5,
   "metadata": {},
   "outputs": [
    {
     "name": "stdout",
     "output_type": "stream",
     "text": [
      "de_nivel_atividade -->> 5  categorias\n",
      "MEDIA          217949\n",
      "ALTA           152245\n",
      "BAIXA           76080\n",
      "MUITO BAIXA      4856\n",
      "Name: de_nivel_atividade, dtype: int64\n",
      "NaN antes:  11168\n",
      "NaN depois:  0\n",
      "\n",
      "\n",
      "de_ramo -->> 33  categorias\n",
      "COMERCIO VAREJISTA                                   172404\n",
      "SERVICOS DIVERSOS                                     60318\n",
      "SERVICOS DE ALOJAMENTO/ALIMENTACAO                    30180\n",
      "INDUSTRIA DA CONSTRUCAO                               25363\n",
      "COMERCIO E REPARACAO DE VEICULOS                      22356\n",
      "SERVICOS ADMINISTRATIVOS                              21326\n",
      "BENS DE CONSUMO                                       21227\n",
      "SERVICOS PROFISSIONAIS, TECNICOS E CIENTIFICOS        17371\n",
      "COMERCIO POR ATACADO                                  16464\n",
      "TRANSPORTE, ARMAZENAGEM E CORREIO                     15485\n",
      "SERVICOS DE EDUCACAO                                  11311\n",
      "SERVICOS DE SAUDE                                      9788\n",
      "CULTURA, ESPORTE E RECREACAO                           5503\n",
      "SIDERURGICA-METALURGIA                                 3700\n",
      "TELECOM                                                3626\n",
      "PRODUTOS DE AGROPECUARIA                               3247\n",
      "QUIMICA-PETROQUIMICA                                   3131\n",
      "ADMINISTRACAO PUBLICA, DEFESA E SEGURIDADE SOCIAL      2754\n",
      "ATIVIDADES IMOBILIARIAS                                2670\n",
      "PAPEL E CELULOSE                                       2179\n",
      "OUTROS                                                 1927\n",
      "INDUSTRIA DIGITAL                                      1849\n",
      "SEGUROS, PLANOS DE PREVIDENCIA E PLANOS DE SAUDE       1770\n",
      "SERVICOS FINANCEIROS                                   1517\n",
      "SERVICOS DE SANEAMENTO BASICO                          1238\n",
      "TEXTEIS                                                1048\n",
      "INDUSTRIAS EXTRATIVAS                                   896\n",
      "ELETRICIDADE E GAS                                      607\n",
      "INDUSTRIA AUTOMOTIVA                                    410\n",
      "SERVICOS SOCIAIS                                        351\n",
      "ELETROELETRONICOS                                       251\n",
      "FARMACEUTICA                                             22\n",
      "ORGANISMOS INTERNACIONAIS                                 9\n",
      "Name: de_ramo, dtype: int64\n",
      "NaN antes:  0\n",
      "NaN depois:  0\n",
      "\n",
      "\n",
      "nm_meso_regiao -->> 20  categorias\n",
      "CENTRO AMAZONENSE         71469\n",
      "NORTE MARANHENSE          61331\n",
      "LESTE POTIGUAR            58762\n",
      "CENTRO NORTE PIAUIENSE    42244\n",
      "OESTE MARANHENSE          26796\n",
      "OESTE POTIGUAR            20860\n",
      "LESTE MARANHENSE          17651\n",
      "VALE DO ACRE              16539\n",
      "CENTRO MARANHENSE         13755\n",
      "SUDOESTE PIAUIENSE        12180\n",
      "NORTE PIAUIENSE           11919\n",
      "CENTRAL POTIGUAR          10681\n",
      "SUDESTE PIAUIENSE         10049\n",
      "AGRESTE POTIGUAR           7845\n",
      "SUL MARANHENSE             7382\n",
      "SUL AMAZONENSE             4931\n",
      "VALE DO JURUA              3900\n",
      "SUDOESTE AMAZONENSE        3738\n",
      "NORTE AMAZONENSE           1568\n",
      "Name: nm_meso_regiao, dtype: int64\n",
      "NaN antes:  58698\n",
      "NaN depois:  0\n",
      "\n",
      "\n",
      "setor -->> 6  categorias\n",
      "COMERCIO            211224\n",
      "SERVIÇO             189644\n",
      "INDUSTRIA            30893\n",
      "CONSTRUÇÃO CIVIL     25363\n",
      "AGROPECUARIA          3247\n",
      "Name: setor, dtype: int64\n",
      "NaN antes:  1927\n",
      "NaN depois:  0\n",
      "\n",
      "\n"
     ]
    }
   ],
   "source": [
    "# fillna\n",
    "for feat in feature_list:\n",
    "    print(feat, '-->>', len(fullmarket[feat].unique().tolist()), ' categorias')\n",
    "    print(fullmarket[feat].value_counts())\n",
    "    print('NaN antes: ', sum(fullmarket[feat].isna()))\n",
    "    fullmarket[feat].fillna('DESCONHECIDO', inplace = True)\n",
    "    print('NaN depois: ', sum(fullmarket[feat].isna()))\n",
    "    print('\\n')"
   ]
  },
  {
   "cell_type": "markdown",
   "metadata": {},
   "source": [
    "## Encoder"
   ]
  },
  {
   "cell_type": "code",
   "execution_count": 6,
   "metadata": {},
   "outputs": [],
   "source": [
    "# Usando LabelEncoder\n",
    "#https://chrisalbon.com/machine_learning/preprocessing_structured_data/convert_pandas_categorical_column_into_integers_for_scikit-learn/\n",
    "from sklearn import preprocessing\n",
    "# Create a label (category) encoder object\n",
    "le = preprocessing.LabelEncoder()"
   ]
  },
  {
   "cell_type": "code",
   "execution_count": 7,
   "metadata": {},
   "outputs": [],
   "source": [
    "# apply le on categorical feature columns\n",
    "# https://towardsdatascience.com/encoding-categorical-features-21a2651a065c\n",
    "\n",
    "fullmarket_enc=pd.DataFrame()\n",
    "categorical_cols = ['de_nivel_atividade', 'de_ramo', 'nm_meso_regiao', 'setor']\n",
    "\n",
    "fullmarket_enc[categorical_cols] = fullmarket[categorical_cols].apply(lambda col: le.fit_transform(col))"
   ]
  },
  {
   "cell_type": "markdown",
   "metadata": {},
   "source": [
    "## Clusterização"
   ]
  },
  {
   "cell_type": "markdown",
   "metadata": {},
   "source": [
    "Problema com AgglomerativeClustering: não há memória suficiente:\n",
    "https://stackoverflow.com/questions/51129498/memory-error-during-hierarchical-clustering-python-3-6\n",
    "\n",
    "https://datascience.stackexchange.com/questions/47889/how-to-run-agglomerativeclustering-on-a-big-data-in-python\n",
    "\n",
    "Sugestão é amostrar o banco e usar KNN.\n",
    "\n",
    "Ou usar outro algoritmo, como MiniBatchKMeans ou Birch.\n",
    "https://github.com/scikit-learn/scikit-learn/issues/5256\n",
    "\n",
    "https://chrisalbon.com/machine_learning/clustering/minibatch_k-means_clustering/\n",
    "\n",
    "https://towardsdatascience.com/machine-learning-birch-clustering-algorithm-clearly-explained-fb9838cbeed9\n",
    "\n",
    "https://scikit-learn.org/stable/modules/generated/sklearn.cluster.Birch.html\n",
    "\n",
    "Birch clustering algorithm is a memory-efficient, online-learning algorithm provided as an alternative to MiniBatchKMeans.\n",
    "\n",
    "**Solução utilizada**: Agglomerative Clustering em 2% do banco seguido por KNN.\n"
   ]
  },
  {
   "cell_type": "code",
   "execution_count": 8,
   "metadata": {},
   "outputs": [],
   "source": [
    "#Então, vamos amostrar o banco\n",
    "from sklearn.model_selection import train_test_split\n",
    "#Usamos só o X. y é descartado, porque não há variável-alvo\n",
    "train_size_agglom = 0.02 # 2% do market aprox. 10000 amostras\n",
    "sample_market, market_minus_sample, y_train, y_test = train_test_split(fullmarket_enc,\n",
    "                                                        pd.Series(np.zeros(len(fullmarket_enc))),\n",
    "                                                        train_size=train_size_agglom,\n",
    "                                                        random_state=17) \n",
    "\n",
    "from sklearn.cluster import AgglomerativeClustering\n",
    "\n",
    "cluster = AgglomerativeClustering(n_clusters=500, affinity='euclidean', linkage='ward')\n",
    "sample_market_cluster_label = cluster.fit_predict(sample_market)\n",
    "# Com 10000, ok"
   ]
  },
  {
   "cell_type": "markdown",
   "metadata": {},
   "source": [
    "Precisamos do banco completo clusterizado. Como o AgglomerativeClustering não funciona por limitação de memória, vamoa adotar a estratégia de clusterizar uma parte e depois usar KNN para predizer as classes do resto do banco."
   ]
  },
  {
   "cell_type": "code",
   "execution_count": 9,
   "metadata": {},
   "outputs": [],
   "source": [
    "from sklearn.neighbors import KNeighborsClassifier\n",
    "KN = KNeighborsClassifier(n_neighbors=3)\n",
    "KN.fit(sample_market, sample_market_cluster_label)\n",
    "clusters_market_minus_sample = KN.predict(market_minus_sample)"
   ]
  },
  {
   "cell_type": "code",
   "execution_count": 10,
   "metadata": {},
   "outputs": [],
   "source": [
    "market_minus_sample_with_clusters = market_minus_sample.assign(cluster = clusters_market_minus_sample)\n",
    "sample_market_with_clusters = sample_market.assign(cluster = sample_market_cluster_label)\n",
    "fullmarket_with_clusters = pd.concat([sample_market_with_clusters, market_minus_sample_with_clusters])"
   ]
  },
  {
   "cell_type": "markdown",
   "metadata": {},
   "source": [
    "Resultado: banco completo, com informação (label) de cluster, em `fullmarket_with_clusters`"
   ]
  },
  {
   "cell_type": "markdown",
   "metadata": {},
   "source": [
    "# Carregamento lista de clientes atuais\n",
    "Formato: arquivo csv, com IDs dos clientes"
   ]
  },
  {
   "cell_type": "code",
   "execution_count": 11,
   "metadata": {},
   "outputs": [
    {
     "name": "stdout",
     "output_type": "stream",
     "text": [
      "Ok. Loaded file. Shape: (265, 1)\n"
     ]
    }
   ],
   "source": [
    "current_customers = pd.read_csv('estaticos_portfolio3.csv')\n",
    "if not 'id' in current_customers.columns:\n",
    "    print('Error. Check yout file. It should contain a column named \"id\"') \n",
    "else:\n",
    "    current_customers.set_index('id',inplace=True)\n",
    "    print('Ok. Loaded file. Shape:', current_customers.shape)    "
   ]
  },
  {
   "cell_type": "markdown",
   "metadata": {},
   "source": [
    "# Avaliação"
   ]
  },
  {
   "cell_type": "code",
   "execution_count": 12,
   "metadata": {},
   "outputs": [],
   "source": [
    "# Verificar número de hits (quantas sugestões são parte de um conjunto de teste)\n",
    "def count_hits_in_suggestion(df_suggestions, df_X_test): #suggestions e X_test são dataframes\n",
    "    return sum(df_X_test.index.isin(df_suggestions.index))"
   ]
  },
  {
   "cell_type": "code",
   "execution_count": 13,
   "metadata": {},
   "outputs": [
    {
     "data": {
      "text/plain": [
       "265"
      ]
     },
     "execution_count": 13,
     "metadata": {},
     "output_type": "execute_result"
    }
   ],
   "source": [
    "# Para verificar se os clientes estão no banco\n",
    "count_hits_in_suggestion(current_customers, fullmarket_with_clusters)"
   ]
  },
  {
   "cell_type": "markdown",
   "metadata": {},
   "source": [
    "## Separação \"treinamento\" e teste\n",
    "\n",
    "Esta separação deve ser usada somente para avaliação, não para a versão final."
   ]
  },
  {
   "cell_type": "code",
   "execution_count": 15,
   "metadata": {
    "scrolled": true
   },
   "outputs": [
    {
     "name": "stdout",
     "output_type": "stream",
     "text": [
      "Tamanho do \"treinamento\": (185, 1)\n",
      "Tamanho do teste para avaliação: (80, 1)\n"
     ]
    }
   ],
   "source": [
    "from sklearn.model_selection import train_test_split\n",
    "# ignorar y. Só usamos X\n",
    "X_train, X_test, y_train, y_test = train_test_split(\n",
    "    current_customers, list(range(len(current_customers))), test_size=0.3, random_state=17)\n",
    "print(f'Tamanho do \"treinamento\": {X_train.shape}')\n",
    "print(f'Tamanho do teste para avaliação: {X_test.shape}')"
   ]
  },
  {
   "cell_type": "code",
   "execution_count": 16,
   "metadata": {},
   "outputs": [
    {
     "data": {
      "text/plain": [
       "(185, 5)"
      ]
     },
     "execution_count": 16,
     "metadata": {},
     "output_type": "execute_result"
    }
   ],
   "source": [
    "curr_customers_in_base = fullmarket_with_clusters[fullmarket_with_clusters.index.isin(X_train.index)]\n",
    "curr_customers_in_base.shape"
   ]
  },
  {
   "cell_type": "code",
   "execution_count": 17,
   "metadata": {},
   "outputs": [],
   "source": [
    "clusters_ranking = curr_customers_in_base['cluster'].value_counts()"
   ]
  },
  {
   "cell_type": "code",
   "execution_count": 28,
   "metadata": {},
   "outputs": [],
   "source": [
    "most_frequent_cluster = clusters_ranking.index[0]"
   ]
  },
  {
   "cell_type": "code",
   "execution_count": 29,
   "metadata": {},
   "outputs": [
    {
     "data": {
      "text/plain": [
       "245"
      ]
     },
     "execution_count": 29,
     "metadata": {},
     "output_type": "execute_result"
    }
   ],
   "source": [
    "#sugestões:\n",
    "suggestions = fullmarket_with_clusters[fullmarket_with_clusters['cluster']==most_frequent_cluster]\n",
    "len(suggestions)"
   ]
  },
  {
   "cell_type": "code",
   "execution_count": 30,
   "metadata": {},
   "outputs": [
    {
     "name": "stdout",
     "output_type": "stream",
     "text": [
      "8\n"
     ]
    }
   ],
   "source": [
    "our_hits = count_hits_in_suggestion(suggestions, X_test)\n",
    "print(our_hits)"
   ]
  },
  {
   "cell_type": "code",
   "execution_count": 31,
   "metadata": {},
   "outputs": [],
   "source": [
    "# Compara com sorteio aleatório (random picking) da base market\n",
    "\n",
    "n_picking = len(suggestions) # quantidade de sugestões a sortear\n",
    "\n",
    "# Simulação de Monte Carlo, ou seja, sortear um conjunto várias vezes e depois fazer a média\n",
    "monte_carlo_size = 500\n",
    "num_hits = int(0)\n",
    "for k in range(monte_carlo_size):\n",
    "    random_suggestion = fullmarket_with_clusters.sample(n = n_picking)\n",
    "    num_hits = num_hits + count_hits_in_suggestion(random_suggestion, X_test)\n",
    "mean_num_hits = num_hits / monte_carlo_size"
   ]
  },
  {
   "cell_type": "code",
   "execution_count": 32,
   "metadata": {},
   "outputs": [
    {
     "name": "stdout",
     "output_type": "stream",
     "text": [
      "Number of hits in our suggestion: 8.\n",
      "They represent 10.00% of the test size.\n",
      "\n",
      "For random suggestion, we found an average of 0.03 hits.\n",
      "They represent 0.04% of the test size.\n"
     ]
    }
   ],
   "source": [
    "print(f'Number of hits in our suggestion: {our_hits}.')\n",
    "print(f'They represent {100*our_hits/len(X_test):.2f}% of the test size.\\n')\n",
    "\n",
    "print(f'For random suggestion, we found an average of {mean_num_hits:.2f} hits.')\n",
    "print(f'They represent {100*mean_num_hits/len(X_test):.2f}% of the test size.')"
   ]
  }
 ],
 "metadata": {
  "kernelspec": {
   "display_name": "Python 3",
   "language": "python",
   "name": "python3"
  },
  "language_info": {
   "codemirror_mode": {
    "name": "ipython",
    "version": 3
   },
   "file_extension": ".py",
   "mimetype": "text/x-python",
   "name": "python",
   "nbconvert_exporter": "python",
   "pygments_lexer": "ipython3",
   "version": "3.6.8"
  },
  "toc": {
   "base_numbering": 1,
   "nav_menu": {},
   "number_sections": true,
   "sideBar": true,
   "skip_h1_title": false,
   "title_cell": "Table of Contents",
   "title_sidebar": "Contents",
   "toc_cell": false,
   "toc_position": {},
   "toc_section_display": true,
   "toc_window_display": false
  }
 },
 "nbformat": 4,
 "nbformat_minor": 2
}
