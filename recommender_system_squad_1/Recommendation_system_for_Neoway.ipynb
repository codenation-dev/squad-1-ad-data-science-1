{
 "cells": [
  {
   "cell_type": "markdown",
   "metadata": {},
   "source": [
    "# Objetivo\n",
    "Serviço que recebe lista de atuais clientes do usuário e retorna novos potenciais clientes. "
   ]
  },
  {
   "cell_type": "markdown",
   "metadata": {},
   "source": [
    "# Método"
   ]
  },
  {
   "cell_type": "markdown",
   "metadata": {},
   "source": [
    "# Imports"
   ]
  },
  {
   "cell_type": "code",
   "execution_count": 2,
   "metadata": {},
   "outputs": [],
   "source": [
    "# imports\n",
    "import pandas as pd\n",
    "import numpy as np\n",
    "import feather"
   ]
  },
  {
   "cell_type": "markdown",
   "metadata": {},
   "source": [
    "# Carregamento lista de clientes atuais\n",
    "Formato: arquivo csv, com IDs dos clientes"
   ]
  },
  {
   "cell_type": "markdown",
   "metadata": {},
   "source": [
    "# Carregamento do banco de dados com colunas filtradas"
   ]
  },
  {
   "cell_type": "code",
   "execution_count": 3,
   "metadata": {
    "collapsed": true
   },
   "outputs": [
    {
     "name": "stdout",
     "output_type": "stream",
     "text": [
      "<class 'pandas.core.frame.DataFrame'>\n",
      "RangeIndex: 462298 entries, 0 to 462297\n",
      "Data columns (total 48 columns):\n",
      "id                                       462298 non-null object\n",
      "fl_matriz                                462298 non-null bool\n",
      "de_natureza_juridica                     462298 non-null object\n",
      "sg_uf                                    462298 non-null object\n",
      "natureza_juridica_macro                  462298 non-null object\n",
      "de_ramo                                  462298 non-null object\n",
      "setor                                    460371 non-null object\n",
      "idade_empresa_anos                       462298 non-null float64\n",
      "idade_emp_cat                            462298 non-null object\n",
      "fl_me                                    462298 non-null bool\n",
      "fl_sa                                    462298 non-null bool\n",
      "fl_epp                                   462298 non-null bool\n",
      "fl_mei                                   462298 non-null bool\n",
      "fl_ltda                                  462298 non-null bool\n",
      "dt_situacao                              462292 non-null object\n",
      "fl_st_especial                           462298 non-null bool\n",
      "fl_email                                 462298 non-null bool\n",
      "fl_telefone                              462298 non-null bool\n",
      "fl_rm                                    462298 non-null object\n",
      "nm_divisao                               460371 non-null object\n",
      "nm_segmento                              460371 non-null object\n",
      "fl_spa                                   460371 non-null object\n",
      "fl_antt                                  460371 non-null object\n",
      "fl_veiculo                               460371 non-null object\n",
      "fl_optante_simples                       379585 non-null object\n",
      "vl_total_veiculos_pesados_grupo          460371 non-null float64\n",
      "vl_total_veiculos_leves_grupo            460371 non-null float64\n",
      "fl_optante_simei                         379585 non-null object\n",
      "sg_uf_matriz                             460359 non-null object\n",
      "de_saude_tributaria                      447447 non-null object\n",
      "de_saude_rescencia                       447447 non-null object\n",
      "nu_meses_rescencia                       417022 non-null float64\n",
      "de_nivel_atividade                       451130 non-null object\n",
      "fl_simples_irregular                     460371 non-null object\n",
      "empsetorcensitariofaixarendapopulacao    318469 non-null float64\n",
      "nm_meso_regiao                           403600 non-null object\n",
      "nm_micro_regiao                          403600 non-null object\n",
      "fl_passivel_iss                          460371 non-null object\n",
      "qt_socios                                347207 non-null float64\n",
      "qt_socios_pj                             347207 non-null float64\n",
      "idade_media_socios                       310696 non-null float64\n",
      "qt_socios_masculino                      195115 non-null float64\n",
      "qt_socios_feminino                       145029 non-null float64\n",
      "de_faixa_faturamento_estimado            434785 non-null object\n",
      "de_faixa_faturamento_estimado_grupo      434785 non-null object\n",
      "vl_faturamento_estimado_aux              434785 non-null float64\n",
      "vl_faturamento_estimado_grupo_aux        434785 non-null float64\n",
      "qt_filiais                               462298 non-null int64\n",
      "dtypes: bool(9), float64(12), int64(1), object(26)\n",
      "memory usage: 141.5+ MB\n"
     ]
    }
   ],
   "source": [
    "fullmarket = feather.read_dataframe('full_market_reduced_columns.feather')\n",
    "fullmarket.info()\n",
    "#Tamanho já mais razoável: 141 MB. Ainda tem que resolver os NaN"
   ]
  },
  {
   "cell_type": "markdown",
   "metadata": {},
   "source": [
    "# Análise dos clientes atuais\n",
    "Resumo da situação atual e identificação dos clusters"
   ]
  },
  {
   "cell_type": "markdown",
   "metadata": {},
   "source": [
    "# Busca de clientes novos na base"
   ]
  },
  {
   "cell_type": "markdown",
   "metadata": {},
   "source": [
    "# Apresentação dos resultados\n",
    "Ranking e mapa"
   ]
  }
 ],
 "metadata": {
  "kernelspec": {
   "display_name": "Python 3",
   "language": "python",
   "name": "python3"
  },
  "language_info": {
   "codemirror_mode": {
    "name": "ipython",
    "version": 3
   },
   "file_extension": ".py",
   "mimetype": "text/x-python",
   "name": "python",
   "nbconvert_exporter": "python",
   "pygments_lexer": "ipython3",
   "version": "3.7.3"
  },
  "toc": {
   "base_numbering": 1,
   "nav_menu": {},
   "number_sections": true,
   "sideBar": true,
   "skip_h1_title": false,
   "title_cell": "Table of Contents",
   "title_sidebar": "Contents",
   "toc_cell": false,
   "toc_position": {},
   "toc_section_display": true,
   "toc_window_display": false
  }
 },
 "nbformat": 4,
 "nbformat_minor": 2
}
