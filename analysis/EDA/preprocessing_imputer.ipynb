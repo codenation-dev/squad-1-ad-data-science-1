{
 "cells": [
  {
   "cell_type": "markdown",
   "metadata": {},
   "source": [
    "# Objetivo\n",
    "\n",
    "Fazer o imputer para estaticos_market"
   ]
  },
  {
   "cell_type": "markdown",
   "metadata": {},
   "source": [
    "# Método\n",
    "\n",
    "A partir do conjunto reduzido de features (37), aplicar imputer para substituir nans"
   ]
  },
  {
   "cell_type": "markdown",
   "metadata": {},
   "source": [
    "# Leitura dos arquivos"
   ]
  },
  {
   "cell_type": "code",
   "execution_count": 38,
   "metadata": {},
   "outputs": [],
   "source": [
    "# imports\n",
    "import pandas as pd\n",
    "import matplotlib.pyplot as plt\n",
    "import seaborn as sns\n",
    "import numpy as np\n",
    "import feather"
   ]
  },
  {
   "cell_type": "markdown",
   "metadata": {},
   "source": [
    "## Carregamento clientes"
   ]
  },
  {
   "cell_type": "code",
   "execution_count": 39,
   "metadata": {
    "scrolled": true
   },
   "outputs": [
    {
     "name": "stdout",
     "output_type": "stream",
     "text": [
      "<class 'pandas.core.frame.DataFrame'>\n",
      "RangeIndex: 100000 entries, 0 to 99999\n",
      "Data columns (total 40 columns):\n",
      "Unnamed: 0                               100000 non-null int64\n",
      "Unnamed: 0.1                             100000 non-null int64\n",
      "id                                       100000 non-null object\n",
      "fl_matriz                                100000 non-null bool\n",
      "de_natureza_juridica                     100000 non-null object\n",
      "sg_uf                                    100000 non-null object\n",
      "natureza_juridica_macro                  100000 non-null object\n",
      "de_ramo                                  100000 non-null object\n",
      "setor                                    99635 non-null object\n",
      "idade_empresa_anos                       100000 non-null float64\n",
      "idade_emp_cat                            100000 non-null object\n",
      "fl_me                                    100000 non-null bool\n",
      "fl_sa                                    100000 non-null bool\n",
      "fl_mei                                   100000 non-null bool\n",
      "fl_ltda                                  100000 non-null bool\n",
      "dt_situacao                              99999 non-null object\n",
      "fl_st_especial                           100000 non-null bool\n",
      "fl_email                                 100000 non-null bool\n",
      "fl_telefone                              100000 non-null bool\n",
      "fl_rm                                    100000 non-null object\n",
      "nm_divisao                               99635 non-null object\n",
      "nm_segmento                              99635 non-null object\n",
      "fl_optante_simples                       82266 non-null object\n",
      "fl_optante_simei                         82266 non-null object\n",
      "sg_uf_matriz                             99635 non-null object\n",
      "de_saude_tributaria                      96854 non-null object\n",
      "de_saude_rescencia                       96854 non-null object\n",
      "nu_meses_rescencia                       90310 non-null float64\n",
      "de_nivel_atividade                       97686 non-null object\n",
      "empsetorcensitariofaixarendapopulacao    68765 non-null float64\n",
      "nm_meso_regiao                           87320 non-null object\n",
      "nm_micro_regiao                          87320 non-null object\n",
      "fl_passivel_iss                          99635 non-null object\n",
      "qt_socios                                75213 non-null float64\n",
      "idade_media_socios                       67314 non-null float64\n",
      "qt_socios_feminino                       31390 non-null float64\n",
      "de_faixa_faturamento_estimado            94118 non-null object\n",
      "de_faixa_faturamento_estimado_grupo      94118 non-null object\n",
      "vl_faturamento_estimado_aux              94118 non-null float64\n",
      "vl_faturamento_estimado_grupo_aux        94118 non-null float64\n",
      "dtypes: bool(8), float64(8), int64(2), object(22)\n",
      "memory usage: 25.2+ MB\n"
     ]
    }
   ],
   "source": [
    "p1 = pd.read_csv('estaticos_39_features.csv', nrows = 100000)\n",
    "p1.info()"
   ]
  },
  {
   "cell_type": "code",
   "execution_count": 40,
   "metadata": {},
   "outputs": [
    {
     "data": {
      "text/plain": [
       "Index(['Unnamed: 0', 'Unnamed: 0.1', 'id', 'fl_matriz', 'de_natureza_juridica',\n",
       "       'sg_uf', 'natureza_juridica_macro', 'de_ramo', 'setor',\n",
       "       'idade_empresa_anos', 'idade_emp_cat', 'fl_me', 'fl_sa', 'fl_mei',\n",
       "       'fl_ltda', 'dt_situacao', 'fl_st_especial', 'fl_email', 'fl_telefone',\n",
       "       'fl_rm', 'nm_divisao', 'nm_segmento', 'fl_optante_simples',\n",
       "       'fl_optante_simei', 'sg_uf_matriz', 'de_saude_tributaria',\n",
       "       'de_saude_rescencia', 'nu_meses_rescencia', 'de_nivel_atividade',\n",
       "       'empsetorcensitariofaixarendapopulacao', 'nm_meso_regiao',\n",
       "       'nm_micro_regiao', 'fl_passivel_iss', 'qt_socios', 'idade_media_socios',\n",
       "       'qt_socios_feminino', 'de_faixa_faturamento_estimado',\n",
       "       'de_faixa_faturamento_estimado_grupo', 'vl_faturamento_estimado_aux',\n",
       "       'vl_faturamento_estimado_grupo_aux'],\n",
       "      dtype='object')"
      ]
     },
     "execution_count": 40,
     "metadata": {},
     "output_type": "execute_result"
    }
   ],
   "source": [
    "p1.columns"
   ]
  },
  {
   "cell_type": "code",
   "execution_count": 41,
   "metadata": {},
   "outputs": [
    {
     "data": {
      "text/plain": [
       "(100000, 37)"
      ]
     },
     "execution_count": 41,
     "metadata": {},
     "output_type": "execute_result"
    }
   ],
   "source": [
    "#p1.drop(columns=exclude_variables, inplace= True)\n",
    "#p1.to_csv('estaticos_39_features.csv')\n",
    "p1.drop(columns=['Unnamed: 0','Unnamed: 0.1','id'], inplace= True)\n",
    "p1.shape"
   ]
  },
  {
   "cell_type": "markdown",
   "metadata": {},
   "source": [
    "# KNN\n"
   ]
  },
  {
   "cell_type": "markdown",
   "metadata": {},
   "source": [
    "## Dados do portfólio\n",
    "\n",
    "Para conseguir usar o KNN precisamos fazer filtrar os NaNs\n",
    "\n",
    "Nesse processo vamos utilizar o Imputer para substituir os nans pelo most_frequent da feature"
   ]
  },
  {
   "cell_type": "code",
   "execution_count": 42,
   "metadata": {},
   "outputs": [
    {
     "data": {
      "text/plain": [
       "array([ True, False])"
      ]
     },
     "execution_count": 42,
     "metadata": {},
     "output_type": "execute_result"
    }
   ],
   "source": [
    "p1.fl_matriz.unique()"
   ]
  },
  {
   "cell_type": "code",
   "execution_count": 31,
   "metadata": {},
   "outputs": [
    {
     "data": {
      "text/plain": [
       "array([False, True], dtype=object)"
      ]
     },
     "execution_count": 31,
     "metadata": {},
     "output_type": "execute_result"
    }
   ],
   "source": [
    "#from sklearn.preprocessing import Imputer\n",
    "from sklearn_pandas.categorical_imputer import CategoricalImputer\n",
    "\n",
    "fill_na = CategoricalImputer()\n",
    "\n",
    "p1.fl_optante_simei = fill_na.fit_transform(p1.fl_optante_simei)\n",
    "\n",
    "p1.fl_optante_simei.unique()\n",
    "\n",
    "\n"
   ]
  },
  {
   "cell_type": "code",
   "execution_count": 46,
   "metadata": {},
   "outputs": [
    {
     "name": "stdout",
     "output_type": "stream",
     "text": [
      "0\n",
      "0\n",
      "0\n",
      "0\n",
      "0\n",
      "365\n",
      "0\n",
      "0\n",
      "0\n",
      "0\n",
      "0\n",
      "0\n",
      "1\n",
      "0\n",
      "0\n",
      "0\n",
      "0\n",
      "365\n",
      "365\n",
      "17734\n",
      "17734\n",
      "365\n",
      "3146\n",
      "3146\n",
      "9690\n",
      "2314\n",
      "31235\n",
      "12680\n",
      "12680\n",
      "365\n",
      "24787\n",
      "32686\n",
      "68610\n",
      "5882\n",
      "5882\n",
      "5882\n",
      "5882\n"
     ]
    }
   ],
   "source": [
    "#p1.fl_optante_simples.unique()\n",
    "\n",
    "#p1 = fill_na.fit_transform(p1)\n",
    "for feature in p1.columns:\n",
    "    print(sum(p1[feature].isna()))"
   ]
  },
  {
   "cell_type": "code",
   "execution_count": 6,
   "metadata": {},
   "outputs": [],
   "source": [
    "\n",
    "# Usando LabelEncoder\n",
    "#https://chrisalbon.com/machine_learning/preprocessing_structured_data/convert_pandas_categorical_column_into_integers_for_scikit-learn/\n",
    "from sklearn import preprocessing\n",
    "# Create a label (category) encoder object\n",
    "le = preprocessing.LabelEncoder()"
   ]
  },
  {
   "cell_type": "code",
   "execution_count": 7,
   "metadata": {},
   "outputs": [
    {
     "data": {
      "text/plain": [
       "fl_matriz                                   bool\n",
       "de_natureza_juridica                      object\n",
       "sg_uf                                     object\n",
       "natureza_juridica_macro                   object\n",
       "de_ramo                                   object\n",
       "setor                                     object\n",
       "idade_empresa_anos                       float64\n",
       "idade_emp_cat                             object\n",
       "fl_me                                       bool\n",
       "fl_sa                                       bool\n",
       "fl_mei                                      bool\n",
       "fl_ltda                                     bool\n",
       "dt_situacao                               object\n",
       "fl_st_especial                              bool\n",
       "fl_email                                    bool\n",
       "fl_telefone                                 bool\n",
       "fl_rm                                     object\n",
       "nm_divisao                                object\n",
       "nm_segmento                               object\n",
       "fl_optante_simples                        object\n",
       "fl_optante_simei                          object\n",
       "sg_uf_matriz                              object\n",
       "de_saude_tributaria                       object\n",
       "de_saude_rescencia                        object\n",
       "nu_meses_rescencia                       float64\n",
       "de_nivel_atividade                        object\n",
       "empsetorcensitariofaixarendapopulacao    float64\n",
       "nm_meso_regiao                            object\n",
       "nm_micro_regiao                           object\n",
       "fl_passivel_iss                           object\n",
       "qt_socios                                float64\n",
       "idade_media_socios                       float64\n",
       "qt_socios_feminino                       float64\n",
       "de_faixa_faturamento_estimado             object\n",
       "de_faixa_faturamento_estimado_grupo       object\n",
       "vl_faturamento_estimado_aux              float64\n",
       "vl_faturamento_estimado_grupo_aux        float64\n",
       "dtype: object"
      ]
     },
     "execution_count": 7,
     "metadata": {},
     "output_type": "execute_result"
    }
   ],
   "source": [
    "p1enc=pd.DataFrame()\n",
    "categorical_cols = p1.columns\n",
    "p1enc = p1[categorical_cols]\n",
    "p1enc.columns\n",
    "p1enc.dtypes\n",
    "\n",
    "#p1enc = p1enc[categorical_cols].apply(lambda col: le.fit_transform(col))"
   ]
  },
  {
   "cell_type": "code",
   "execution_count": 9,
   "metadata": {},
   "outputs": [
    {
     "name": "stdout",
     "output_type": "stream",
     "text": [
      "de_natureza_juridica object\n",
      "sg_uf object\n",
      "natureza_juridica_macro object\n",
      "de_ramo object\n",
      "setor object\n"
     ]
    },
    {
     "ename": "TypeError",
     "evalue": "argument must be a string or number",
     "output_type": "error",
     "traceback": [
      "\u001b[0;31m---------------------------------------------------------------------------\u001b[0m",
      "\u001b[0;31mTypeError\u001b[0m                                 Traceback (most recent call last)",
      "\u001b[0;32m~/codenation/venv/lib/python3.6/site-packages/sklearn/preprocessing/label.py\u001b[0m in \u001b[0;36m_encode\u001b[0;34m(values, uniques, encode)\u001b[0m\n\u001b[1;32m    104\u001b[0m         \u001b[0;32mtry\u001b[0m\u001b[0;34m:\u001b[0m\u001b[0;34m\u001b[0m\u001b[0;34m\u001b[0m\u001b[0m\n\u001b[0;32m--> 105\u001b[0;31m             \u001b[0mres\u001b[0m \u001b[0;34m=\u001b[0m \u001b[0m_encode_python\u001b[0m\u001b[0;34m(\u001b[0m\u001b[0mvalues\u001b[0m\u001b[0;34m,\u001b[0m \u001b[0muniques\u001b[0m\u001b[0;34m,\u001b[0m \u001b[0mencode\u001b[0m\u001b[0;34m)\u001b[0m\u001b[0;34m\u001b[0m\u001b[0;34m\u001b[0m\u001b[0m\n\u001b[0m\u001b[1;32m    106\u001b[0m         \u001b[0;32mexcept\u001b[0m \u001b[0mTypeError\u001b[0m\u001b[0;34m:\u001b[0m\u001b[0;34m\u001b[0m\u001b[0;34m\u001b[0m\u001b[0m\n",
      "\u001b[0;32m~/codenation/venv/lib/python3.6/site-packages/sklearn/preprocessing/label.py\u001b[0m in \u001b[0;36m_encode_python\u001b[0;34m(values, uniques, encode)\u001b[0m\n\u001b[1;32m     58\u001b[0m     \u001b[0;32mif\u001b[0m \u001b[0muniques\u001b[0m \u001b[0;32mis\u001b[0m \u001b[0;32mNone\u001b[0m\u001b[0;34m:\u001b[0m\u001b[0;34m\u001b[0m\u001b[0;34m\u001b[0m\u001b[0m\n\u001b[0;32m---> 59\u001b[0;31m         \u001b[0muniques\u001b[0m \u001b[0;34m=\u001b[0m \u001b[0msorted\u001b[0m\u001b[0;34m(\u001b[0m\u001b[0mset\u001b[0m\u001b[0;34m(\u001b[0m\u001b[0mvalues\u001b[0m\u001b[0;34m)\u001b[0m\u001b[0;34m)\u001b[0m\u001b[0;34m\u001b[0m\u001b[0;34m\u001b[0m\u001b[0m\n\u001b[0m\u001b[1;32m     60\u001b[0m         \u001b[0muniques\u001b[0m \u001b[0;34m=\u001b[0m \u001b[0mnp\u001b[0m\u001b[0;34m.\u001b[0m\u001b[0marray\u001b[0m\u001b[0;34m(\u001b[0m\u001b[0muniques\u001b[0m\u001b[0;34m,\u001b[0m \u001b[0mdtype\u001b[0m\u001b[0;34m=\u001b[0m\u001b[0mvalues\u001b[0m\u001b[0;34m.\u001b[0m\u001b[0mdtype\u001b[0m\u001b[0;34m)\u001b[0m\u001b[0;34m\u001b[0m\u001b[0;34m\u001b[0m\u001b[0m\n",
      "\u001b[0;31mTypeError\u001b[0m: '<' not supported between instances of 'str' and 'float'",
      "\nDuring handling of the above exception, another exception occurred:\n",
      "\u001b[0;31mTypeError\u001b[0m                                 Traceback (most recent call last)",
      "\u001b[0;32m<ipython-input-9-f2a0a7c19ce7>\u001b[0m in \u001b[0;36m<module>\u001b[0;34m\u001b[0m\n\u001b[1;32m      3\u001b[0m     \u001b[0mprint\u001b[0m\u001b[0;34m(\u001b[0m\u001b[0mfeature\u001b[0m\u001b[0;34m,\u001b[0m \u001b[0mp1enc\u001b[0m\u001b[0;34m[\u001b[0m\u001b[0mfeature\u001b[0m\u001b[0;34m]\u001b[0m\u001b[0;34m.\u001b[0m\u001b[0mdtype\u001b[0m\u001b[0;34m)\u001b[0m\u001b[0;34m\u001b[0m\u001b[0;34m\u001b[0m\u001b[0m\n\u001b[1;32m      4\u001b[0m     \u001b[0;31m#p1enc[[feature]] = p1enc[[feature]].fillna('other')\u001b[0m\u001b[0;34m\u001b[0m\u001b[0;34m\u001b[0m\u001b[0;34m\u001b[0m\u001b[0m\n\u001b[0;32m----> 5\u001b[0;31m     \u001b[0mp1enc\u001b[0m\u001b[0;34m[\u001b[0m\u001b[0mfeature\u001b[0m\u001b[0;34m]\u001b[0m \u001b[0;34m=\u001b[0m \u001b[0mle\u001b[0m\u001b[0;34m.\u001b[0m\u001b[0mfit_transform\u001b[0m\u001b[0;34m(\u001b[0m\u001b[0mp1enc\u001b[0m\u001b[0;34m[\u001b[0m\u001b[0mfeature\u001b[0m\u001b[0;34m]\u001b[0m\u001b[0;34m)\u001b[0m\u001b[0;34m\u001b[0m\u001b[0;34m\u001b[0m\u001b[0m\n\u001b[0m\u001b[1;32m      6\u001b[0m \u001b[0;34m\u001b[0m\u001b[0m\n",
      "\u001b[0;32m~/codenation/venv/lib/python3.6/site-packages/sklearn/preprocessing/label.py\u001b[0m in \u001b[0;36mfit_transform\u001b[0;34m(self, y)\u001b[0m\n\u001b[1;32m    234\u001b[0m         \"\"\"\n\u001b[1;32m    235\u001b[0m         \u001b[0my\u001b[0m \u001b[0;34m=\u001b[0m \u001b[0mcolumn_or_1d\u001b[0m\u001b[0;34m(\u001b[0m\u001b[0my\u001b[0m\u001b[0;34m,\u001b[0m \u001b[0mwarn\u001b[0m\u001b[0;34m=\u001b[0m\u001b[0;32mTrue\u001b[0m\u001b[0;34m)\u001b[0m\u001b[0;34m\u001b[0m\u001b[0;34m\u001b[0m\u001b[0m\n\u001b[0;32m--> 236\u001b[0;31m         \u001b[0mself\u001b[0m\u001b[0;34m.\u001b[0m\u001b[0mclasses_\u001b[0m\u001b[0;34m,\u001b[0m \u001b[0my\u001b[0m \u001b[0;34m=\u001b[0m \u001b[0m_encode\u001b[0m\u001b[0;34m(\u001b[0m\u001b[0my\u001b[0m\u001b[0;34m,\u001b[0m \u001b[0mencode\u001b[0m\u001b[0;34m=\u001b[0m\u001b[0;32mTrue\u001b[0m\u001b[0;34m)\u001b[0m\u001b[0;34m\u001b[0m\u001b[0;34m\u001b[0m\u001b[0m\n\u001b[0m\u001b[1;32m    237\u001b[0m         \u001b[0;32mreturn\u001b[0m \u001b[0my\u001b[0m\u001b[0;34m\u001b[0m\u001b[0;34m\u001b[0m\u001b[0m\n\u001b[1;32m    238\u001b[0m \u001b[0;34m\u001b[0m\u001b[0m\n",
      "\u001b[0;32m~/codenation/venv/lib/python3.6/site-packages/sklearn/preprocessing/label.py\u001b[0m in \u001b[0;36m_encode\u001b[0;34m(values, uniques, encode)\u001b[0m\n\u001b[1;32m    105\u001b[0m             \u001b[0mres\u001b[0m \u001b[0;34m=\u001b[0m \u001b[0m_encode_python\u001b[0m\u001b[0;34m(\u001b[0m\u001b[0mvalues\u001b[0m\u001b[0;34m,\u001b[0m \u001b[0muniques\u001b[0m\u001b[0;34m,\u001b[0m \u001b[0mencode\u001b[0m\u001b[0;34m)\u001b[0m\u001b[0;34m\u001b[0m\u001b[0;34m\u001b[0m\u001b[0m\n\u001b[1;32m    106\u001b[0m         \u001b[0;32mexcept\u001b[0m \u001b[0mTypeError\u001b[0m\u001b[0;34m:\u001b[0m\u001b[0;34m\u001b[0m\u001b[0;34m\u001b[0m\u001b[0m\n\u001b[0;32m--> 107\u001b[0;31m             \u001b[0;32mraise\u001b[0m \u001b[0mTypeError\u001b[0m\u001b[0;34m(\u001b[0m\u001b[0;34m\"argument must be a string or number\"\u001b[0m\u001b[0;34m)\u001b[0m\u001b[0;34m\u001b[0m\u001b[0;34m\u001b[0m\u001b[0m\n\u001b[0m\u001b[1;32m    108\u001b[0m         \u001b[0;32mreturn\u001b[0m \u001b[0mres\u001b[0m\u001b[0;34m\u001b[0m\u001b[0;34m\u001b[0m\u001b[0m\n\u001b[1;32m    109\u001b[0m     \u001b[0;32melse\u001b[0m\u001b[0;34m:\u001b[0m\u001b[0;34m\u001b[0m\u001b[0;34m\u001b[0m\u001b[0m\n",
      "\u001b[0;31mTypeError\u001b[0m: argument must be a string or number"
     ]
    }
   ],
   "source": [
    "columns = p1enc.columns[p1enc.dtypes == object]\n",
    "for feature in columns:\n",
    "    print(feature, p1enc[feature].dtype)\n",
    "    #p1enc[[feature]] = p1enc[[feature]].fillna('other')\n",
    "    p1enc[feature] = le.fit_transform(p1enc[feature])\n",
    "    \n"
   ]
  },
  {
   "cell_type": "code",
   "execution_count": null,
   "metadata": {},
   "outputs": [],
   "source": [
    "for feature in columns:\n",
    "    if p1enc[feature].dtype == object:\n",
    "        print(feature, p1enc[feature].dtype)\n",
    "        p1enc[[feature]] = p1enc[[feature]].fillna('other')\n",
    "        p1enc[feature] = le.fit_transform(p1enc[feature])\n",
    "    elif p1enc[feature].dtype == bool:\n",
    "        p1enc[feature] = p1enc[feature].astype(int)\n",
    "    else:\n",
    "        p1enc[feature].fillna(0,inplace = True)\n"
   ]
  },
  {
   "cell_type": "code",
   "execution_count": null,
   "metadata": {},
   "outputs": [],
   "source": [
    "p1enc.head()"
   ]
  },
  {
   "cell_type": "code",
   "execution_count": null,
   "metadata": {},
   "outputs": [],
   "source": [
    "from sklearn.model_selection import train_test_split\n",
    "\n",
    "X_train, X_test, y_train, y_test"
   ]
  },
  {
   "cell_type": "code",
   "execution_count": null,
   "metadata": {},
   "outputs": [],
   "source": [
    "from sklearn.neighbors import KNeighborsClassifier\n",
    "\n",
    "    "
   ]
  },
  {
   "cell_type": "markdown",
   "metadata": {},
   "source": [
    "## Conclusão até o momento"
   ]
  },
  {
   "cell_type": "code",
   "execution_count": null,
   "metadata": {},
   "outputs": [],
   "source": [
    "Para fazer o KNN precisamos limpar os nans. O fillna não está funcionando bem para isso\n",
    "Vou recomeçar e fazer com o Imputer"
   ]
  }
 ],
 "metadata": {
  "kernelspec": {
   "display_name": "Python 3",
   "language": "python",
   "name": "python3"
  },
  "language_info": {
   "codemirror_mode": {
    "name": "ipython",
    "version": 3
   },
   "file_extension": ".py",
   "mimetype": "text/x-python",
   "name": "python",
   "nbconvert_exporter": "python",
   "pygments_lexer": "ipython3",
   "version": "3.6.8"
  },
  "toc": {
   "base_numbering": 1,
   "nav_menu": {},
   "number_sections": true,
   "sideBar": true,
   "skip_h1_title": false,
   "title_cell": "Table of Contents",
   "title_sidebar": "Contents",
   "toc_cell": false,
   "toc_position": {},
   "toc_section_display": true,
   "toc_window_display": false
  }
 },
 "nbformat": 4,
 "nbformat_minor": 2
}
