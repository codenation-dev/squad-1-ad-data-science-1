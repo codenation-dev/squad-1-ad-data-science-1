{
 "cells": [
  {
   "cell_type": "markdown",
   "metadata": {},
   "source": [
    "# Objetivo\n",
    "\n",
    "Avaliar se há clusters no portfólio 2. Em um segundo momento, a partir de uma clusterização global (na base toda), buscar novos clientes na base completa."
   ]
  },
  {
   "cell_type": "markdown",
   "metadata": {},
   "source": [
    "# Método\n",
    "\n",
    "A partir do conjunto reduzido de features (47), aplicar um processo de clusterização (AgglomerativeClustering)."
   ]
  },
  {
   "cell_type": "markdown",
   "metadata": {},
   "source": [
    "# Leitura dos arquivos"
   ]
  },
  {
   "cell_type": "code",
   "execution_count": 1,
   "metadata": {},
   "outputs": [],
   "source": [
    "# imports\n",
    "import pandas as pd\n",
    "import matplotlib.pyplot as plt\n",
    "import seaborn as sns\n",
    "import numpy as np\n",
    "import feather"
   ]
  },
  {
   "cell_type": "markdown",
   "metadata": {},
   "source": [
    "## Leitura da lista de features a excluir"
   ]
  },
  {
   "cell_type": "code",
   "execution_count": 2,
   "metadata": {},
   "outputs": [
    {
     "data": {
      "text/plain": [
       "143"
      ]
     },
     "execution_count": 2,
     "metadata": {},
     "output_type": "execute_result"
    }
   ],
   "source": [
    "# obtida em EDA Pandas_profiling_sample_10k_market.ipynb\n",
    "exclude_df = pd.read_csv('../exclude_variables_generated_from_profiling.csv')\n",
    "exclude_variables = exclude_df.values.squeeze().tolist()\n",
    "len(exclude_variables)"
   ]
  },
  {
   "cell_type": "markdown",
   "metadata": {},
   "source": [
    "## Carregamento Portfólio 1"
   ]
  },
  {
   "cell_type": "code",
   "execution_count": 3,
   "metadata": {},
   "outputs": [
    {
     "name": "stdout",
     "output_type": "stream",
     "text": [
      "<class 'pandas.core.frame.DataFrame'>\n",
      "RangeIndex: 265 entries, 0 to 264\n",
      "Columns: 182 entries, Unnamed: 0 to qt_filiais\n",
      "dtypes: bool(14), float64(144), int64(2), object(22)\n",
      "memory usage: 351.5+ KB\n"
     ]
    }
   ],
   "source": [
    "p2 = pd.read_csv('../clientes3_merge.csv')\n",
    "p2.info()"
   ]
  },
  {
   "cell_type": "markdown",
   "metadata": {},
   "source": [
    "## Redução no número de features"
   ]
  },
  {
   "cell_type": "code",
   "execution_count": 4,
   "metadata": {},
   "outputs": [],
   "source": [
    "p2.drop(columns=exclude_variables, inplace= True)"
   ]
  },
  {
   "cell_type": "code",
   "execution_count": 5,
   "metadata": {},
   "outputs": [
    {
     "data": {
      "text/plain": [
       "(265, 39)"
      ]
     },
     "execution_count": 5,
     "metadata": {},
     "output_type": "execute_result"
    }
   ],
   "source": [
    "p2.shape"
   ]
  },
  {
   "cell_type": "markdown",
   "metadata": {},
   "source": [
    "# Clusterização"
   ]
  },
  {
   "cell_type": "markdown",
   "metadata": {},
   "source": [
    "## Dados do portfólio\n",
    "\n",
    "Para usar nos dados do portfólio, temos que passar as strings para valor numérico."
   ]
  },
  {
   "cell_type": "code",
   "execution_count": 6,
   "metadata": {},
   "outputs": [],
   "source": [
    "# portfolio 2, reduzido (micro): p1micro\n",
    "p2micro = p2.drop(columns=['Unnamed: 0', 'id'])"
   ]
  },
  {
   "cell_type": "code",
   "execution_count": 7,
   "metadata": {},
   "outputs": [
    {
     "data": {
      "text/plain": [
       "fl_matriz                                False\n",
       "de_natureza_juridica                      True\n",
       "sg_uf                                     True\n",
       "natureza_juridica_macro                   True\n",
       "de_ramo                                   True\n",
       "setor                                     True\n",
       "idade_empresa_anos                       False\n",
       "idade_emp_cat                             True\n",
       "fl_me                                    False\n",
       "fl_sa                                    False\n",
       "fl_mei                                   False\n",
       "fl_ltda                                  False\n",
       "dt_situacao                               True\n",
       "fl_st_especial                           False\n",
       "fl_email                                 False\n",
       "fl_telefone                              False\n",
       "fl_rm                                     True\n",
       "nm_divisao                                True\n",
       "nm_segmento                               True\n",
       "fl_optante_simples                        True\n",
       "fl_optante_simei                          True\n",
       "sg_uf_matriz                              True\n",
       "de_saude_tributaria                       True\n",
       "de_saude_rescencia                        True\n",
       "nu_meses_rescencia                       False\n",
       "de_nivel_atividade                        True\n",
       "empsetorcensitariofaixarendapopulacao    False\n",
       "nm_meso_regiao                            True\n",
       "nm_micro_regiao                           True\n",
       "fl_passivel_iss                          False\n",
       "qt_socios                                False\n",
       "idade_media_socios                       False\n",
       "qt_socios_feminino                       False\n",
       "de_faixa_faturamento_estimado             True\n",
       "de_faixa_faturamento_estimado_grupo       True\n",
       "vl_faturamento_estimado_aux              False\n",
       "vl_faturamento_estimado_grupo_aux        False\n",
       "dtype: bool"
      ]
     },
     "execution_count": 7,
     "metadata": {},
     "output_type": "execute_result"
    }
   ],
   "source": [
    "p2micro.dtypes == object"
   ]
  },
  {
   "cell_type": "code",
   "execution_count": 8,
   "metadata": {},
   "outputs": [
    {
     "data": {
      "text/html": [
       "<div>\n",
       "<style scoped>\n",
       "    .dataframe tbody tr th:only-of-type {\n",
       "        vertical-align: middle;\n",
       "    }\n",
       "\n",
       "    .dataframe tbody tr th {\n",
       "        vertical-align: top;\n",
       "    }\n",
       "\n",
       "    .dataframe thead th {\n",
       "        text-align: right;\n",
       "    }\n",
       "</style>\n",
       "<table border=\"1\" class=\"dataframe\">\n",
       "  <thead>\n",
       "    <tr style=\"text-align: right;\">\n",
       "      <th></th>\n",
       "      <th>fl_matriz</th>\n",
       "      <th>de_natureza_juridica</th>\n",
       "      <th>sg_uf</th>\n",
       "      <th>natureza_juridica_macro</th>\n",
       "      <th>de_ramo</th>\n",
       "      <th>setor</th>\n",
       "      <th>idade_empresa_anos</th>\n",
       "      <th>idade_emp_cat</th>\n",
       "      <th>fl_me</th>\n",
       "      <th>fl_sa</th>\n",
       "      <th>...</th>\n",
       "      <th>nm_meso_regiao</th>\n",
       "      <th>nm_micro_regiao</th>\n",
       "      <th>fl_passivel_iss</th>\n",
       "      <th>qt_socios</th>\n",
       "      <th>idade_media_socios</th>\n",
       "      <th>qt_socios_feminino</th>\n",
       "      <th>de_faixa_faturamento_estimado</th>\n",
       "      <th>de_faixa_faturamento_estimado_grupo</th>\n",
       "      <th>vl_faturamento_estimado_aux</th>\n",
       "      <th>vl_faturamento_estimado_grupo_aux</th>\n",
       "    </tr>\n",
       "  </thead>\n",
       "  <tbody>\n",
       "    <tr>\n",
       "      <th>0</th>\n",
       "      <td>True</td>\n",
       "      <td>MUNICIPIO</td>\n",
       "      <td>MA</td>\n",
       "      <td>OUTROS</td>\n",
       "      <td>ADMINISTRACAO PUBLICA, DEFESA E SEGURIDADE SOCIAL</td>\n",
       "      <td>SERVIÇO</td>\n",
       "      <td>21.813699</td>\n",
       "      <td>&gt; 20</td>\n",
       "      <td>False</td>\n",
       "      <td>False</td>\n",
       "      <td>...</td>\n",
       "      <td>OESTE MARANHENSE</td>\n",
       "      <td>PINDARE</td>\n",
       "      <td>True</td>\n",
       "      <td>NaN</td>\n",
       "      <td>NaN</td>\n",
       "      <td>NaN</td>\n",
       "      <td>DE R$ 100.000.000,01 A R$ 300.000.000,00</td>\n",
       "      <td>DE R$ 100.000.000,01 A R$ 300.000.000,00</td>\n",
       "      <td>141308380.0</td>\n",
       "      <td>144348380.0</td>\n",
       "    </tr>\n",
       "    <tr>\n",
       "      <th>1</th>\n",
       "      <td>True</td>\n",
       "      <td>SOCIEDADE SIMPLES LIMITADA</td>\n",
       "      <td>PI</td>\n",
       "      <td>ENTIDADES EMPRESARIAIS</td>\n",
       "      <td>SERVICOS DE EDUCACAO</td>\n",
       "      <td>SERVIÇO</td>\n",
       "      <td>16.389041</td>\n",
       "      <td>15 a 20</td>\n",
       "      <td>False</td>\n",
       "      <td>False</td>\n",
       "      <td>...</td>\n",
       "      <td>NORTE PIAUIENSE</td>\n",
       "      <td>BAIXO PARNAIBA PIAUIENSE</td>\n",
       "      <td>True</td>\n",
       "      <td>2.0</td>\n",
       "      <td>70.0</td>\n",
       "      <td>1.0</td>\n",
       "      <td>DE R$ 10.000.000,01 A R$ 30.000.000,00</td>\n",
       "      <td>DE R$ 10.000.000,01 A R$ 30.000.000,00</td>\n",
       "      <td>27818640.0</td>\n",
       "      <td>27818640.0</td>\n",
       "    </tr>\n",
       "    <tr>\n",
       "      <th>2</th>\n",
       "      <td>True</td>\n",
       "      <td>ORGAO PUBLICO DO PODER EXECUTIVO ESTADUAL OU D...</td>\n",
       "      <td>AM</td>\n",
       "      <td>ADMINISTRACAO PUBLICA</td>\n",
       "      <td>ADMINISTRACAO PUBLICA, DEFESA E SEGURIDADE SOCIAL</td>\n",
       "      <td>SERVIÇO</td>\n",
       "      <td>40.380822</td>\n",
       "      <td>&gt; 20</td>\n",
       "      <td>False</td>\n",
       "      <td>False</td>\n",
       "      <td>...</td>\n",
       "      <td>CENTRO AMAZONENSE</td>\n",
       "      <td>MANAUS</td>\n",
       "      <td>True</td>\n",
       "      <td>NaN</td>\n",
       "      <td>NaN</td>\n",
       "      <td>NaN</td>\n",
       "      <td>DE R$ 30.000.000,01 A R$ 100.000.000,00</td>\n",
       "      <td>DE R$ 30.000.000,01 A R$ 100.000.000,00</td>\n",
       "      <td>92728800.0</td>\n",
       "      <td>92728800.0</td>\n",
       "    </tr>\n",
       "  </tbody>\n",
       "</table>\n",
       "<p>3 rows × 37 columns</p>\n",
       "</div>"
      ],
      "text/plain": [
       "   fl_matriz                               de_natureza_juridica sg_uf  \\\n",
       "0       True                                          MUNICIPIO    MA   \n",
       "1       True                         SOCIEDADE SIMPLES LIMITADA    PI   \n",
       "2       True  ORGAO PUBLICO DO PODER EXECUTIVO ESTADUAL OU D...    AM   \n",
       "\n",
       "  natureza_juridica_macro                                            de_ramo  \\\n",
       "0                  OUTROS  ADMINISTRACAO PUBLICA, DEFESA E SEGURIDADE SOCIAL   \n",
       "1  ENTIDADES EMPRESARIAIS                               SERVICOS DE EDUCACAO   \n",
       "2   ADMINISTRACAO PUBLICA  ADMINISTRACAO PUBLICA, DEFESA E SEGURIDADE SOCIAL   \n",
       "\n",
       "     setor  idade_empresa_anos idade_emp_cat  fl_me  fl_sa  ...  \\\n",
       "0  SERVIÇO           21.813699          > 20  False  False  ...   \n",
       "1  SERVIÇO           16.389041       15 a 20  False  False  ...   \n",
       "2  SERVIÇO           40.380822          > 20  False  False  ...   \n",
       "\n",
       "      nm_meso_regiao           nm_micro_regiao fl_passivel_iss  qt_socios  \\\n",
       "0   OESTE MARANHENSE                   PINDARE            True        NaN   \n",
       "1    NORTE PIAUIENSE  BAIXO PARNAIBA PIAUIENSE            True        2.0   \n",
       "2  CENTRO AMAZONENSE                    MANAUS            True        NaN   \n",
       "\n",
       "   idade_media_socios  qt_socios_feminino  \\\n",
       "0                 NaN                 NaN   \n",
       "1                70.0                 1.0   \n",
       "2                 NaN                 NaN   \n",
       "\n",
       "              de_faixa_faturamento_estimado  \\\n",
       "0  DE R$ 100.000.000,01 A R$ 300.000.000,00   \n",
       "1    DE R$ 10.000.000,01 A R$ 30.000.000,00   \n",
       "2   DE R$ 30.000.000,01 A R$ 100.000.000,00   \n",
       "\n",
       "        de_faixa_faturamento_estimado_grupo vl_faturamento_estimado_aux  \\\n",
       "0  DE R$ 100.000.000,01 A R$ 300.000.000,00                 141308380.0   \n",
       "1    DE R$ 10.000.000,01 A R$ 30.000.000,00                  27818640.0   \n",
       "2   DE R$ 30.000.000,01 A R$ 100.000.000,00                  92728800.0   \n",
       "\n",
       "  vl_faturamento_estimado_grupo_aux  \n",
       "0                       144348380.0  \n",
       "1                        27818640.0  \n",
       "2                        92728800.0  \n",
       "\n",
       "[3 rows x 37 columns]"
      ]
     },
     "execution_count": 8,
     "metadata": {},
     "output_type": "execute_result"
    }
   ],
   "source": [
    "p2micro.head(3)"
   ]
  },
  {
   "cell_type": "code",
   "execution_count": 9,
   "metadata": {},
   "outputs": [
    {
     "name": "stdout",
     "output_type": "stream",
     "text": [
      "MUNICIPIO                                                                 108\n",
      "SOCIEDADE EMPRESARIA LIMITADA                                              62\n",
      "ORGAO PUBLICO DO PODER EXECUTIVO ESTADUAL OU DO DISTRITO FEDERAL           20\n",
      "EMPRESA INDIVIDUAL DE RESPONSABILIDADE LIMITADA DE NATUREZA EMPRESARIA     13\n",
      "ORGAO PUBLICO DO PODER EXECUTIVO MUNICIPAL                                  9\n",
      "ASSOCIACAO PRIVADA                                                          8\n",
      "AUTARQUIA ESTADUAL OU DO DISTRITO FEDERAL                                   6\n",
      "SERVICO SOCIAL AUTONOMO                                                     5\n",
      "AUTARQUIA FEDERAL                                                           4\n",
      "COOPERATIVA                                                                 4\n",
      "FUNDACAO PUB DE DIREITO PUB EST OU DO DF                                    3\n",
      "ORGAO PUBLICO DO PODER LEGISLATIVO ESTADUAL OU DO DISTRITO FEDERAL          3\n",
      "EMPRESARIO INDIVIDUAL                                                       3\n",
      "SOCIEDADE DE ECONOMIA MISTA                                                 2\n",
      "FUNDACAO PRIVADA                                                            2\n",
      "SOCIEDADE ANONIMA FECHADA                                                   2\n",
      "SOCIEDADE SIMPLES LIMITADA                                                  2\n",
      "ORGAO PUBLICO DO PODER JUDICIARIO FEDERAL                                   2\n",
      "AUTARQUIA MUNICIPAL                                                         1\n",
      "ORGAO PUBLICO DO PODER JUDICIARIO ESTADUAL                                  1\n",
      "FUNDACAO PUBLICA DE DIREITO PUB MUNICIPAL                                   1\n",
      "CONSORCIO DE SOCIEDADES                                                     1\n",
      "CONDOMINIO EDILICIO                                                         1\n",
      "FUNDO PUBLICO                                                               1\n",
      "ENTIDADE SINDICAL                                                           1\n",
      "Name: de_natureza_juridica, dtype: int64\n",
      "\n",
      "\n",
      "MA    74\n",
      "PI    52\n",
      "RN    51\n",
      "AM    43\n",
      "AC    23\n",
      "RO    22\n",
      "Name: sg_uf, dtype: int64\n",
      "\n",
      "\n",
      "ADMINISTRACAO PUBLICA, DEFESA E SEGURIDADE SOCIAL    150\n",
      "SERVICOS ADMINISTRATIVOS                              35\n",
      "SERVICOS DE EDUCACAO                                  22\n",
      "TRANSPORTE, ARMAZENAGEM E CORREIO                     14\n",
      "SERVICOS DE SAUDE                                     13\n",
      "SERVICOS DE SANEAMENTO BASICO                          5\n",
      "SERVICOS PROFISSIONAIS, TECNICOS E CIENTIFICOS         5\n",
      "SERVICOS DE ALOJAMENTO/ALIMENTACAO                     5\n",
      "SERVICOS DIVERSOS                                      4\n",
      "TELECOM                                                3\n",
      "SEGUROS, PLANOS DE PREVIDENCIA E PLANOS DE SAUDE       3\n",
      "SERVICOS FINANCEIROS                                   2\n",
      "INDUSTRIA DIGITAL                                      1\n",
      "ATIVIDADES IMOBILIARIAS                                1\n",
      "CULTURA, ESPORTE E RECREACAO                           1\n",
      "SERVICOS SOCIAIS                                       1\n",
      "Name: de_ramo, dtype: int64\n",
      "\n",
      "\n",
      "ALTA     236\n",
      "MEDIA     26\n",
      "BAIXA      3\n",
      "Name: de_nivel_atividade, dtype: int64\n",
      "\n",
      "\n"
     ]
    }
   ],
   "source": [
    "# Vou começar com 4 features: de_natureza_juridica, sg_uf, de_ramo, de_nivel_atividade\n",
    "categorical_cols = ['de_natureza_juridica', 'sg_uf', 'de_ramo', 'de_nivel_atividade']\n",
    "for feat in categorical_cols:\n",
    "    print(p2micro[feat].value_counts())\n",
    "    print('\\n')"
   ]
  },
  {
   "cell_type": "code",
   "execution_count": 10,
   "metadata": {},
   "outputs": [],
   "source": [
    "# Usando LabelEncoder\n",
    "#https://chrisalbon.com/machine_learning/preprocessing_structured_data/convert_pandas_categorical_column_into_integers_for_scikit-learn/\n",
    "from sklearn import preprocessing\n",
    "# Create a label (category) encoder object\n",
    "le = preprocessing.LabelEncoder()"
   ]
  },
  {
   "cell_type": "code",
   "execution_count": 11,
   "metadata": {},
   "outputs": [
    {
     "data": {
      "text/html": [
       "<div>\n",
       "<style scoped>\n",
       "    .dataframe tbody tr th:only-of-type {\n",
       "        vertical-align: middle;\n",
       "    }\n",
       "\n",
       "    .dataframe tbody tr th {\n",
       "        vertical-align: top;\n",
       "    }\n",
       "\n",
       "    .dataframe thead th {\n",
       "        text-align: right;\n",
       "    }\n",
       "</style>\n",
       "<table border=\"1\" class=\"dataframe\">\n",
       "  <thead>\n",
       "    <tr style=\"text-align: right;\">\n",
       "      <th></th>\n",
       "      <th>de_natureza_juridica</th>\n",
       "      <th>sg_uf</th>\n",
       "      <th>de_ramo</th>\n",
       "    </tr>\n",
       "  </thead>\n",
       "  <tbody>\n",
       "    <tr>\n",
       "      <th>0</th>\n",
       "      <td>14</td>\n",
       "      <td>2</td>\n",
       "      <td>0</td>\n",
       "    </tr>\n",
       "    <tr>\n",
       "      <th>1</th>\n",
       "      <td>24</td>\n",
       "      <td>3</td>\n",
       "      <td>7</td>\n",
       "    </tr>\n",
       "    <tr>\n",
       "      <th>2</th>\n",
       "      <td>15</td>\n",
       "      <td>1</td>\n",
       "      <td>0</td>\n",
       "    </tr>\n",
       "    <tr>\n",
       "      <th>3</th>\n",
       "      <td>14</td>\n",
       "      <td>3</td>\n",
       "      <td>0</td>\n",
       "    </tr>\n",
       "    <tr>\n",
       "      <th>4</th>\n",
       "      <td>14</td>\n",
       "      <td>4</td>\n",
       "      <td>0</td>\n",
       "    </tr>\n",
       "  </tbody>\n",
       "</table>\n",
       "</div>"
      ],
      "text/plain": [
       "   de_natureza_juridica  sg_uf  de_ramo\n",
       "0                    14      2        0\n",
       "1                    24      3        7\n",
       "2                    15      1        0\n",
       "3                    14      3        0\n",
       "4                    14      4        0"
      ]
     },
     "execution_count": 11,
     "metadata": {},
     "output_type": "execute_result"
    }
   ],
   "source": [
    "# apply le on categorical feature columns\n",
    "# https://towardsdatascience.com/encoding-categorical-features-21a2651a065c\n",
    "\n",
    "#portfolio 1 com labelencoder: p1enc\n",
    "p2enc=pd.DataFrame()\n",
    "categorical_cols = ['de_natureza_juridica', 'sg_uf', 'de_ramo']\n",
    "# %*%*%*%%*%*%*%%*%*%*%%*%*%*%%*%*%*%%*%*%*%\n",
    "# IMPORTANTE aqui, só três features, para poder visualizar em um gráfico 3D.\n",
    "# Também porque de_nivel_atividade tem alguns NaN, que tem que ser resolvidos depois\n",
    "# %*%*%*%%*%*%*%%*%*%*%%*%*%*%%*%*%*%%*%*%*%\n",
    "p2enc[categorical_cols] = p2micro[categorical_cols].apply(lambda col: le.fit_transform(col))\n",
    "\n",
    "p2enc[categorical_cols].head(5)"
   ]
  },
  {
   "cell_type": "code",
   "execution_count": 12,
   "metadata": {},
   "outputs": [
    {
     "data": {
      "text/plain": [
       "(265, 3)"
      ]
     },
     "execution_count": 12,
     "metadata": {},
     "output_type": "execute_result"
    }
   ],
   "source": [
    "p2enc.shape"
   ]
  },
  {
   "cell_type": "code",
   "execution_count": 54,
   "metadata": {},
   "outputs": [],
   "source": [
    "from sklearn.cluster import AgglomerativeClustering\n",
    "\n",
    "cluster = AgglomerativeClustering(n_clusters=5, affinity='manhattan', linkage='average')\n",
    "p2enc['cluster'] = cluster.fit_predict(p2enc)"
   ]
  },
  {
   "cell_type": "code",
   "execution_count": 55,
   "metadata": {},
   "outputs": [
    {
     "data": {
      "text/html": [
       "<div>\n",
       "<style scoped>\n",
       "    .dataframe tbody tr th:only-of-type {\n",
       "        vertical-align: middle;\n",
       "    }\n",
       "\n",
       "    .dataframe tbody tr th {\n",
       "        vertical-align: top;\n",
       "    }\n",
       "\n",
       "    .dataframe thead th {\n",
       "        text-align: right;\n",
       "    }\n",
       "</style>\n",
       "<table border=\"1\" class=\"dataframe\">\n",
       "  <thead>\n",
       "    <tr style=\"text-align: right;\">\n",
       "      <th></th>\n",
       "      <th>de_natureza_juridica</th>\n",
       "      <th>sg_uf</th>\n",
       "      <th>de_ramo</th>\n",
       "      <th>cluster</th>\n",
       "    </tr>\n",
       "  </thead>\n",
       "  <tbody>\n",
       "    <tr>\n",
       "      <th>0</th>\n",
       "      <td>13.589738</td>\n",
       "      <td>2.430442</td>\n",
       "      <td>0.670056</td>\n",
       "      <td>2</td>\n",
       "    </tr>\n",
       "    <tr>\n",
       "      <th>1</th>\n",
       "      <td>24.711912</td>\n",
       "      <td>2.366693</td>\n",
       "      <td>7.781228</td>\n",
       "      <td>1</td>\n",
       "    </tr>\n",
       "    <tr>\n",
       "      <th>2</th>\n",
       "      <td>14.866868</td>\n",
       "      <td>1.388102</td>\n",
       "      <td>-0.533243</td>\n",
       "      <td>2</td>\n",
       "    </tr>\n",
       "    <tr>\n",
       "      <th>3</th>\n",
       "      <td>14.225765</td>\n",
       "      <td>2.891853</td>\n",
       "      <td>-0.267718</td>\n",
       "      <td>2</td>\n",
       "    </tr>\n",
       "    <tr>\n",
       "      <th>4</th>\n",
       "      <td>13.122184</td>\n",
       "      <td>4.157033</td>\n",
       "      <td>-0.140448</td>\n",
       "      <td>2</td>\n",
       "    </tr>\n",
       "  </tbody>\n",
       "</table>\n",
       "</div>"
      ],
      "text/plain": [
       "   de_natureza_juridica     sg_uf   de_ramo  cluster\n",
       "0             13.589738  2.430442  0.670056        2\n",
       "1             24.711912  2.366693  7.781228        1\n",
       "2             14.866868  1.388102 -0.533243        2\n",
       "3             14.225765  2.891853 -0.267718        2\n",
       "4             13.122184  4.157033 -0.140448        2"
      ]
     },
     "execution_count": 55,
     "metadata": {},
     "output_type": "execute_result"
    }
   ],
   "source": [
    "# aqui, estou somando um valor aleatório para fins de visualização.\n",
    "# Se não for feito, um grupo grande de pontos fica condensado em um único ponto no gráfico\n",
    "# e perde-se a noção de cluster\n",
    "p2enc['de_natureza_juridica']=p2enc['de_natureza_juridica'] + ((np.random.rand(p2enc.shape[0])-0.5) *0.5)\n",
    "p2enc['de_ramo']=p2enc['de_ramo'] + ((np.random.rand(p2enc.shape[0])-0.5) *0.5)\n",
    "p2enc['sg_uf']=p2enc['sg_uf'] + ((np.random.rand(p2enc.shape[0])-0.5) *0.5)\n",
    "p2enc.head(5)"
   ]
  },
  {
   "cell_type": "code",
   "execution_count": 56,
   "metadata": {},
   "outputs": [
    {
     "data": {
      "application/vnd.plotly.v1+json": {
       "config": {
        "plotlyServerURL": "https://plot.ly"
       },
       "data": [
        {
         "hoverlabel": {
          "namelength": 0
         },
         "hovertemplate": "de_natureza_juridica=%{x}<br>sg_uf=%{y}<br>de_ramo=%{z}<br>cluster=%{marker.color}",
         "legendgroup": "",
         "marker": {
          "color": [
           2,
           1,
           2,
           2,
           2,
           0,
           2,
           0,
           1,
           1,
           1,
           2,
           2,
           2,
           2,
           1,
           2,
           0,
           1,
           2,
           1,
           1,
           1,
           2,
           2,
           0,
           1,
           0,
           2,
           2,
           1,
           2,
           2,
           2,
           2,
           2,
           2,
           2,
           2,
           2,
           3,
           2,
           1,
           1,
           2,
           0,
           1,
           2,
           2,
           1,
           2,
           2,
           1,
           2,
           0,
           2,
           0,
           2,
           2,
           2,
           2,
           2,
           2,
           2,
           2,
           2,
           2,
           1,
           2,
           2,
           2,
           2,
           2,
           3,
           2,
           1,
           2,
           2,
           2,
           2,
           2,
           0,
           2,
           2,
           1,
           1,
           2,
           1,
           1,
           1,
           2,
           2,
           0,
           0,
           1,
           0,
           2,
           1,
           3,
           1,
           2,
           1,
           1,
           2,
           1,
           2,
           2,
           1,
           2,
           2,
           1,
           2,
           2,
           1,
           0,
           2,
           2,
           1,
           2,
           2,
           3,
           2,
           2,
           1,
           2,
           2,
           2,
           2,
           0,
           2,
           0,
           2,
           1,
           2,
           1,
           2,
           1,
           0,
           2,
           2,
           1,
           2,
           0,
           1,
           0,
           2,
           1,
           2,
           2,
           0,
           2,
           2,
           2,
           1,
           2,
           2,
           2,
           2,
           2,
           2,
           2,
           1,
           1,
           1,
           1,
           0,
           1,
           2,
           1,
           2,
           2,
           1,
           2,
           1,
           2,
           0,
           0,
           1,
           1,
           2,
           2,
           2,
           2,
           2,
           2,
           1,
           0,
           0,
           2,
           0,
           1,
           2,
           1,
           2,
           0,
           2,
           1,
           2,
           2,
           2,
           2,
           2,
           0,
           2,
           0,
           2,
           1,
           2,
           2,
           2,
           0,
           2,
           2,
           2,
           1,
           2,
           2,
           2,
           0,
           1,
           1,
           2,
           2,
           1,
           3,
           1,
           0,
           2,
           0,
           1,
           1,
           1,
           4,
           0,
           2,
           0,
           0,
           1,
           0,
           2,
           2,
           2,
           2,
           2,
           1,
           2,
           2,
           2,
           0,
           2,
           2,
           1,
           2,
           1,
           2,
           2,
           1,
           0,
           2,
           2,
           0,
           1,
           1,
           0,
           2
          ],
          "coloraxis": "coloraxis",
          "symbol": "circle"
         },
         "mode": "markers",
         "name": "",
         "scene": "scene",
         "showlegend": false,
         "type": "scatter3d",
         "x": [
          13.589737574903507,
          24.71191156108005,
          14.86686844744952,
          14.225765015095428,
          13.122184242578,
          -0.33272955279341343,
          15.30601230936765,
          8.13677427483984,
          23.167394277728384,
          23.66590082122348,
          23.65382404874085,
          14.444094499595671,
          14.535575185078748,
          14.824431049243644,
          14.46029172164203,
          22.26665900797846,
          13.816034821698532,
          8.950942268587488,
          22.662988929009586,
          10.57027406986198,
          23.4947944167315,
          22.58150778902453,
          19.76507836687292,
          14.883893161133193,
          14.02118463270536,
          0.268338698733921,
          23.092818018755754,
          7.263378948574926,
          13.00371755019915,
          13.455154332140763,
          23.916974590379045,
          14.105273695894875,
          14.613361266312353,
          14.45526631012839,
          13.735615203885587,
          16.827792293266796,
          13.32058855009578,
          14.300516241740338,
          13.465450138471128,
          13.911873733790118,
          0.407247665543812,
          15.389425159242046,
          23.676327138730784,
          22.905017250813426,
          15.167139823651423,
          5.636783807869202,
          22.801888633304934,
          13.646973329777584,
          14.093291568707382,
          23.143961354636776,
          14.680386422587855,
          14.13714518303961,
          21.42827446327528,
          18.85769526950145,
          7.078950691641555,
          13.916913075565263,
          7.202676709700603,
          14.16851303616426,
          13.418103285790677,
          13.20299558741512,
          15.427083811038653,
          13.720692643367874,
          12.75921157569138,
          14.293307861533679,
          14.226051857521348,
          15.136625370230577,
          15.38193680128788,
          22.438962884187372,
          13.966327811771155,
          13.56481841183186,
          12.11038624265359,
          14.529269905698381,
          14.068397545971493,
          1.7218264195769255,
          14.990459629561924,
          22.974359970269905,
          14.326425201565014,
          13.639815688665175,
          13.489554353145373,
          15.472476042180245,
          14.00576310082011,
          2.7663614833380477,
          14.715656025822675,
          15.514733483676618,
          22.949258101103226,
          22.522061775734457,
          13.473913549053375,
          23.32266961502329,
          23.689990055252007,
          22.81495455370567,
          16.375748030787047,
          14.04437281172532,
          2.293643373570686,
          0.6022689214838974,
          22.730910643823265,
          9.938219102408123,
          13.198046239539106,
          23.527692403965293,
          1.5221255907400466,
          22.341971978116252,
          14.180331370758845,
          23.0926504831031,
          22.170948593334128,
          14.74727299713429,
          23.63276763706417,
          16.85869790165469,
          13.871137009341348,
          22.322903262744905,
          14.175604990650024,
          13.975345939730705,
          23.119238578662287,
          14.652046229361869,
          14.873345887648977,
          16.09751148228974,
          7.122340364210771,
          13.591503845950236,
          14.250702262137914,
          23.384839798550537,
          14.808836717361022,
          15.027262437194732,
          0.4797899729148884,
          14.944353139264084,
          15.146545562437899,
          24.075459376502977,
          14.098417333194345,
          14.323033181786787,
          13.176403098152594,
          15.40648273378799,
          -0.19833049870300595,
          17.812572261005897,
          7.019212759117321,
          17.30041115841182,
          23.25851365473795,
          14.807731627878209,
          23.529364224622856,
          14.459121062205046,
          22.85033627930276,
          6.358342819441346,
          15.389119189834776,
          14.34923784777021,
          22.41620820730113,
          14.536485214952842,
          8.350805691382856,
          22.52791507074476,
          7.455724644374786,
          14.320787685619585,
          19.623933868767846,
          14.20350433341266,
          13.76851049084566,
          -0.3686656346867109,
          14.007496274169558,
          13.902756313070629,
          14.16810745057574,
          19.22769730967833,
          13.36714533595272,
          13.936475870928486,
          14.733473946141846,
          14.609440139470053,
          13.260417048628877,
          14.305887868518708,
          13.790641148847232,
          22.188594430792,
          23.345604814293036,
          23.580279821069595,
          21.279633499293077,
          6.725346332754801,
          23.045615018750514,
          13.500039707226664,
          21.069067503909242,
          14.401843005563128,
          13.084220200270959,
          23.665211523045976,
          13.964016652835092,
          22.941650207356403,
          13.42658150616192,
          3.5702235728313827,
          1.8563787792032151,
          22.196382919148157,
          23.145151356474727,
          14.613427086659852,
          13.759714743461723,
          14.091079024962724,
          14.699450448323072,
          14.646249388688872,
          13.963280371340808,
          23.3560076882358,
          0.12923077619866108,
          2.736484562462521,
          15.297710849510656,
          8.19823018646947,
          23.947940094646377,
          11.460775808357074,
          22.56958456513949,
          14.849568856954123,
          7.991326751327204,
          14.126952976633627,
          22.980298382488755,
          14.595769251214797,
          15.172971958537932,
          15.820311077448261,
          13.931976925974997,
          20.20240715155659,
          4.375182573159469,
          14.534763092156215,
          11.17334809499415,
          13.743472324500045,
          23.328550254565986,
          14.682570774335312,
          13.86226604386691,
          13.389645182515162,
          0.9237191863487545,
          14.020563127944978,
          14.36374560924044,
          13.75097051094794,
          23.670955922567458,
          14.027965355829107,
          19.731986128660143,
          13.687960025887078,
          7.396517576979974,
          23.011144428531512,
          22.35633077330557,
          16.336794854163724,
          14.2609112427099,
          22.19194613259571,
          0.8337430272596693,
          23.60027861284488,
          -0.30890997443101936,
          14.344329119225964,
          7.028197333974814,
          23.33828280544225,
          22.40164710995883,
          22.35223270608851,
          19.96029885069822,
          7.356994712875751,
          14.391246469695398,
          0.5030413407194978,
          6.578241977011138,
          22.83738469709908,
          6.459856030674597,
          13.764222642993422,
          14.380236199159055,
          13.481341096606801,
          12.69984972907859,
          14.096722695004924,
          23.615107918698612,
          14.456397935719938,
          13.157616327473908,
          18.581946932247774,
          1.739232765322968,
          22.123709542769465,
          14.647257567835357,
          23.06065038958264,
          15.815841500133109,
          23.694687918192198,
          13.371152777145083,
          14.551129473750054,
          21.77166822257957,
          7.385410154447211,
          16.98932986381199,
          13.710940849787486,
          5.979951850960907,
          23.064186981663912,
          23.54634322630114,
          5.783651198078247,
          20.43285858642728
         ],
         "y": [
          2.4304420390416306,
          2.3666928677248604,
          1.3881017474007324,
          2.891853290479924,
          4.157033494691199,
          4.179374676321276,
          2.158026108197878,
          1.7231367116274494,
          0.857607712146909,
          5.932659732183949,
          4.028467554061344,
          0.5665163053736884,
          3.7325949526507443,
          2.06854579553867,
          4.062949552284611,
          0.7715363990862476,
          1.8533654484545112,
          1.1366047815082099,
          2.7999597592095724,
          0.2872583283358745,
          1.7901360452768553,
          0.2666251444759846,
          1.824752396204426,
          3.163631644967505,
          1.6464766335221521,
          1.5666527349046837,
          2.12330608856885,
          4.959445416066541,
          3.4345807160987976,
          1.3467652214756085,
          5.091768565695624,
          2.63858324842601,
          5.169333706426082,
          3.7738413810556786,
          1.2930344314160238,
          4.276625213170975,
          2.235260480448841,
          3.637067875326215,
          3.213912407400285,
          5.248053164131339,
          1.271205459725166,
          -0.33691771247456037,
          4.695257276154098,
          1.7745327308746106,
          -0.2185675292979556,
          3.1539967769916726,
          1.6409390943939735,
          1.2055976033291569,
          2.2537354475616187,
          2.310430666657816,
          -0.21530929242998997,
          4.71158015813663,
          1.8387273226797949,
          4.414152361293974,
          3.18591590741387,
          3.1401307380461905,
          3.9086324410740563,
          2.076354256910927,
          1.8511308579590735,
          3.9353635085770886,
          2.6500853850206316,
          3.2423379005525574,
          3.212506034238592,
          3.874104204327054,
          0.8867014402796696,
          1.15314504559622,
          4.010845582750828,
          2.0885037519907654,
          2.254017494564885,
          2.966139676712045,
          4.471265275341664,
          1.220671552158168,
          1.4346600864510788,
          2.5678725318956706,
          -0.0306243640105599,
          0.5207894791493307,
          3.1331076191790226,
          2.269311046005306,
          1.9442725638561664,
          2.2857897127669218,
          0.6647313569630551,
          0.4581755168442959,
          2.0071650484926846,
          1.48392993832673,
          0.3026415984165928,
          3.7161853788326398,
          1.766621665409121,
          2.423272862409058,
          4.6589339722784295,
          5.505820222879913,
          1.3802469109925264,
          3.288827387157205,
          -0.18718311926859998,
          3.093335608918645,
          1.1938775889649809,
          1.633220657628988,
          3.4101647676896722,
          4.815968677175636,
          1.4351513477515134,
          4.515733721743552,
          1.612612839702398,
          2.8789027976727946,
          0.19569819650142944,
          2.9374459867377127,
          3.099554986335108,
          3.5566772844024146,
          2.064196418786456,
          2.018279230276741,
          1.6860511603854047,
          1.362186625676273,
          -0.5471532359765079,
          4.587192232534687,
          2.902888030909192,
          3.2655992426037166,
          2.4120310104468743,
          4.357392520946487,
          1.7891798649794373,
          1.1474550061866093,
          2.926837823121013,
          1.4133692964864077,
          0.41776407799737775,
          0.7331931222248977,
          4.6803808123105215,
          1.5655044693074933,
          4.009090372408035,
          3.6677872646381804,
          0.10235113321422801,
          3.31429120213096,
          1.5695661010854993,
          2.9420136511680783,
          -0.28779116328218685,
          5.613173666696908,
          2.1635556864230034,
          2.916065947280187,
          2.682952838148168,
          2.1335856641698423,
          2.257780875577059,
          -0.04822787524729816,
          2.9782097696060754,
          1.9018332966873073,
          3.176168063256223,
          2.361493195407597,
          1.5143288491711238,
          0.8718525201198153,
          0.853531400372862,
          3.584391487643961,
          0.23266943276584612,
          0.759705945670436,
          2.48007559834399,
          3.712927637698946,
          2.7496117173288166,
          1.1055321554683086,
          3.1604199355495757,
          2.6208741355785703,
          3.7438791713821478,
          3.010682870383492,
          3.091788512576662,
          2.2731207514843366,
          3.201219180284788,
          1.9853360549195787,
          4.005224362369598,
          3.414392002279696,
          1.8484403214073057,
          3.880843530185605,
          2.787752394104476,
          1.6424840341431324,
          -0.16239329080055442,
          -0.6647153981755691,
          4.635998997396103,
          2.871487996011777,
          3.0108458509816796,
          0.7472195392858673,
          4.01581784171343,
          3.1162462333890337,
          3.4599061933563404,
          4.634464885454035,
          4.119572414554003,
          0.08608040318017401,
          1.4170916252162495,
          2.0139492113138275,
          4.154378987586818,
          2.467078984449129,
          2.9164997389848137,
          3.669704785614031,
          4.716025549938471,
          2.023132876711907,
          1.7634562219129895,
          3.57355437762889,
          -0.7895445482558727,
          3.184468609695511,
          0.8084832713473803,
          3.2828081525903268,
          1.1942545062580345,
          3.83575980673195,
          2.5653613155934747,
          2.003689473316846,
          1.5445724184701421,
          1.4064748833284946,
          2.61719882202026,
          0.44526002438387535,
          2.809574094155226,
          0.238938963998651,
          4.656964208488748,
          1.480617299305943,
          1.3500170531898286,
          3.1385877839880574,
          1.0920625621639415,
          2.366679218059544,
          0.938000755274121,
          3.5771818989805073,
          0.482583632365641,
          4.878467424246081,
          2.80880126503228,
          2.427114841362778,
          2.5054147968443967,
          4.21924006037148,
          0.980279697961135,
          3.2486441785020728,
          0.49283579639402403,
          0.976458018531204,
          1.1895397125975598,
          3.5805660477888837,
          1.1646166190858376,
          0.01572570870374329,
          1.0786130033155077,
          5.095978058534449,
          3.9214188586094307,
          3.1562797968846352,
          4.719771816669949,
          4.8324787943144205,
          4.4452356223009,
          3.834141066896711,
          5.723239615098685,
          3.8700750977642793,
          2.200870936384334,
          3.740800637547561,
          4.604476230357701,
          3.9072574459151714,
          0.901198457592562,
          3.3677252623056684,
          4.449695224796421,
          4.498843649185736,
          2.27743936662068,
          3.5884341316129085,
          0.8991712265291527,
          3.3236426050901575,
          1.6723667889904599,
          2.9105629416591916,
          4.335928078567869,
          4.273091695553977,
          3.946586450367824,
          5.142636861557829,
          0.352045726636904,
          2.3441199002860778,
          3.2148373308193023,
          1.3295722557420533,
          2.6202199168460494,
          2.3617043141621337,
          3.6485424514974976,
          4.407419889847895,
          5.702299210047921,
          3.465635351511534,
          2.2509814356287867,
          0.09071903210271087,
          2.49922861014776
         ],
         "z": [
          0.6700562748327459,
          7.781227945923007,
          -0.5332428793643171,
          -0.26771762316082853,
          -0.14044765760487998,
          6.06578364563824,
          -0.2869282025463753,
          5.218160137319869,
          12.857639325155057,
          5.804899718457912,
          6.050877940769037,
          1.2973836425731071,
          0.6421518804798587,
          -1.3420502535999956,
          0.21047926330510652,
          6.713603096658786,
          -0.5002860897546002,
          9.532186889613282,
          6.313390916316694,
          -0.43408553811256473,
          4.563668179163462,
          6.941134508369308,
          13.544702720208795,
          0.4267855607698961,
          -0.22524947494804654,
          7.7787975303363845,
          9.296633891567964,
          15.650198355393481,
          -0.047309382982344494,
          -0.45239942994702825,
          4.637269639823525,
          -0.09790317114823954,
          0.30540962821545137,
          0.7394572455107127,
          -0.2959045155827392,
          0.35444354218736196,
          -0.701494375475296,
          -0.048013952150082695,
          -0.03922185404895051,
          0.1004731975695104,
          0.1462240982057495,
          -0.4699778569596605,
          15.306989563063182,
          5.563657775247725,
          -0.0870565570885285,
          3.450302379282604,
          15.156529618916064,
          -0.7811002837692594,
          -0.32815367787860805,
          10.084969112534365,
          -0.58122758700342,
          0.48194064742638854,
          9.192160119178535,
          0.22172365612100048,
          5.1371045265952455,
          0.1884967159942435,
          4.318623966068418,
          0.6009147962149627,
          -0.6797147968642918,
          -0.15319954225673632,
          -0.13117059381332236,
          -0.8403646614856474,
          -0.12150029324935346,
          -0.5008319667684321,
          0.7065863306283229,
          -0.5724111921925001,
          -0.19017157702173498,
          14.376493019896193,
          -0.08890993941617958,
          -0.35751322555073467,
          3.4922814354328064,
          0.305728754974359,
          0.04958689546740258,
          0.14828204605916023,
          -0.6303892681727892,
          15.586222121244761,
          -0.09288996350992346,
          0.8581416272400126,
          0.05340589248958,
          -0.8208568333880828,
          -0.1000476693263262,
          7.990599805308315,
          0.2501142436493026,
          -0.3439203319883273,
          4.75321286330954,
          15.23295508388358,
          -0.4375111127703584,
          15.045996002991615,
          5.369532235705209,
          15.404088392043992,
          -0.3797985062257512,
          0.791019459203905,
          7.363727640068892,
          8.86328629128069,
          5.746995877055973,
          7.41311117778867,
          -0.48714718313299576,
          4.43469295435213,
          -0.8093045214583949,
          6.947894970233751,
          -0.39138096546179546,
          5.174540493669299,
          8.674984964267255,
          -0.4820573415768157,
          5.615510499693421,
          0.6784373070850537,
          0.4755128387818864,
          7.521871167162364,
          0.36841115056778995,
          -0.50770213857807,
          5.140028061878381,
          0.3003883096138626,
          -0.5949861238964997,
          6.367751971815218,
          3.1404432494783676,
          0.97926202927453,
          -0.12922314873185714,
          4.965210023753545,
          0.0035073459983968047,
          -0.027733810768187817,
          0.34673930490936294,
          -0.11925773070802836,
          -0.26064257620470477,
          14.688386415927237,
          -0.2779789482701177,
          -0.368593326866823,
          1.20386305808124,
          -0.7525465009489701,
          7.156721973743359,
          0.20653160906290796,
          5.378438514953502,
          0.2647529687861596,
          5.205988331965948,
          0.07496379257725755,
          8.946700812135742,
          0.14809439825922005,
          8.170029857311567,
          5.122064809687654,
          -1.159503009709041,
          0.11049439298221725,
          10.43930996589025,
          -0.6938768081084493,
          4.781424811481992,
          6.6047916273834675,
          5.0326964241780106,
          -0.016898029227423728,
          6.248079165462747,
          -0.4772529662651064,
          0.3891358916277648,
          9.60966962750305,
          0.3265559014186494,
          0.39497947746992196,
          0.3045870225706687,
          6.851620829366501,
          -0.27775166485711045,
          0.10993604237748583,
          0.40058545008593394,
          0.5489441699622568,
          0.48909608275871,
          -0.6112310740449123,
          -0.5165272149766689,
          5.045406505250203,
          14.73843625687425,
          4.353420180910689,
          14.575530908642786,
          4.443943242723982,
          6.5526368575616045,
          -1.189353586547034,
          6.787673750892395,
          0.2338996520421387,
          0.4503010805851531,
          5.956352515649639,
          0.2087443264301097,
          4.184975055021402,
          0.08379723746540446,
          5.248885227830245,
          8.192860967424302,
          4.806251802556642,
          5.853049675142879,
          0.13418669171751385,
          -0.17361017895070752,
          0.18279964858291153,
          -0.5573753085464281,
          -0.667995760437381,
          -1.0816022774878535,
          14.424249462891577,
          8.37988231373699,
          7.833516910985394,
          0.0028249121625326112,
          8.707071858721815,
          6.207371246580191,
          -0.042944200332031,
          5.747055559608147,
          0.20895817500920943,
          5.4682504060784245,
          -0.37015073567815593,
          15.144825278931199,
          0.5448091141603584,
          0.2263229911076058,
          -0.04974098333120869,
          -1.5624717293647374,
          0.4792092556771415,
          14.709175966601796,
          0.6828113610534208,
          8.665081615695234,
          1.564907780401226,
          5.953471797216554,
          -0.19631217085099517,
          0.5012773560397537,
          -0.15529683994808158,
          12.565131164664571,
          -0.3600932537285791,
          0.23488532105817822,
          -0.4143166678872395,
          7.555354354246096,
          -0.4414384665676593,
          -1.006983476266325,
          0.2525953534436559,
          4.809863823489321,
          5.458127908670527,
          3.8377857783594633,
          -0.63749307101704,
          0.17098298086434827,
          5.513722014297738,
          -0.88645090628916,
          7.399191303754907,
          9.918044039278755,
          -0.07092558329035542,
          10.490510883917988,
          8.59807675957816,
          15.934321948501387,
          13.903169126692237,
          12.29037016682234,
          5.023400416102952,
          -0.42380572340484113,
          6.292640087116938,
          5.028031252873272,
          9.42327185749777,
          9.753865462321475,
          0.23312370938602422,
          0.33022728843938515,
          -0.6196219312353833,
          -0.10731598210121496,
          0.3790019166668805,
          8.517203444190057,
          -0.40230853644920544,
          -0.08922503316354663,
          0.8309265828661989,
          6.72404903897174,
          0.9032733458951063,
          -0.8905962153617353,
          5.484163992432451,
          -0.4741130167785877,
          15.381351984166821,
          0.3419984645317499,
          0.06186808991155196,
          9.003795414279637,
          11.680652163075216,
          0.4659551230298843,
          -0.4053824752771448,
          11.370020432018537,
          9.771020933717654,
          13.091274958284114,
          3.3202363760177405,
          3.180836466055225
         ]
        }
       ],
       "layout": {
        "coloraxis": {
         "colorbar": {
          "title": {
           "text": "cluster"
          }
         },
         "colorscale": [
          [
           0,
           "#0d0887"
          ],
          [
           0.1111111111111111,
           "#46039f"
          ],
          [
           0.2222222222222222,
           "#7201a8"
          ],
          [
           0.3333333333333333,
           "#9c179e"
          ],
          [
           0.4444444444444444,
           "#bd3786"
          ],
          [
           0.5555555555555556,
           "#d8576b"
          ],
          [
           0.6666666666666666,
           "#ed7953"
          ],
          [
           0.7777777777777778,
           "#fb9f3a"
          ],
          [
           0.8888888888888888,
           "#fdca26"
          ],
          [
           1,
           "#f0f921"
          ]
         ]
        },
        "height": 600,
        "legend": {
         "tracegroupgap": 0
        },
        "margin": {
         "t": 60
        },
        "scene": {
         "domain": {
          "x": [
           0,
           0.98
          ],
          "y": [
           0,
           1
          ]
         },
         "xaxis": {
          "title": {
           "text": "de_natureza_juridica"
          }
         },
         "yaxis": {
          "title": {
           "text": "sg_uf"
          }
         },
         "zaxis": {
          "title": {
           "text": "de_ramo"
          }
         }
        },
        "template": {
         "data": {
          "bar": [
           {
            "error_x": {
             "color": "#2a3f5f"
            },
            "error_y": {
             "color": "#2a3f5f"
            },
            "marker": {
             "line": {
              "color": "#E5ECF6",
              "width": 0.5
             }
            },
            "type": "bar"
           }
          ],
          "barpolar": [
           {
            "marker": {
             "line": {
              "color": "#E5ECF6",
              "width": 0.5
             }
            },
            "type": "barpolar"
           }
          ],
          "carpet": [
           {
            "aaxis": {
             "endlinecolor": "#2a3f5f",
             "gridcolor": "white",
             "linecolor": "white",
             "minorgridcolor": "white",
             "startlinecolor": "#2a3f5f"
            },
            "baxis": {
             "endlinecolor": "#2a3f5f",
             "gridcolor": "white",
             "linecolor": "white",
             "minorgridcolor": "white",
             "startlinecolor": "#2a3f5f"
            },
            "type": "carpet"
           }
          ],
          "choropleth": [
           {
            "colorbar": {
             "outlinewidth": 0,
             "ticks": ""
            },
            "type": "choropleth"
           }
          ],
          "contour": [
           {
            "colorbar": {
             "outlinewidth": 0,
             "ticks": ""
            },
            "colorscale": [
             [
              0,
              "#0d0887"
             ],
             [
              0.1111111111111111,
              "#46039f"
             ],
             [
              0.2222222222222222,
              "#7201a8"
             ],
             [
              0.3333333333333333,
              "#9c179e"
             ],
             [
              0.4444444444444444,
              "#bd3786"
             ],
             [
              0.5555555555555556,
              "#d8576b"
             ],
             [
              0.6666666666666666,
              "#ed7953"
             ],
             [
              0.7777777777777778,
              "#fb9f3a"
             ],
             [
              0.8888888888888888,
              "#fdca26"
             ],
             [
              1,
              "#f0f921"
             ]
            ],
            "type": "contour"
           }
          ],
          "contourcarpet": [
           {
            "colorbar": {
             "outlinewidth": 0,
             "ticks": ""
            },
            "type": "contourcarpet"
           }
          ],
          "heatmap": [
           {
            "colorbar": {
             "outlinewidth": 0,
             "ticks": ""
            },
            "colorscale": [
             [
              0,
              "#0d0887"
             ],
             [
              0.1111111111111111,
              "#46039f"
             ],
             [
              0.2222222222222222,
              "#7201a8"
             ],
             [
              0.3333333333333333,
              "#9c179e"
             ],
             [
              0.4444444444444444,
              "#bd3786"
             ],
             [
              0.5555555555555556,
              "#d8576b"
             ],
             [
              0.6666666666666666,
              "#ed7953"
             ],
             [
              0.7777777777777778,
              "#fb9f3a"
             ],
             [
              0.8888888888888888,
              "#fdca26"
             ],
             [
              1,
              "#f0f921"
             ]
            ],
            "type": "heatmap"
           }
          ],
          "heatmapgl": [
           {
            "colorbar": {
             "outlinewidth": 0,
             "ticks": ""
            },
            "colorscale": [
             [
              0,
              "#0d0887"
             ],
             [
              0.1111111111111111,
              "#46039f"
             ],
             [
              0.2222222222222222,
              "#7201a8"
             ],
             [
              0.3333333333333333,
              "#9c179e"
             ],
             [
              0.4444444444444444,
              "#bd3786"
             ],
             [
              0.5555555555555556,
              "#d8576b"
             ],
             [
              0.6666666666666666,
              "#ed7953"
             ],
             [
              0.7777777777777778,
              "#fb9f3a"
             ],
             [
              0.8888888888888888,
              "#fdca26"
             ],
             [
              1,
              "#f0f921"
             ]
            ],
            "type": "heatmapgl"
           }
          ],
          "histogram": [
           {
            "marker": {
             "colorbar": {
              "outlinewidth": 0,
              "ticks": ""
             }
            },
            "type": "histogram"
           }
          ],
          "histogram2d": [
           {
            "colorbar": {
             "outlinewidth": 0,
             "ticks": ""
            },
            "colorscale": [
             [
              0,
              "#0d0887"
             ],
             [
              0.1111111111111111,
              "#46039f"
             ],
             [
              0.2222222222222222,
              "#7201a8"
             ],
             [
              0.3333333333333333,
              "#9c179e"
             ],
             [
              0.4444444444444444,
              "#bd3786"
             ],
             [
              0.5555555555555556,
              "#d8576b"
             ],
             [
              0.6666666666666666,
              "#ed7953"
             ],
             [
              0.7777777777777778,
              "#fb9f3a"
             ],
             [
              0.8888888888888888,
              "#fdca26"
             ],
             [
              1,
              "#f0f921"
             ]
            ],
            "type": "histogram2d"
           }
          ],
          "histogram2dcontour": [
           {
            "colorbar": {
             "outlinewidth": 0,
             "ticks": ""
            },
            "colorscale": [
             [
              0,
              "#0d0887"
             ],
             [
              0.1111111111111111,
              "#46039f"
             ],
             [
              0.2222222222222222,
              "#7201a8"
             ],
             [
              0.3333333333333333,
              "#9c179e"
             ],
             [
              0.4444444444444444,
              "#bd3786"
             ],
             [
              0.5555555555555556,
              "#d8576b"
             ],
             [
              0.6666666666666666,
              "#ed7953"
             ],
             [
              0.7777777777777778,
              "#fb9f3a"
             ],
             [
              0.8888888888888888,
              "#fdca26"
             ],
             [
              1,
              "#f0f921"
             ]
            ],
            "type": "histogram2dcontour"
           }
          ],
          "mesh3d": [
           {
            "colorbar": {
             "outlinewidth": 0,
             "ticks": ""
            },
            "type": "mesh3d"
           }
          ],
          "parcoords": [
           {
            "line": {
             "colorbar": {
              "outlinewidth": 0,
              "ticks": ""
             }
            },
            "type": "parcoords"
           }
          ],
          "scatter": [
           {
            "marker": {
             "colorbar": {
              "outlinewidth": 0,
              "ticks": ""
             }
            },
            "type": "scatter"
           }
          ],
          "scatter3d": [
           {
            "line": {
             "colorbar": {
              "outlinewidth": 0,
              "ticks": ""
             }
            },
            "marker": {
             "colorbar": {
              "outlinewidth": 0,
              "ticks": ""
             }
            },
            "type": "scatter3d"
           }
          ],
          "scattercarpet": [
           {
            "marker": {
             "colorbar": {
              "outlinewidth": 0,
              "ticks": ""
             }
            },
            "type": "scattercarpet"
           }
          ],
          "scattergeo": [
           {
            "marker": {
             "colorbar": {
              "outlinewidth": 0,
              "ticks": ""
             }
            },
            "type": "scattergeo"
           }
          ],
          "scattergl": [
           {
            "marker": {
             "colorbar": {
              "outlinewidth": 0,
              "ticks": ""
             }
            },
            "type": "scattergl"
           }
          ],
          "scattermapbox": [
           {
            "marker": {
             "colorbar": {
              "outlinewidth": 0,
              "ticks": ""
             }
            },
            "type": "scattermapbox"
           }
          ],
          "scatterpolar": [
           {
            "marker": {
             "colorbar": {
              "outlinewidth": 0,
              "ticks": ""
             }
            },
            "type": "scatterpolar"
           }
          ],
          "scatterpolargl": [
           {
            "marker": {
             "colorbar": {
              "outlinewidth": 0,
              "ticks": ""
             }
            },
            "type": "scatterpolargl"
           }
          ],
          "scatterternary": [
           {
            "marker": {
             "colorbar": {
              "outlinewidth": 0,
              "ticks": ""
             }
            },
            "type": "scatterternary"
           }
          ],
          "surface": [
           {
            "colorbar": {
             "outlinewidth": 0,
             "ticks": ""
            },
            "colorscale": [
             [
              0,
              "#0d0887"
             ],
             [
              0.1111111111111111,
              "#46039f"
             ],
             [
              0.2222222222222222,
              "#7201a8"
             ],
             [
              0.3333333333333333,
              "#9c179e"
             ],
             [
              0.4444444444444444,
              "#bd3786"
             ],
             [
              0.5555555555555556,
              "#d8576b"
             ],
             [
              0.6666666666666666,
              "#ed7953"
             ],
             [
              0.7777777777777778,
              "#fb9f3a"
             ],
             [
              0.8888888888888888,
              "#fdca26"
             ],
             [
              1,
              "#f0f921"
             ]
            ],
            "type": "surface"
           }
          ],
          "table": [
           {
            "cells": {
             "fill": {
              "color": "#EBF0F8"
             },
             "line": {
              "color": "white"
             }
            },
            "header": {
             "fill": {
              "color": "#C8D4E3"
             },
             "line": {
              "color": "white"
             }
            },
            "type": "table"
           }
          ]
         },
         "layout": {
          "annotationdefaults": {
           "arrowcolor": "#2a3f5f",
           "arrowhead": 0,
           "arrowwidth": 1
          },
          "colorscale": {
           "diverging": [
            [
             0,
             "#8e0152"
            ],
            [
             0.1,
             "#c51b7d"
            ],
            [
             0.2,
             "#de77ae"
            ],
            [
             0.3,
             "#f1b6da"
            ],
            [
             0.4,
             "#fde0ef"
            ],
            [
             0.5,
             "#f7f7f7"
            ],
            [
             0.6,
             "#e6f5d0"
            ],
            [
             0.7,
             "#b8e186"
            ],
            [
             0.8,
             "#7fbc41"
            ],
            [
             0.9,
             "#4d9221"
            ],
            [
             1,
             "#276419"
            ]
           ],
           "sequential": [
            [
             0,
             "#0d0887"
            ],
            [
             0.1111111111111111,
             "#46039f"
            ],
            [
             0.2222222222222222,
             "#7201a8"
            ],
            [
             0.3333333333333333,
             "#9c179e"
            ],
            [
             0.4444444444444444,
             "#bd3786"
            ],
            [
             0.5555555555555556,
             "#d8576b"
            ],
            [
             0.6666666666666666,
             "#ed7953"
            ],
            [
             0.7777777777777778,
             "#fb9f3a"
            ],
            [
             0.8888888888888888,
             "#fdca26"
            ],
            [
             1,
             "#f0f921"
            ]
           ],
           "sequentialminus": [
            [
             0,
             "#0d0887"
            ],
            [
             0.1111111111111111,
             "#46039f"
            ],
            [
             0.2222222222222222,
             "#7201a8"
            ],
            [
             0.3333333333333333,
             "#9c179e"
            ],
            [
             0.4444444444444444,
             "#bd3786"
            ],
            [
             0.5555555555555556,
             "#d8576b"
            ],
            [
             0.6666666666666666,
             "#ed7953"
            ],
            [
             0.7777777777777778,
             "#fb9f3a"
            ],
            [
             0.8888888888888888,
             "#fdca26"
            ],
            [
             1,
             "#f0f921"
            ]
           ]
          },
          "colorway": [
           "#636efa",
           "#EF553B",
           "#00cc96",
           "#ab63fa",
           "#FFA15A",
           "#19d3f3",
           "#FF6692",
           "#B6E880",
           "#FF97FF",
           "#FECB52"
          ],
          "font": {
           "color": "#2a3f5f"
          },
          "geo": {
           "bgcolor": "white",
           "lakecolor": "white",
           "landcolor": "#E5ECF6",
           "showlakes": true,
           "showland": true,
           "subunitcolor": "white"
          },
          "hoverlabel": {
           "align": "left"
          },
          "hovermode": "closest",
          "mapbox": {
           "style": "light"
          },
          "paper_bgcolor": "white",
          "plot_bgcolor": "#E5ECF6",
          "polar": {
           "angularaxis": {
            "gridcolor": "white",
            "linecolor": "white",
            "ticks": ""
           },
           "bgcolor": "#E5ECF6",
           "radialaxis": {
            "gridcolor": "white",
            "linecolor": "white",
            "ticks": ""
           }
          },
          "scene": {
           "xaxis": {
            "backgroundcolor": "#E5ECF6",
            "gridcolor": "white",
            "gridwidth": 2,
            "linecolor": "white",
            "showbackground": true,
            "ticks": "",
            "zerolinecolor": "white"
           },
           "yaxis": {
            "backgroundcolor": "#E5ECF6",
            "gridcolor": "white",
            "gridwidth": 2,
            "linecolor": "white",
            "showbackground": true,
            "ticks": "",
            "zerolinecolor": "white"
           },
           "zaxis": {
            "backgroundcolor": "#E5ECF6",
            "gridcolor": "white",
            "gridwidth": 2,
            "linecolor": "white",
            "showbackground": true,
            "ticks": "",
            "zerolinecolor": "white"
           }
          },
          "shapedefaults": {
           "line": {
            "color": "#2a3f5f"
           }
          },
          "ternary": {
           "aaxis": {
            "gridcolor": "white",
            "linecolor": "white",
            "ticks": ""
           },
           "baxis": {
            "gridcolor": "white",
            "linecolor": "white",
            "ticks": ""
           },
           "bgcolor": "#E5ECF6",
           "caxis": {
            "gridcolor": "white",
            "linecolor": "white",
            "ticks": ""
           }
          },
          "title": {
           "x": 0.05
          },
          "xaxis": {
           "automargin": true,
           "gridcolor": "white",
           "linecolor": "white",
           "ticks": "",
           "zerolinecolor": "white",
           "zerolinewidth": 2
          },
          "yaxis": {
           "automargin": true,
           "gridcolor": "white",
           "linecolor": "white",
           "ticks": "",
           "zerolinecolor": "white",
           "zerolinewidth": 2
          }
         }
        }
       }
      },
      "text/html": [
       "<div>\n",
       "        \n",
       "        \n",
       "            <div id=\"07228588-42d3-46f8-9728-8f6b1db0c859\" class=\"plotly-graph-div\" style=\"height:600px; width:100%;\"></div>\n",
       "            <script type=\"text/javascript\">\n",
       "                require([\"plotly\"], function(Plotly) {\n",
       "                    window.PLOTLYENV=window.PLOTLYENV || {};\n",
       "                    \n",
       "                if (document.getElementById(\"07228588-42d3-46f8-9728-8f6b1db0c859\")) {\n",
       "                    Plotly.newPlot(\n",
       "                        '07228588-42d3-46f8-9728-8f6b1db0c859',\n",
       "                        [{\"hoverlabel\": {\"namelength\": 0}, \"hovertemplate\": \"de_natureza_juridica=%{x}<br>sg_uf=%{y}<br>de_ramo=%{z}<br>cluster=%{marker.color}\", \"legendgroup\": \"\", \"marker\": {\"color\": [2, 1, 2, 2, 2, 0, 2, 0, 1, 1, 1, 2, 2, 2, 2, 1, 2, 0, 1, 2, 1, 1, 1, 2, 2, 0, 1, 0, 2, 2, 1, 2, 2, 2, 2, 2, 2, 2, 2, 2, 3, 2, 1, 1, 2, 0, 1, 2, 2, 1, 2, 2, 1, 2, 0, 2, 0, 2, 2, 2, 2, 2, 2, 2, 2, 2, 2, 1, 2, 2, 2, 2, 2, 3, 2, 1, 2, 2, 2, 2, 2, 0, 2, 2, 1, 1, 2, 1, 1, 1, 2, 2, 0, 0, 1, 0, 2, 1, 3, 1, 2, 1, 1, 2, 1, 2, 2, 1, 2, 2, 1, 2, 2, 1, 0, 2, 2, 1, 2, 2, 3, 2, 2, 1, 2, 2, 2, 2, 0, 2, 0, 2, 1, 2, 1, 2, 1, 0, 2, 2, 1, 2, 0, 1, 0, 2, 1, 2, 2, 0, 2, 2, 2, 1, 2, 2, 2, 2, 2, 2, 2, 1, 1, 1, 1, 0, 1, 2, 1, 2, 2, 1, 2, 1, 2, 0, 0, 1, 1, 2, 2, 2, 2, 2, 2, 1, 0, 0, 2, 0, 1, 2, 1, 2, 0, 2, 1, 2, 2, 2, 2, 2, 0, 2, 0, 2, 1, 2, 2, 2, 0, 2, 2, 2, 1, 2, 2, 2, 0, 1, 1, 2, 2, 1, 3, 1, 0, 2, 0, 1, 1, 1, 4, 0, 2, 0, 0, 1, 0, 2, 2, 2, 2, 2, 1, 2, 2, 2, 0, 2, 2, 1, 2, 1, 2, 2, 1, 0, 2, 2, 0, 1, 1, 0, 2], \"coloraxis\": \"coloraxis\", \"symbol\": \"circle\"}, \"mode\": \"markers\", \"name\": \"\", \"scene\": \"scene\", \"showlegend\": false, \"type\": \"scatter3d\", \"x\": [13.589737574903507, 24.71191156108005, 14.86686844744952, 14.225765015095428, 13.122184242578, -0.33272955279341343, 15.30601230936765, 8.13677427483984, 23.167394277728384, 23.66590082122348, 23.65382404874085, 14.444094499595671, 14.535575185078748, 14.824431049243644, 14.46029172164203, 22.26665900797846, 13.816034821698532, 8.950942268587488, 22.662988929009586, 10.57027406986198, 23.4947944167315, 22.58150778902453, 19.76507836687292, 14.883893161133193, 14.02118463270536, 0.268338698733921, 23.092818018755754, 7.263378948574926, 13.00371755019915, 13.455154332140763, 23.916974590379045, 14.105273695894875, 14.613361266312353, 14.45526631012839, 13.735615203885587, 16.827792293266796, 13.32058855009578, 14.300516241740338, 13.465450138471128, 13.911873733790118, 0.407247665543812, 15.389425159242046, 23.676327138730784, 22.905017250813426, 15.167139823651423, 5.636783807869202, 22.801888633304934, 13.646973329777584, 14.093291568707382, 23.143961354636776, 14.680386422587855, 14.13714518303961, 21.42827446327528, 18.85769526950145, 7.078950691641555, 13.916913075565263, 7.202676709700603, 14.16851303616426, 13.418103285790677, 13.20299558741512, 15.427083811038653, 13.720692643367874, 12.75921157569138, 14.293307861533679, 14.226051857521348, 15.136625370230577, 15.38193680128788, 22.438962884187372, 13.966327811771155, 13.56481841183186, 12.11038624265359, 14.529269905698381, 14.068397545971493, 1.7218264195769255, 14.990459629561924, 22.974359970269905, 14.326425201565014, 13.639815688665175, 13.489554353145373, 15.472476042180245, 14.00576310082011, 2.7663614833380477, 14.715656025822675, 15.514733483676618, 22.949258101103226, 22.522061775734457, 13.473913549053375, 23.32266961502329, 23.689990055252007, 22.81495455370567, 16.375748030787047, 14.04437281172532, 2.293643373570686, 0.6022689214838974, 22.730910643823265, 9.938219102408123, 13.198046239539106, 23.527692403965293, 1.5221255907400466, 22.341971978116252, 14.180331370758845, 23.0926504831031, 22.170948593334128, 14.74727299713429, 23.63276763706417, 16.85869790165469, 13.871137009341348, 22.322903262744905, 14.175604990650024, 13.975345939730705, 23.119238578662287, 14.652046229361869, 14.873345887648977, 16.09751148228974, 7.122340364210771, 13.591503845950236, 14.250702262137914, 23.384839798550537, 14.808836717361022, 15.027262437194732, 0.4797899729148884, 14.944353139264084, 15.146545562437899, 24.075459376502977, 14.098417333194345, 14.323033181786787, 13.176403098152594, 15.40648273378799, -0.19833049870300595, 17.812572261005897, 7.019212759117321, 17.30041115841182, 23.25851365473795, 14.807731627878209, 23.529364224622856, 14.459121062205046, 22.85033627930276, 6.358342819441346, 15.389119189834776, 14.34923784777021, 22.41620820730113, 14.536485214952842, 8.350805691382856, 22.52791507074476, 7.455724644374786, 14.320787685619585, 19.623933868767846, 14.20350433341266, 13.76851049084566, -0.3686656346867109, 14.007496274169558, 13.902756313070629, 14.16810745057574, 19.22769730967833, 13.36714533595272, 13.936475870928486, 14.733473946141846, 14.609440139470053, 13.260417048628877, 14.305887868518708, 13.790641148847232, 22.188594430792, 23.345604814293036, 23.580279821069595, 21.279633499293077, 6.725346332754801, 23.045615018750514, 13.500039707226664, 21.069067503909242, 14.401843005563128, 13.084220200270959, 23.665211523045976, 13.964016652835092, 22.941650207356403, 13.42658150616192, 3.5702235728313827, 1.8563787792032151, 22.196382919148157, 23.145151356474727, 14.613427086659852, 13.759714743461723, 14.091079024962724, 14.699450448323072, 14.646249388688872, 13.963280371340808, 23.3560076882358, 0.12923077619866108, 2.736484562462521, 15.297710849510656, 8.19823018646947, 23.947940094646377, 11.460775808357074, 22.56958456513949, 14.849568856954123, 7.991326751327204, 14.126952976633627, 22.980298382488755, 14.595769251214797, 15.172971958537932, 15.820311077448261, 13.931976925974997, 20.20240715155659, 4.375182573159469, 14.534763092156215, 11.17334809499415, 13.743472324500045, 23.328550254565986, 14.682570774335312, 13.86226604386691, 13.389645182515162, 0.9237191863487545, 14.020563127944978, 14.36374560924044, 13.75097051094794, 23.670955922567458, 14.027965355829107, 19.731986128660143, 13.687960025887078, 7.396517576979974, 23.011144428531512, 22.35633077330557, 16.336794854163724, 14.2609112427099, 22.19194613259571, 0.8337430272596693, 23.60027861284488, -0.30890997443101936, 14.344329119225964, 7.028197333974814, 23.33828280544225, 22.40164710995883, 22.35223270608851, 19.96029885069822, 7.356994712875751, 14.391246469695398, 0.5030413407194978, 6.578241977011138, 22.83738469709908, 6.459856030674597, 13.764222642993422, 14.380236199159055, 13.481341096606801, 12.69984972907859, 14.096722695004924, 23.615107918698612, 14.456397935719938, 13.157616327473908, 18.581946932247774, 1.739232765322968, 22.123709542769465, 14.647257567835357, 23.06065038958264, 15.815841500133109, 23.694687918192198, 13.371152777145083, 14.551129473750054, 21.77166822257957, 7.385410154447211, 16.98932986381199, 13.710940849787486, 5.979951850960907, 23.064186981663912, 23.54634322630114, 5.783651198078247, 20.43285858642728], \"y\": [2.4304420390416306, 2.3666928677248604, 1.3881017474007324, 2.891853290479924, 4.157033494691199, 4.179374676321276, 2.158026108197878, 1.7231367116274494, 0.857607712146909, 5.932659732183949, 4.028467554061344, 0.5665163053736884, 3.7325949526507443, 2.06854579553867, 4.062949552284611, 0.7715363990862476, 1.8533654484545112, 1.1366047815082099, 2.7999597592095724, 0.2872583283358745, 1.7901360452768553, 0.2666251444759846, 1.824752396204426, 3.163631644967505, 1.6464766335221521, 1.5666527349046837, 2.12330608856885, 4.959445416066541, 3.4345807160987976, 1.3467652214756085, 5.091768565695624, 2.63858324842601, 5.169333706426082, 3.7738413810556786, 1.2930344314160238, 4.276625213170975, 2.235260480448841, 3.637067875326215, 3.213912407400285, 5.248053164131339, 1.271205459725166, -0.33691771247456037, 4.695257276154098, 1.7745327308746106, -0.2185675292979556, 3.1539967769916726, 1.6409390943939735, 1.2055976033291569, 2.2537354475616187, 2.310430666657816, -0.21530929242998997, 4.71158015813663, 1.8387273226797949, 4.414152361293974, 3.18591590741387, 3.1401307380461905, 3.9086324410740563, 2.076354256910927, 1.8511308579590735, 3.9353635085770886, 2.6500853850206316, 3.2423379005525574, 3.212506034238592, 3.874104204327054, 0.8867014402796696, 1.15314504559622, 4.010845582750828, 2.0885037519907654, 2.254017494564885, 2.966139676712045, 4.471265275341664, 1.220671552158168, 1.4346600864510788, 2.5678725318956706, -0.0306243640105599, 0.5207894791493307, 3.1331076191790226, 2.269311046005306, 1.9442725638561664, 2.2857897127669218, 0.6647313569630551, 0.4581755168442959, 2.0071650484926846, 1.48392993832673, 0.3026415984165928, 3.7161853788326398, 1.766621665409121, 2.423272862409058, 4.6589339722784295, 5.505820222879913, 1.3802469109925264, 3.288827387157205, -0.18718311926859998, 3.093335608918645, 1.1938775889649809, 1.633220657628988, 3.4101647676896722, 4.815968677175636, 1.4351513477515134, 4.515733721743552, 1.612612839702398, 2.8789027976727946, 0.19569819650142944, 2.9374459867377127, 3.099554986335108, 3.5566772844024146, 2.064196418786456, 2.018279230276741, 1.6860511603854047, 1.362186625676273, -0.5471532359765079, 4.587192232534687, 2.902888030909192, 3.2655992426037166, 2.4120310104468743, 4.357392520946487, 1.7891798649794373, 1.1474550061866093, 2.926837823121013, 1.4133692964864077, 0.41776407799737775, 0.7331931222248977, 4.6803808123105215, 1.5655044693074933, 4.009090372408035, 3.6677872646381804, 0.10235113321422801, 3.31429120213096, 1.5695661010854993, 2.9420136511680783, -0.28779116328218685, 5.613173666696908, 2.1635556864230034, 2.916065947280187, 2.682952838148168, 2.1335856641698423, 2.257780875577059, -0.04822787524729816, 2.9782097696060754, 1.9018332966873073, 3.176168063256223, 2.361493195407597, 1.5143288491711238, 0.8718525201198153, 0.853531400372862, 3.584391487643961, 0.23266943276584612, 0.759705945670436, 2.48007559834399, 3.712927637698946, 2.7496117173288166, 1.1055321554683086, 3.1604199355495757, 2.6208741355785703, 3.7438791713821478, 3.010682870383492, 3.091788512576662, 2.2731207514843366, 3.201219180284788, 1.9853360549195787, 4.005224362369598, 3.414392002279696, 1.8484403214073057, 3.880843530185605, 2.787752394104476, 1.6424840341431324, -0.16239329080055442, -0.6647153981755691, 4.635998997396103, 2.871487996011777, 3.0108458509816796, 0.7472195392858673, 4.01581784171343, 3.1162462333890337, 3.4599061933563404, 4.634464885454035, 4.119572414554003, 0.08608040318017401, 1.4170916252162495, 2.0139492113138275, 4.154378987586818, 2.467078984449129, 2.9164997389848137, 3.669704785614031, 4.716025549938471, 2.023132876711907, 1.7634562219129895, 3.57355437762889, -0.7895445482558727, 3.184468609695511, 0.8084832713473803, 3.2828081525903268, 1.1942545062580345, 3.83575980673195, 2.5653613155934747, 2.003689473316846, 1.5445724184701421, 1.4064748833284946, 2.61719882202026, 0.44526002438387535, 2.809574094155226, 0.238938963998651, 4.656964208488748, 1.480617299305943, 1.3500170531898286, 3.1385877839880574, 1.0920625621639415, 2.366679218059544, 0.938000755274121, 3.5771818989805073, 0.482583632365641, 4.878467424246081, 2.80880126503228, 2.427114841362778, 2.5054147968443967, 4.21924006037148, 0.980279697961135, 3.2486441785020728, 0.49283579639402403, 0.976458018531204, 1.1895397125975598, 3.5805660477888837, 1.1646166190858376, 0.01572570870374329, 1.0786130033155077, 5.095978058534449, 3.9214188586094307, 3.1562797968846352, 4.719771816669949, 4.8324787943144205, 4.4452356223009, 3.834141066896711, 5.723239615098685, 3.8700750977642793, 2.200870936384334, 3.740800637547561, 4.604476230357701, 3.9072574459151714, 0.901198457592562, 3.3677252623056684, 4.449695224796421, 4.498843649185736, 2.27743936662068, 3.5884341316129085, 0.8991712265291527, 3.3236426050901575, 1.6723667889904599, 2.9105629416591916, 4.335928078567869, 4.273091695553977, 3.946586450367824, 5.142636861557829, 0.352045726636904, 2.3441199002860778, 3.2148373308193023, 1.3295722557420533, 2.6202199168460494, 2.3617043141621337, 3.6485424514974976, 4.407419889847895, 5.702299210047921, 3.465635351511534, 2.2509814356287867, 0.09071903210271087, 2.49922861014776], \"z\": [0.6700562748327459, 7.781227945923007, -0.5332428793643171, -0.26771762316082853, -0.14044765760487998, 6.06578364563824, -0.2869282025463753, 5.218160137319869, 12.857639325155057, 5.804899718457912, 6.050877940769037, 1.2973836425731071, 0.6421518804798587, -1.3420502535999956, 0.21047926330510652, 6.713603096658786, -0.5002860897546002, 9.532186889613282, 6.313390916316694, -0.43408553811256473, 4.563668179163462, 6.941134508369308, 13.544702720208795, 0.4267855607698961, -0.22524947494804654, 7.7787975303363845, 9.296633891567964, 15.650198355393481, -0.047309382982344494, -0.45239942994702825, 4.637269639823525, -0.09790317114823954, 0.30540962821545137, 0.7394572455107127, -0.2959045155827392, 0.35444354218736196, -0.701494375475296, -0.048013952150082695, -0.03922185404895051, 0.1004731975695104, 0.1462240982057495, -0.4699778569596605, 15.306989563063182, 5.563657775247725, -0.0870565570885285, 3.450302379282604, 15.156529618916064, -0.7811002837692594, -0.32815367787860805, 10.084969112534365, -0.58122758700342, 0.48194064742638854, 9.192160119178535, 0.22172365612100048, 5.1371045265952455, 0.1884967159942435, 4.318623966068418, 0.6009147962149627, -0.6797147968642918, -0.15319954225673632, -0.13117059381332236, -0.8403646614856474, -0.12150029324935346, -0.5008319667684321, 0.7065863306283229, -0.5724111921925001, -0.19017157702173498, 14.376493019896193, -0.08890993941617958, -0.35751322555073467, 3.4922814354328064, 0.305728754974359, 0.04958689546740258, 0.14828204605916023, -0.6303892681727892, 15.586222121244761, -0.09288996350992346, 0.8581416272400126, 0.05340589248958, -0.8208568333880828, -0.1000476693263262, 7.990599805308315, 0.2501142436493026, -0.3439203319883273, 4.75321286330954, 15.23295508388358, -0.4375111127703584, 15.045996002991615, 5.369532235705209, 15.404088392043992, -0.3797985062257512, 0.791019459203905, 7.363727640068892, 8.86328629128069, 5.746995877055973, 7.41311117778867, -0.48714718313299576, 4.43469295435213, -0.8093045214583949, 6.947894970233751, -0.39138096546179546, 5.174540493669299, 8.674984964267255, -0.4820573415768157, 5.615510499693421, 0.6784373070850537, 0.4755128387818864, 7.521871167162364, 0.36841115056778995, -0.50770213857807, 5.140028061878381, 0.3003883096138626, -0.5949861238964997, 6.367751971815218, 3.1404432494783676, 0.97926202927453, -0.12922314873185714, 4.965210023753545, 0.0035073459983968047, -0.027733810768187817, 0.34673930490936294, -0.11925773070802836, -0.26064257620470477, 14.688386415927237, -0.2779789482701177, -0.368593326866823, 1.20386305808124, -0.7525465009489701, 7.156721973743359, 0.20653160906290796, 5.378438514953502, 0.2647529687861596, 5.205988331965948, 0.07496379257725755, 8.946700812135742, 0.14809439825922005, 8.170029857311567, 5.122064809687654, -1.159503009709041, 0.11049439298221725, 10.43930996589025, -0.6938768081084493, 4.781424811481992, 6.6047916273834675, 5.0326964241780106, -0.016898029227423728, 6.248079165462747, -0.4772529662651064, 0.3891358916277648, 9.60966962750305, 0.3265559014186494, 0.39497947746992196, 0.3045870225706687, 6.851620829366501, -0.27775166485711045, 0.10993604237748583, 0.40058545008593394, 0.5489441699622568, 0.48909608275871, -0.6112310740449123, -0.5165272149766689, 5.045406505250203, 14.73843625687425, 4.353420180910689, 14.575530908642786, 4.443943242723982, 6.5526368575616045, -1.189353586547034, 6.787673750892395, 0.2338996520421387, 0.4503010805851531, 5.956352515649639, 0.2087443264301097, 4.184975055021402, 0.08379723746540446, 5.248885227830245, 8.192860967424302, 4.806251802556642, 5.853049675142879, 0.13418669171751385, -0.17361017895070752, 0.18279964858291153, -0.5573753085464281, -0.667995760437381, -1.0816022774878535, 14.424249462891577, 8.37988231373699, 7.833516910985394, 0.0028249121625326112, 8.707071858721815, 6.207371246580191, -0.042944200332031, 5.747055559608147, 0.20895817500920943, 5.4682504060784245, -0.37015073567815593, 15.144825278931199, 0.5448091141603584, 0.2263229911076058, -0.04974098333120869, -1.5624717293647374, 0.4792092556771415, 14.709175966601796, 0.6828113610534208, 8.665081615695234, 1.564907780401226, 5.953471797216554, -0.19631217085099517, 0.5012773560397537, -0.15529683994808158, 12.565131164664571, -0.3600932537285791, 0.23488532105817822, -0.4143166678872395, 7.555354354246096, -0.4414384665676593, -1.006983476266325, 0.2525953534436559, 4.809863823489321, 5.458127908670527, 3.8377857783594633, -0.63749307101704, 0.17098298086434827, 5.513722014297738, -0.88645090628916, 7.399191303754907, 9.918044039278755, -0.07092558329035542, 10.490510883917988, 8.59807675957816, 15.934321948501387, 13.903169126692237, 12.29037016682234, 5.023400416102952, -0.42380572340484113, 6.292640087116938, 5.028031252873272, 9.42327185749777, 9.753865462321475, 0.23312370938602422, 0.33022728843938515, -0.6196219312353833, -0.10731598210121496, 0.3790019166668805, 8.517203444190057, -0.40230853644920544, -0.08922503316354663, 0.8309265828661989, 6.72404903897174, 0.9032733458951063, -0.8905962153617353, 5.484163992432451, -0.4741130167785877, 15.381351984166821, 0.3419984645317499, 0.06186808991155196, 9.003795414279637, 11.680652163075216, 0.4659551230298843, -0.4053824752771448, 11.370020432018537, 9.771020933717654, 13.091274958284114, 3.3202363760177405, 3.180836466055225]}],\n",
       "                        {\"coloraxis\": {\"colorbar\": {\"title\": {\"text\": \"cluster\"}}, \"colorscale\": [[0.0, \"#0d0887\"], [0.1111111111111111, \"#46039f\"], [0.2222222222222222, \"#7201a8\"], [0.3333333333333333, \"#9c179e\"], [0.4444444444444444, \"#bd3786\"], [0.5555555555555556, \"#d8576b\"], [0.6666666666666666, \"#ed7953\"], [0.7777777777777778, \"#fb9f3a\"], [0.8888888888888888, \"#fdca26\"], [1.0, \"#f0f921\"]]}, \"height\": 600, \"legend\": {\"tracegroupgap\": 0}, \"margin\": {\"t\": 60}, \"scene\": {\"domain\": {\"x\": [0.0, 0.98], \"y\": [0.0, 1.0]}, \"xaxis\": {\"title\": {\"text\": \"de_natureza_juridica\"}}, \"yaxis\": {\"title\": {\"text\": \"sg_uf\"}}, \"zaxis\": {\"title\": {\"text\": \"de_ramo\"}}}, \"template\": {\"data\": {\"bar\": [{\"error_x\": {\"color\": \"#2a3f5f\"}, \"error_y\": {\"color\": \"#2a3f5f\"}, \"marker\": {\"line\": {\"color\": \"#E5ECF6\", \"width\": 0.5}}, \"type\": \"bar\"}], \"barpolar\": [{\"marker\": {\"line\": {\"color\": \"#E5ECF6\", \"width\": 0.5}}, \"type\": \"barpolar\"}], \"carpet\": [{\"aaxis\": {\"endlinecolor\": \"#2a3f5f\", \"gridcolor\": \"white\", \"linecolor\": \"white\", \"minorgridcolor\": \"white\", \"startlinecolor\": \"#2a3f5f\"}, \"baxis\": {\"endlinecolor\": \"#2a3f5f\", \"gridcolor\": \"white\", \"linecolor\": \"white\", \"minorgridcolor\": \"white\", \"startlinecolor\": \"#2a3f5f\"}, \"type\": \"carpet\"}], \"choropleth\": [{\"colorbar\": {\"outlinewidth\": 0, \"ticks\": \"\"}, \"type\": \"choropleth\"}], \"contour\": [{\"colorbar\": {\"outlinewidth\": 0, \"ticks\": \"\"}, \"colorscale\": [[0.0, \"#0d0887\"], [0.1111111111111111, \"#46039f\"], [0.2222222222222222, \"#7201a8\"], [0.3333333333333333, \"#9c179e\"], [0.4444444444444444, \"#bd3786\"], [0.5555555555555556, \"#d8576b\"], [0.6666666666666666, \"#ed7953\"], [0.7777777777777778, \"#fb9f3a\"], [0.8888888888888888, \"#fdca26\"], [1.0, \"#f0f921\"]], \"type\": \"contour\"}], \"contourcarpet\": [{\"colorbar\": {\"outlinewidth\": 0, \"ticks\": \"\"}, \"type\": \"contourcarpet\"}], \"heatmap\": [{\"colorbar\": {\"outlinewidth\": 0, \"ticks\": \"\"}, \"colorscale\": [[0.0, \"#0d0887\"], [0.1111111111111111, \"#46039f\"], [0.2222222222222222, \"#7201a8\"], [0.3333333333333333, \"#9c179e\"], [0.4444444444444444, \"#bd3786\"], [0.5555555555555556, \"#d8576b\"], [0.6666666666666666, \"#ed7953\"], [0.7777777777777778, \"#fb9f3a\"], [0.8888888888888888, \"#fdca26\"], [1.0, \"#f0f921\"]], \"type\": \"heatmap\"}], \"heatmapgl\": [{\"colorbar\": {\"outlinewidth\": 0, \"ticks\": \"\"}, \"colorscale\": [[0.0, \"#0d0887\"], [0.1111111111111111, \"#46039f\"], [0.2222222222222222, \"#7201a8\"], [0.3333333333333333, \"#9c179e\"], [0.4444444444444444, \"#bd3786\"], [0.5555555555555556, \"#d8576b\"], [0.6666666666666666, \"#ed7953\"], [0.7777777777777778, \"#fb9f3a\"], [0.8888888888888888, \"#fdca26\"], [1.0, \"#f0f921\"]], \"type\": \"heatmapgl\"}], \"histogram\": [{\"marker\": {\"colorbar\": {\"outlinewidth\": 0, \"ticks\": \"\"}}, \"type\": \"histogram\"}], \"histogram2d\": [{\"colorbar\": {\"outlinewidth\": 0, \"ticks\": \"\"}, \"colorscale\": [[0.0, \"#0d0887\"], [0.1111111111111111, \"#46039f\"], [0.2222222222222222, \"#7201a8\"], [0.3333333333333333, \"#9c179e\"], [0.4444444444444444, \"#bd3786\"], [0.5555555555555556, \"#d8576b\"], [0.6666666666666666, \"#ed7953\"], [0.7777777777777778, \"#fb9f3a\"], [0.8888888888888888, \"#fdca26\"], [1.0, \"#f0f921\"]], \"type\": \"histogram2d\"}], \"histogram2dcontour\": [{\"colorbar\": {\"outlinewidth\": 0, \"ticks\": \"\"}, \"colorscale\": [[0.0, \"#0d0887\"], [0.1111111111111111, \"#46039f\"], [0.2222222222222222, \"#7201a8\"], [0.3333333333333333, \"#9c179e\"], [0.4444444444444444, \"#bd3786\"], [0.5555555555555556, \"#d8576b\"], [0.6666666666666666, \"#ed7953\"], [0.7777777777777778, \"#fb9f3a\"], [0.8888888888888888, \"#fdca26\"], [1.0, \"#f0f921\"]], \"type\": \"histogram2dcontour\"}], \"mesh3d\": [{\"colorbar\": {\"outlinewidth\": 0, \"ticks\": \"\"}, \"type\": \"mesh3d\"}], \"parcoords\": [{\"line\": {\"colorbar\": {\"outlinewidth\": 0, \"ticks\": \"\"}}, \"type\": \"parcoords\"}], \"scatter\": [{\"marker\": {\"colorbar\": {\"outlinewidth\": 0, \"ticks\": \"\"}}, \"type\": \"scatter\"}], \"scatter3d\": [{\"line\": {\"colorbar\": {\"outlinewidth\": 0, \"ticks\": \"\"}}, \"marker\": {\"colorbar\": {\"outlinewidth\": 0, \"ticks\": \"\"}}, \"type\": \"scatter3d\"}], \"scattercarpet\": [{\"marker\": {\"colorbar\": {\"outlinewidth\": 0, \"ticks\": \"\"}}, \"type\": \"scattercarpet\"}], \"scattergeo\": [{\"marker\": {\"colorbar\": {\"outlinewidth\": 0, \"ticks\": \"\"}}, \"type\": \"scattergeo\"}], \"scattergl\": [{\"marker\": {\"colorbar\": {\"outlinewidth\": 0, \"ticks\": \"\"}}, \"type\": \"scattergl\"}], \"scattermapbox\": [{\"marker\": {\"colorbar\": {\"outlinewidth\": 0, \"ticks\": \"\"}}, \"type\": \"scattermapbox\"}], \"scatterpolar\": [{\"marker\": {\"colorbar\": {\"outlinewidth\": 0, \"ticks\": \"\"}}, \"type\": \"scatterpolar\"}], \"scatterpolargl\": [{\"marker\": {\"colorbar\": {\"outlinewidth\": 0, \"ticks\": \"\"}}, \"type\": \"scatterpolargl\"}], \"scatterternary\": [{\"marker\": {\"colorbar\": {\"outlinewidth\": 0, \"ticks\": \"\"}}, \"type\": \"scatterternary\"}], \"surface\": [{\"colorbar\": {\"outlinewidth\": 0, \"ticks\": \"\"}, \"colorscale\": [[0.0, \"#0d0887\"], [0.1111111111111111, \"#46039f\"], [0.2222222222222222, \"#7201a8\"], [0.3333333333333333, \"#9c179e\"], [0.4444444444444444, \"#bd3786\"], [0.5555555555555556, \"#d8576b\"], [0.6666666666666666, \"#ed7953\"], [0.7777777777777778, \"#fb9f3a\"], [0.8888888888888888, \"#fdca26\"], [1.0, \"#f0f921\"]], \"type\": \"surface\"}], \"table\": [{\"cells\": {\"fill\": {\"color\": \"#EBF0F8\"}, \"line\": {\"color\": \"white\"}}, \"header\": {\"fill\": {\"color\": \"#C8D4E3\"}, \"line\": {\"color\": \"white\"}}, \"type\": \"table\"}]}, \"layout\": {\"annotationdefaults\": {\"arrowcolor\": \"#2a3f5f\", \"arrowhead\": 0, \"arrowwidth\": 1}, \"colorscale\": {\"diverging\": [[0, \"#8e0152\"], [0.1, \"#c51b7d\"], [0.2, \"#de77ae\"], [0.3, \"#f1b6da\"], [0.4, \"#fde0ef\"], [0.5, \"#f7f7f7\"], [0.6, \"#e6f5d0\"], [0.7, \"#b8e186\"], [0.8, \"#7fbc41\"], [0.9, \"#4d9221\"], [1, \"#276419\"]], \"sequential\": [[0.0, \"#0d0887\"], [0.1111111111111111, \"#46039f\"], [0.2222222222222222, \"#7201a8\"], [0.3333333333333333, \"#9c179e\"], [0.4444444444444444, \"#bd3786\"], [0.5555555555555556, \"#d8576b\"], [0.6666666666666666, \"#ed7953\"], [0.7777777777777778, \"#fb9f3a\"], [0.8888888888888888, \"#fdca26\"], [1.0, \"#f0f921\"]], \"sequentialminus\": [[0.0, \"#0d0887\"], [0.1111111111111111, \"#46039f\"], [0.2222222222222222, \"#7201a8\"], [0.3333333333333333, \"#9c179e\"], [0.4444444444444444, \"#bd3786\"], [0.5555555555555556, \"#d8576b\"], [0.6666666666666666, \"#ed7953\"], [0.7777777777777778, \"#fb9f3a\"], [0.8888888888888888, \"#fdca26\"], [1.0, \"#f0f921\"]]}, \"colorway\": [\"#636efa\", \"#EF553B\", \"#00cc96\", \"#ab63fa\", \"#FFA15A\", \"#19d3f3\", \"#FF6692\", \"#B6E880\", \"#FF97FF\", \"#FECB52\"], \"font\": {\"color\": \"#2a3f5f\"}, \"geo\": {\"bgcolor\": \"white\", \"lakecolor\": \"white\", \"landcolor\": \"#E5ECF6\", \"showlakes\": true, \"showland\": true, \"subunitcolor\": \"white\"}, \"hoverlabel\": {\"align\": \"left\"}, \"hovermode\": \"closest\", \"mapbox\": {\"style\": \"light\"}, \"paper_bgcolor\": \"white\", \"plot_bgcolor\": \"#E5ECF6\", \"polar\": {\"angularaxis\": {\"gridcolor\": \"white\", \"linecolor\": \"white\", \"ticks\": \"\"}, \"bgcolor\": \"#E5ECF6\", \"radialaxis\": {\"gridcolor\": \"white\", \"linecolor\": \"white\", \"ticks\": \"\"}}, \"scene\": {\"xaxis\": {\"backgroundcolor\": \"#E5ECF6\", \"gridcolor\": \"white\", \"gridwidth\": 2, \"linecolor\": \"white\", \"showbackground\": true, \"ticks\": \"\", \"zerolinecolor\": \"white\"}, \"yaxis\": {\"backgroundcolor\": \"#E5ECF6\", \"gridcolor\": \"white\", \"gridwidth\": 2, \"linecolor\": \"white\", \"showbackground\": true, \"ticks\": \"\", \"zerolinecolor\": \"white\"}, \"zaxis\": {\"backgroundcolor\": \"#E5ECF6\", \"gridcolor\": \"white\", \"gridwidth\": 2, \"linecolor\": \"white\", \"showbackground\": true, \"ticks\": \"\", \"zerolinecolor\": \"white\"}}, \"shapedefaults\": {\"line\": {\"color\": \"#2a3f5f\"}}, \"ternary\": {\"aaxis\": {\"gridcolor\": \"white\", \"linecolor\": \"white\", \"ticks\": \"\"}, \"baxis\": {\"gridcolor\": \"white\", \"linecolor\": \"white\", \"ticks\": \"\"}, \"bgcolor\": \"#E5ECF6\", \"caxis\": {\"gridcolor\": \"white\", \"linecolor\": \"white\", \"ticks\": \"\"}}, \"title\": {\"x\": 0.05}, \"xaxis\": {\"automargin\": true, \"gridcolor\": \"white\", \"linecolor\": \"white\", \"ticks\": \"\", \"zerolinecolor\": \"white\", \"zerolinewidth\": 2}, \"yaxis\": {\"automargin\": true, \"gridcolor\": \"white\", \"linecolor\": \"white\", \"ticks\": \"\", \"zerolinecolor\": \"white\", \"zerolinewidth\": 2}}}},\n",
       "                        {\"responsive\": true}\n",
       "                    ).then(function(){\n",
       "                            \n",
       "var gd = document.getElementById('07228588-42d3-46f8-9728-8f6b1db0c859');\n",
       "var x = new MutationObserver(function (mutations, observer) {{\n",
       "        var display = window.getComputedStyle(gd).display;\n",
       "        if (!display || display === 'none') {{\n",
       "            console.log([gd, 'removed!']);\n",
       "            Plotly.purge(gd);\n",
       "            observer.disconnect();\n",
       "        }}\n",
       "}});\n",
       "\n",
       "// Listen for the removal of the full notebook cells\n",
       "var notebookContainer = gd.closest('#notebook-container');\n",
       "if (notebookContainer) {{\n",
       "    x.observe(notebookContainer, {childList: true});\n",
       "}}\n",
       "\n",
       "// Listen for the clearing of the current output cell\n",
       "var outputEl = gd.closest('.output');\n",
       "if (outputEl) {{\n",
       "    x.observe(outputEl, {childList: true});\n",
       "}}\n",
       "\n",
       "                        })\n",
       "                };\n",
       "                });\n",
       "            </script>\n",
       "        </div>"
      ]
     },
     "metadata": {},
     "output_type": "display_data"
    }
   ],
   "source": [
    "import plotly.express as px\n",
    "fig = px.scatter_3d(p2enc, x='de_natureza_juridica', y='sg_uf', z='de_ramo', color = 'cluster')\n",
    "fig.show()"
   ]
  },
  {
   "cell_type": "markdown",
   "metadata": {},
   "source": [
    "## Conclusão até o momento"
   ]
  },
  {
   "cell_type": "markdown",
   "metadata": {},
   "source": [
    "Clusterização parece interessante. Observar que, das três categorias avaliadas, o `de_ramo` não teve muita influência, porque está bem polarizado em uma das classes. Próximos passos: incluir mais features (sabendo que vai impedir a visualização em mais de 3 dimensões) e aplicar redução de dimensionalidade (PCA? antes ou depois da clusterização?)."
   ]
  }
 ],
 "metadata": {
  "kernelspec": {
   "display_name": "Python 3",
   "language": "python",
   "name": "python3"
  },
  "language_info": {
   "codemirror_mode": {
    "name": "ipython",
    "version": 3
   },
   "file_extension": ".py",
   "mimetype": "text/x-python",
   "name": "python",
   "nbconvert_exporter": "python",
   "pygments_lexer": "ipython3",
   "version": "3.6.8"
  },
  "toc": {
   "base_numbering": 1,
   "nav_menu": {},
   "number_sections": true,
   "sideBar": true,
   "skip_h1_title": false,
   "title_cell": "Table of Contents",
   "title_sidebar": "Contents",
   "toc_cell": false,
   "toc_position": {},
   "toc_section_display": true,
   "toc_window_display": false
  }
 },
 "nbformat": 4,
 "nbformat_minor": 2
}
