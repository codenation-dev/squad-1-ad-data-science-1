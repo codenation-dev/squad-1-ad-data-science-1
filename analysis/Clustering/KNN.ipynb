{
 "cells": [
  {
   "cell_type": "markdown",
   "metadata": {},
   "source": [
    "# Objetivo\n",
    "\n",
    "Aplicar o K Nearest Neighbors Na base toda. "
   ]
  },
  {
   "cell_type": "markdown",
   "metadata": {},
   "source": [
    "# Método\n",
    "\n",
    "A partir do conjunto reduzido de features (39) 100k rows, aplicar:\n",
    "- fillna <b> OK </b>\n",
    "\n",
    "- LabelEncoder (ou algo do tipo) <b> 'parcial' </b> - Travou \n",
    "- KNN"
   ]
  },
  {
   "cell_type": "markdown",
   "metadata": {},
   "source": [
    "# Leitura dos arquivos"
   ]
  },
  {
   "cell_type": "code",
   "execution_count": 1,
   "metadata": {},
   "outputs": [],
   "source": [
    "# imports\n",
    "import pandas as pd\n",
    "import matplotlib.pyplot as plt\n",
    "import seaborn as sns\n",
    "import numpy as np"
   ]
  },
  {
   "cell_type": "markdown",
   "metadata": {},
   "source": [
    "## Leitura da lista de features a excluir"
   ]
  },
  {
   "cell_type": "markdown",
   "metadata": {},
   "source": [
    "# Carregamento Clientes"
   ]
  },
  {
   "cell_type": "markdown",
   "metadata": {},
   "source": [
    "## Redução no número de features\n",
    "Só rodar caso seja necessário filtrar mais vezes"
   ]
  },
  {
   "cell_type": "code",
   "execution_count": 2,
   "metadata": {},
   "outputs": [
    {
     "name": "stdout",
     "output_type": "stream",
     "text": [
      "<class 'pandas.core.frame.DataFrame'>\n",
      "RangeIndex: 462298 entries, 0 to 462297\n",
      "Columns: 182 entries, Unnamed: 0 to qt_filiais\n",
      "dtypes: bool(9), float64(144), int64(2), object(27)\n",
      "memory usage: 614.1+ MB\n"
     ]
    }
   ],
   "source": [
    "p1 = pd.read_csv('estaticos_market.csv')\n",
    "p1.info()"
   ]
  },
  {
   "cell_type": "code",
   "execution_count": null,
   "metadata": {},
   "outputs": [],
   "source": []
  },
  {
   "cell_type": "code",
   "execution_count": 3,
   "metadata": {},
   "outputs": [
    {
     "data": {
      "text/plain": [
       "143"
      ]
     },
     "execution_count": 3,
     "metadata": {},
     "output_type": "execute_result"
    }
   ],
   "source": [
    "exclude_df = pd.read_csv('exclude_variables_generated_from_profiling.csv')\n",
    "exclude_variables = exclude_df.values.squeeze().tolist()\n",
    "len(exclude_variables)\n"
   ]
  },
  {
   "cell_type": "code",
   "execution_count": 5,
   "metadata": {},
   "outputs": [
    {
     "data": {
      "text/plain": [
       "Index(['Unnamed: 0', 'id', 'fl_matriz', 'de_natureza_juridica', 'sg_uf',\n",
       "       'natureza_juridica_macro', 'de_ramo', 'setor', 'idade_empresa_anos',\n",
       "       'idade_emp_cat',\n",
       "       ...\n",
       "       'media_meses_servicos', 'max_meses_servicos', 'min_meses_servicos',\n",
       "       'qt_funcionarios', 'qt_funcionarios_12meses', 'qt_funcionarios_24meses',\n",
       "       'tx_crescimento_12meses', 'tx_crescimento_24meses', 'tx_rotatividade',\n",
       "       'qt_filiais'],\n",
       "      dtype='object', length=182)"
      ]
     },
     "execution_count": 5,
     "metadata": {},
     "output_type": "execute_result"
    }
   ],
   "source": [
    "p1.columns"
   ]
  },
  {
   "cell_type": "code",
   "execution_count": 6,
   "metadata": {},
   "outputs": [
    {
     "data": {
      "text/plain": [
       "(462298, 37)"
      ]
     },
     "execution_count": 6,
     "metadata": {},
     "output_type": "execute_result"
    }
   ],
   "source": [
    "p1.drop(columns=exclude_variables, inplace= True)\n",
    "p1.drop(columns=['Unnamed: 0'], inplace= True)\n",
    "p1.set_index('id',inplace=True)\n",
    "p1.shape"
   ]
  },
  {
   "cell_type": "code",
   "execution_count": null,
   "metadata": {},
   "outputs": [],
   "source": [
    "#p1.to_csv('estaticos_49_features.csv')"
   ]
  },
  {
   "cell_type": "markdown",
   "metadata": {},
   "source": [
    "## Carregamento de clientes já filtrados\n"
   ]
  },
  {
   "cell_type": "code",
   "execution_count": null,
   "metadata": {},
   "outputs": [],
   "source": [
    "p1 = pd.read_csv('estaticos_41_features.csv')#,nrows = 200000)"
   ]
  },
  {
   "cell_type": "code",
   "execution_count": null,
   "metadata": {},
   "outputs": [],
   "source": [
    "p1.columns"
   ]
  },
  {
   "cell_type": "code",
   "execution_count": null,
   "metadata": {},
   "outputs": [],
   "source": [
    "p1.drop(columns=['Unnamed: 0'], inplace= True)\n",
    "p1.set_index('id',inplace=True)\n",
    "p1.shape"
   ]
  },
  {
   "cell_type": "markdown",
   "metadata": {},
   "source": [
    "# Managing NaNs\n"
   ]
  },
  {
   "cell_type": "markdown",
   "metadata": {},
   "source": [
    "Para usar nos dados do portfólio:\n",
    "- passar as strings para valor numérico\n",
    "- passar bool para int\n",
    "- fazer fillna para todos\n",
    "- - em categoricas -> other\n",
    "- - em numericas -> 0\n",
    "\n",
    "Estamos usando o LabelEncoder"
   ]
  },
  {
   "cell_type": "code",
   "execution_count": 7,
   "metadata": {
    "scrolled": true
   },
   "outputs": [
    {
     "data": {
      "text/plain": [
       "{'fl_matriz': False,\n",
       " 'de_natureza_juridica': 'other',\n",
       " 'sg_uf': 'other',\n",
       " 'natureza_juridica_macro': 'other',\n",
       " 'de_ramo': 'other',\n",
       " 'setor': 'other',\n",
       " 'idade_empresa_anos': 0,\n",
       " 'idade_emp_cat': 'other',\n",
       " 'fl_me': False,\n",
       " 'fl_sa': False,\n",
       " 'fl_mei': False,\n",
       " 'fl_ltda': False,\n",
       " 'dt_situacao': 'other',\n",
       " 'fl_st_especial': False,\n",
       " 'fl_email': False,\n",
       " 'fl_telefone': False,\n",
       " 'fl_rm': 'other',\n",
       " 'nm_divisao': 'other',\n",
       " 'nm_segmento': 'other',\n",
       " 'fl_optante_simples': False,\n",
       " 'fl_optante_simei': False,\n",
       " 'sg_uf_matriz': 'other',\n",
       " 'de_saude_tributaria': 'other',\n",
       " 'de_saude_rescencia': 'other',\n",
       " 'nu_meses_rescencia': 0,\n",
       " 'de_nivel_atividade': 'other',\n",
       " 'empsetorcensitariofaixarendapopulacao': 0,\n",
       " 'nm_meso_regiao': 'other',\n",
       " 'nm_micro_regiao': 'other',\n",
       " 'fl_passivel_iss': False,\n",
       " 'qt_socios': 0,\n",
       " 'idade_media_socios': 0,\n",
       " 'qt_socios_feminino': 0,\n",
       " 'de_faixa_faturamento_estimado': 'other',\n",
       " 'de_faixa_faturamento_estimado_grupo': 'other',\n",
       " 'vl_faturamento_estimado_aux': 0,\n",
       " 'vl_faturamento_estimado_grupo_aux': 0}"
      ]
     },
     "execution_count": 7,
     "metadata": {},
     "output_type": "execute_result"
    }
   ],
   "source": [
    "fill_dict = p1.dtypes.to_dict()\n",
    "cat2bool = ['fl_optante_simei','fl_optante_simples','fl_passivel_iss']\n",
    "\n",
    "for feature in fill_dict:\n",
    "    if(fill_dict[feature] == bool):\n",
    "        fill_dict[feature] = False\n",
    "    elif(fill_dict[feature] == object):\n",
    "        fill_dict[feature] = 'other'\n",
    "    else:\n",
    "        fill_dict[feature] = 0\n",
    "    if feature in cat2bool:\n",
    "        fill_dict[feature] = False\n",
    "        \n",
    "fill_dict\n"
   ]
  },
  {
   "cell_type": "code",
   "execution_count": 8,
   "metadata": {},
   "outputs": [],
   "source": [
    "p1.fillna(value=fill_dict, inplace=True)\n",
    "p1[cat2bool] = p1[cat2bool].astype(bool)\n",
    "\n",
    "bool2numeric = p1.columns[p1.dtypes == bool]\n",
    "p1[bool2numeric] = p1[bool2numeric].astype(int)"
   ]
  },
  {
   "cell_type": "markdown",
   "metadata": {},
   "source": [
    "## Encoding"
   ]
  },
  {
   "cell_type": "code",
   "execution_count": 9,
   "metadata": {},
   "outputs": [],
   "source": [
    "cat = p1.columns[p1.dtypes == object]\n",
    "cat\n",
    "not_cat = p1.columns[p1.dtypes != object]"
   ]
  },
  {
   "cell_type": "code",
   "execution_count": 10,
   "metadata": {},
   "outputs": [],
   "source": [
    "from sklearn.preprocessing import OrdinalEncoder\n",
    "\n",
    "encoder = OrdinalEncoder()\n",
    "#NÃO É MAIS NECESSÁRIO\n",
    "#p1_scaled = encoder.fit_transform(p1)"
   ]
  },
  {
   "cell_type": "code",
   "execution_count": 11,
   "metadata": {},
   "outputs": [],
   "source": [
    "\n",
    "# Usando LabelEncoder\n",
    "#https://chrisalbon.com/machine_learning/preprocessing_structured_data/convert_pandas_categorical_column_into_integers_for_scikit-learn/\n",
    "from sklearn import preprocessing\n",
    "# Create a label (category) encoder object\n",
    "le = preprocessing.LabelEncoder()"
   ]
  },
  {
   "cell_type": "code",
   "execution_count": 12,
   "metadata": {},
   "outputs": [],
   "source": [
    "p1_le = pd.DataFrame()\n",
    "p1_le[cat] = p1[cat].apply(lambda col: le.fit_transform(col))\n"
   ]
  },
  {
   "cell_type": "code",
   "execution_count": 13,
   "metadata": {},
   "outputs": [],
   "source": [
    "p1_encoded = pd.concat([p1[not_cat],p1_le], axis =1)"
   ]
  },
  {
   "cell_type": "code",
   "execution_count": 14,
   "metadata": {},
   "outputs": [
    {
     "data": {
      "text/plain": [
       "fl_matriz                                  int64\n",
       "idade_empresa_anos                       float64\n",
       "fl_me                                      int64\n",
       "fl_sa                                      int64\n",
       "fl_mei                                     int64\n",
       "fl_ltda                                    int64\n",
       "fl_st_especial                             int64\n",
       "fl_email                                   int64\n",
       "fl_telefone                                int64\n",
       "fl_optante_simples                         int64\n",
       "fl_optante_simei                           int64\n",
       "nu_meses_rescencia                       float64\n",
       "empsetorcensitariofaixarendapopulacao    float64\n",
       "fl_passivel_iss                            int64\n",
       "qt_socios                                float64\n",
       "idade_media_socios                       float64\n",
       "qt_socios_feminino                       float64\n",
       "vl_faturamento_estimado_aux              float64\n",
       "vl_faturamento_estimado_grupo_aux        float64\n",
       "de_natureza_juridica                       int64\n",
       "sg_uf                                      int64\n",
       "natureza_juridica_macro                    int64\n",
       "de_ramo                                    int64\n",
       "setor                                      int64\n",
       "idade_emp_cat                              int64\n",
       "dt_situacao                                int64\n",
       "fl_rm                                      int64\n",
       "nm_divisao                                 int64\n",
       "nm_segmento                                int64\n",
       "sg_uf_matriz                               int64\n",
       "de_saude_tributaria                        int64\n",
       "de_saude_rescencia                         int64\n",
       "de_nivel_atividade                         int64\n",
       "nm_meso_regiao                             int64\n",
       "nm_micro_regiao                            int64\n",
       "de_faixa_faturamento_estimado              int64\n",
       "de_faixa_faturamento_estimado_grupo        int64\n",
       "dtype: object"
      ]
     },
     "execution_count": 14,
     "metadata": {},
     "output_type": "execute_result"
    }
   ],
   "source": [
    "p1_encoded.dtypes"
   ]
  },
  {
   "cell_type": "markdown",
   "metadata": {},
   "source": [
    "# PCA\n"
   ]
  },
  {
   "cell_type": "markdown",
   "metadata": {},
   "source": [
    "Aplicar o PCA para redução de features"
   ]
  },
  {
   "cell_type": "code",
   "execution_count": null,
   "metadata": {},
   "outputs": [],
   "source": [
    "p1_encoded.iloc[:,:35]"
   ]
  },
  {
   "cell_type": "code",
   "execution_count": 16,
   "metadata": {},
   "outputs": [],
   "source": [
    "from sklearn.decomposition import PCA\n",
    "from sklearn.preprocessing import MinMaxScaler\n",
    "stdScaler = MinMaxScaler()\n",
    "\n",
    "p1_scaled = stdScaler.fit_transform(p1_encoded.iloc[:,:35])\n",
    "\n",
    "pca = PCA().fit(p1_encoded)\n",
    "#pca.fit_transform(p1_encoded)"
   ]
  },
  {
   "cell_type": "code",
   "execution_count": 17,
   "metadata": {},
   "outputs": [
    {
     "data": {
      "text/plain": [
       "array([9.99981021e-01, 1.89792375e-05, 5.78359568e-14, 2.71481537e-14,\n",
       "       1.23322077e-17, 1.08135143e-17, 1.04641177e-17, 6.53662612e-18,\n",
       "       2.40660499e-18, 1.95879224e-18, 9.97701877e-19, 6.22042971e-19,\n",
       "       5.75028299e-19, 4.46531345e-19, 2.98995316e-19, 6.47766828e-20,\n",
       "       5.56686294e-20, 4.34062198e-20, 1.94131610e-20, 1.66924925e-20,\n",
       "       1.53475544e-20, 1.09781490e-20, 9.43597300e-21, 6.64857296e-21,\n",
       "       4.94345796e-21, 4.33416669e-21, 3.65916596e-21, 2.83448417e-21,\n",
       "       2.35533577e-21, 2.14674744e-21, 1.62403125e-21, 6.28619074e-22,\n",
       "       3.68900982e-22, 3.40065559e-22, 7.00489560e-23, 4.03215734e-23,\n",
       "       3.08366323e-24])"
      ]
     },
     "execution_count": 17,
     "metadata": {},
     "output_type": "execute_result"
    }
   ],
   "source": [
    "evr = pca.explained_variance_ratio_\n",
    "ev = pca.explained_variance_\n",
    "\n",
    "evr"
   ]
  },
  {
   "cell_type": "code",
   "execution_count": 18,
   "metadata": {},
   "outputs": [
    {
     "data": {
      "text/plain": [
       "(37, 37)"
      ]
     },
     "execution_count": 18,
     "metadata": {},
     "output_type": "execute_result"
    }
   ],
   "source": [
    "pca.components_.shape"
   ]
  },
  {
   "cell_type": "code",
   "execution_count": null,
   "metadata": {},
   "outputs": [],
   "source": [
    "g = sns.lineplot(np.arange(len(evr)), np.cumsum(evr))\n",
    "g.axes.axhline(0.95, ls=\"--\", color=\"red\")\n",
    "plt.xlabel('Number of components')\n",
    "plt.ylabel('Cumulative explained variance');"
   ]
  },
  {
   "cell_type": "code",
   "execution_count": 25,
   "metadata": {},
   "outputs": [
    {
     "data": {
      "text/plain": [
       "NearestNeighbors(algorithm='auto', leaf_size=30, metric='minkowski',\n",
       "                 metric_params=None, n_jobs=None, n_neighbors=5, p=2,\n",
       "                 radius=1.0)"
      ]
     },
     "execution_count": 25,
     "metadata": {},
     "output_type": "execute_result"
    }
   ],
   "source": [
    "from sklearn.neighbors import NearestNeighbors\n",
    "\n",
    "nearest = NearestNeighbors()\n",
    "\n",
    "nearest.fit(p1_sample)"
   ]
  },
  {
   "cell_type": "code",
   "execution_count": 43,
   "metadata": {},
   "outputs": [
    {
     "data": {
      "text/html": [
       "<div>\n",
       "<style scoped>\n",
       "    .dataframe tbody tr th:only-of-type {\n",
       "        vertical-align: middle;\n",
       "    }\n",
       "\n",
       "    .dataframe tbody tr th {\n",
       "        vertical-align: top;\n",
       "    }\n",
       "\n",
       "    .dataframe thead th {\n",
       "        text-align: right;\n",
       "    }\n",
       "</style>\n",
       "<table border=\"1\" class=\"dataframe\">\n",
       "  <thead>\n",
       "    <tr style=\"text-align: right;\">\n",
       "      <th></th>\n",
       "      <th>fl_matriz</th>\n",
       "      <th>idade_empresa_anos</th>\n",
       "      <th>fl_me</th>\n",
       "      <th>fl_sa</th>\n",
       "      <th>fl_mei</th>\n",
       "      <th>fl_ltda</th>\n",
       "      <th>fl_st_especial</th>\n",
       "      <th>fl_email</th>\n",
       "      <th>fl_telefone</th>\n",
       "      <th>fl_optante_simples</th>\n",
       "      <th>...</th>\n",
       "      <th>nm_divisao</th>\n",
       "      <th>nm_segmento</th>\n",
       "      <th>sg_uf_matriz</th>\n",
       "      <th>de_saude_tributaria</th>\n",
       "      <th>de_saude_rescencia</th>\n",
       "      <th>de_nivel_atividade</th>\n",
       "      <th>nm_meso_regiao</th>\n",
       "      <th>nm_micro_regiao</th>\n",
       "      <th>de_faixa_faturamento_estimado</th>\n",
       "      <th>de_faixa_faturamento_estimado_grupo</th>\n",
       "    </tr>\n",
       "    <tr>\n",
       "      <th>id</th>\n",
       "      <th></th>\n",
       "      <th></th>\n",
       "      <th></th>\n",
       "      <th></th>\n",
       "      <th></th>\n",
       "      <th></th>\n",
       "      <th></th>\n",
       "      <th></th>\n",
       "      <th></th>\n",
       "      <th></th>\n",
       "      <th></th>\n",
       "      <th></th>\n",
       "      <th></th>\n",
       "      <th></th>\n",
       "      <th></th>\n",
       "      <th></th>\n",
       "      <th></th>\n",
       "      <th></th>\n",
       "      <th></th>\n",
       "      <th></th>\n",
       "      <th></th>\n",
       "    </tr>\n",
       "  </thead>\n",
       "  <tbody>\n",
       "    <tr>\n",
       "      <th>a6984c3ae395090e3bee8ad63c3758b110de096d5d819583a784a113726db849</th>\n",
       "      <td>1</td>\n",
       "      <td>14.457534</td>\n",
       "      <td>0</td>\n",
       "      <td>0</td>\n",
       "      <td>0</td>\n",
       "      <td>0</td>\n",
       "      <td>0</td>\n",
       "      <td>1</td>\n",
       "      <td>1</td>\n",
       "      <td>1</td>\n",
       "      <td>...</td>\n",
       "      <td>32</td>\n",
       "      <td>10</td>\n",
       "      <td>19</td>\n",
       "      <td>4</td>\n",
       "      <td>0</td>\n",
       "      <td>0</td>\n",
       "      <td>6</td>\n",
       "      <td>48</td>\n",
       "      <td>2</td>\n",
       "      <td>2</td>\n",
       "    </tr>\n",
       "  </tbody>\n",
       "</table>\n",
       "<p>1 rows × 37 columns</p>\n",
       "</div>"
      ],
      "text/plain": [
       "                                                    fl_matriz  \\\n",
       "id                                                              \n",
       "a6984c3ae395090e3bee8ad63c3758b110de096d5d81958...          1   \n",
       "\n",
       "                                                    idade_empresa_anos  fl_me  \\\n",
       "id                                                                              \n",
       "a6984c3ae395090e3bee8ad63c3758b110de096d5d81958...           14.457534      0   \n",
       "\n",
       "                                                    fl_sa  fl_mei  fl_ltda  \\\n",
       "id                                                                           \n",
       "a6984c3ae395090e3bee8ad63c3758b110de096d5d81958...      0       0        0   \n",
       "\n",
       "                                                    fl_st_especial  fl_email  \\\n",
       "id                                                                             \n",
       "a6984c3ae395090e3bee8ad63c3758b110de096d5d81958...               0         1   \n",
       "\n",
       "                                                    fl_telefone  \\\n",
       "id                                                                \n",
       "a6984c3ae395090e3bee8ad63c3758b110de096d5d81958...            1   \n",
       "\n",
       "                                                    fl_optante_simples  ...  \\\n",
       "id                                                                      ...   \n",
       "a6984c3ae395090e3bee8ad63c3758b110de096d5d81958...                   1  ...   \n",
       "\n",
       "                                                    nm_divisao  nm_segmento  \\\n",
       "id                                                                            \n",
       "a6984c3ae395090e3bee8ad63c3758b110de096d5d81958...          32           10   \n",
       "\n",
       "                                                    sg_uf_matriz  \\\n",
       "id                                                                 \n",
       "a6984c3ae395090e3bee8ad63c3758b110de096d5d81958...            19   \n",
       "\n",
       "                                                    de_saude_tributaria  \\\n",
       "id                                                                        \n",
       "a6984c3ae395090e3bee8ad63c3758b110de096d5d81958...                    4   \n",
       "\n",
       "                                                    de_saude_rescencia  \\\n",
       "id                                                                       \n",
       "a6984c3ae395090e3bee8ad63c3758b110de096d5d81958...                   0   \n",
       "\n",
       "                                                    de_nivel_atividade  \\\n",
       "id                                                                       \n",
       "a6984c3ae395090e3bee8ad63c3758b110de096d5d81958...                   0   \n",
       "\n",
       "                                                    nm_meso_regiao  \\\n",
       "id                                                                   \n",
       "a6984c3ae395090e3bee8ad63c3758b110de096d5d81958...               6   \n",
       "\n",
       "                                                    nm_micro_regiao  \\\n",
       "id                                                                    \n",
       "a6984c3ae395090e3bee8ad63c3758b110de096d5d81958...               48   \n",
       "\n",
       "                                                    de_faixa_faturamento_estimado  \\\n",
       "id                                                                                  \n",
       "a6984c3ae395090e3bee8ad63c3758b110de096d5d81958...                              2   \n",
       "\n",
       "                                                    de_faixa_faturamento_estimado_grupo  \n",
       "id                                                                                       \n",
       "a6984c3ae395090e3bee8ad63c3758b110de096d5d81958...                                    2  \n",
       "\n",
       "[1 rows x 37 columns]"
      ]
     },
     "execution_count": 43,
     "metadata": {},
     "output_type": "execute_result"
    }
   ],
   "source": [
    "p1_encoded.head(1)\n"
   ]
  },
  {
   "cell_type": "code",
   "execution_count": 45,
   "metadata": {},
   "outputs": [
    {
     "data": {
      "text/plain": [
       "(array([[21.37755833, 31.89044038, 35.18529628, 36.72873534, 38.36665219]]),\n",
       " array([[5601,  962, 9169,  880, 7029]]))"
      ]
     },
     "execution_count": 45,
     "metadata": {},
     "output_type": "execute_result"
    }
   ],
   "source": [
    "nearest.kneighbors(p1_encoded.tail(1))"
   ]
  },
  {
   "cell_type": "code",
   "execution_count": 21,
   "metadata": {},
   "outputs": [],
   "source": [
    "from sklearn.model_selection import train_test_split\n",
    "\n",
    "X_train, X_test, y_train, y_test = train_test_split(p1_encoded, pd.Series(np.zeros(len(p1_encoded))), \n",
    "                     train_size=0.02, random_state=17) \n",
    "from sklearn.cluster import AgglomerativeClustering\n",
    "AC = AgglomerativeClustering(n_clusters=25, linkage='ward')\n",
    "AC.fit(X_train)\n",
    "labels = AC.labels_\n"
   ]
  },
  {
   "cell_type": "code",
   "execution_count": 19,
   "metadata": {},
   "outputs": [],
   "source": [
    "p1_sample = p1_encoded.sample(n=10000)"
   ]
  },
  {
   "cell_type": "code",
   "execution_count": null,
   "metadata": {},
   "outputs": [],
   "source": [
    "from sklearn.neighbors import KNeighborsClassifier\n",
    "KN = KNeighborsClassifier(n_neighbors=3)\n",
    "KN.fit(X_train,labels)\n",
    "clusters_fulldata = KN.predict(p1_scaled)\n",
    "p1_scaled['cluster'] = pd.Series(clusters_fulldata)"
   ]
  },
  {
   "cell_type": "code",
   "execution_count": null,
   "metadata": {},
   "outputs": [],
   "source": [
    "p1_scaled['cluster'].value_counts()"
   ]
  },
  {
   "cell_type": "markdown",
   "metadata": {},
   "source": [
    "## Conclusão até o momento"
   ]
  },
  {
   "cell_type": "code",
   "execution_count": null,
   "metadata": {},
   "outputs": [],
   "source": [
    "- NaNs limpos\n",
    "- "
   ]
  }
 ],
 "metadata": {
  "kernelspec": {
   "display_name": "Python 3",
   "language": "python",
   "name": "python3"
  },
  "language_info": {
   "codemirror_mode": {
    "name": "ipython",
    "version": 3
   },
   "file_extension": ".py",
   "mimetype": "text/x-python",
   "name": "python",
   "nbconvert_exporter": "python",
   "pygments_lexer": "ipython3",
   "version": "3.6.8"
  },
  "toc": {
   "base_numbering": 1,
   "nav_menu": {},
   "number_sections": true,
   "sideBar": true,
   "skip_h1_title": false,
   "title_cell": "Table of Contents",
   "title_sidebar": "Contents",
   "toc_cell": false,
   "toc_position": {},
   "toc_section_display": true,
   "toc_window_display": false
  }
 },
 "nbformat": 4,
 "nbformat_minor": 2
}
