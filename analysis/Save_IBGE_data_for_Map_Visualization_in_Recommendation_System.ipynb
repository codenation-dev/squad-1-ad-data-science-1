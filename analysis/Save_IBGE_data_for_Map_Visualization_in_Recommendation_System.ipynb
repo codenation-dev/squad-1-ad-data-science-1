{
 "cells": [
  {
   "cell_type": "markdown",
   "metadata": {},
   "source": [
    "# Objetivo"
   ]
  },
  {
   "cell_type": "markdown",
   "metadata": {},
   "source": [
    "Gerar um arquivo com informação do nome da região e coordenadas geográficas para usar na visualização das recomendações de novos clientes."
   ]
  },
  {
   "cell_type": "markdown",
   "metadata": {},
   "source": [
    "# Método"
   ]
  },
  {
   "cell_type": "markdown",
   "metadata": {},
   "source": [
    "A base de dados do IBGE tem as coordenadas geográficas.\n",
    "\n",
    "Para extrair os dados (municípios e regiões) da base do IBGE: \n",
    "https://github.com/poliquin/br-localidades\n",
    "\n",
    "(This repo downloads geo data for Brazilian localities from IBGE and converts it to CSV. The resulting file has the latitude, longitude, and altitude of places in Brazil along with the numeric identifiers from IBGE.)\n",
    "\n",
    "Aqui é feita a leitura da base e adaptação para deixar apenas as informações necessárias.\n",
    "\n",
    "**Importante:** como os nomes das regiões na base estaticos_market não tem acento, aqui é feita uma \"limpeza\", ou seja, retirada dos acentos, para compatibilizar a busca."
   ]
  },
  {
   "cell_type": "code",
   "execution_count": 1,
   "metadata": {},
   "outputs": [],
   "source": [
    "import pandas as pd"
   ]
  },
  {
   "cell_type": "markdown",
   "metadata": {},
   "source": [
    "# Leitura do arquivo com latitude e longitude\n",
    "\n",
    "O arquivo `latlng_local.csv` é obtido a partir da execução do script obtido de https://github.com/poliquin/br-localidades"
   ]
  },
  {
   "cell_type": "code",
   "execution_count": 2,
   "metadata": {},
   "outputs": [
    {
     "data": {
      "text/plain": [
       "(21886, 21)"
      ]
     },
     "execution_count": 2,
     "metadata": {},
     "output_type": "execute_result"
    }
   ],
   "source": [
    "coord_ibge = pd.read_csv('latlng_local.csv')\n",
    "coord_ibge.shape"
   ]
  },
  {
   "cell_type": "markdown",
   "metadata": {},
   "source": [
    "# Retirada dos acentos dos nomes das regiões"
   ]
  },
  {
   "cell_type": "code",
   "execution_count": 3,
   "metadata": {},
   "outputs": [],
   "source": [
    "# agora, tem que criar um dataframe com o nome das regiões e coordenadas geográficas.\n",
    "# será usada a média, ou seja, mais ou menos o centro da região,\n",
    "# obtida a partir dos dados dos municípios\n",
    "\n",
    "# o nome do estado também ficará junto.\n",
    "coord_micro = coord_ibge.groupby(['nm_micro', 'nm_uf'])['lng', 'lat'].mean()"
   ]
  },
  {
   "cell_type": "code",
   "execution_count": 4,
   "metadata": {},
   "outputs": [],
   "source": [
    "nomes = coord_micro.index.get_level_values(0)"
   ]
  },
  {
   "cell_type": "code",
   "execution_count": 5,
   "metadata": {},
   "outputs": [],
   "source": [
    "# tirar os acentos\n",
    "import unicodedata\n",
    "tempdict={}\n",
    "for text in nomes:\n",
    "    #print(unicodedata.normalize('NFKD', text).encode('ascii', 'ignore'))\n",
    "    tempdict[text]=unicodedata.normalize('NFKD', text).encode('ascii', 'ignore').decode('utf-8')"
   ]
  },
  {
   "cell_type": "code",
   "execution_count": 6,
   "metadata": {},
   "outputs": [],
   "source": [
    "coord_micro.rename(tempdict, inplace=True) \n",
    "# TODO: a mudança também foi aplicada para nm_uf (SÃO PAULO ficou sem til), mas não para todos os estados.\n",
    "# Verificar e corrigir caso seja feita busca pelo nome do estado."
   ]
  },
  {
   "cell_type": "code",
   "execution_count": 7,
   "metadata": {},
   "outputs": [],
   "source": [
    "coord_micro.reset_index(level=['nm_micro'], inplace=True)"
   ]
  },
  {
   "cell_type": "code",
   "execution_count": 8,
   "metadata": {},
   "outputs": [
    {
     "data": {
      "text/html": [
       "<div>\n",
       "<style scoped>\n",
       "    .dataframe tbody tr th:only-of-type {\n",
       "        vertical-align: middle;\n",
       "    }\n",
       "\n",
       "    .dataframe tbody tr th {\n",
       "        vertical-align: top;\n",
       "    }\n",
       "\n",
       "    .dataframe thead th {\n",
       "        text-align: right;\n",
       "    }\n",
       "</style>\n",
       "<table border=\"1\" class=\"dataframe\">\n",
       "  <thead>\n",
       "    <tr style=\"text-align: right;\">\n",
       "      <th></th>\n",
       "      <th>nm_micro</th>\n",
       "      <th>lng</th>\n",
       "      <th>lat</th>\n",
       "    </tr>\n",
       "    <tr>\n",
       "      <th>nm_uf</th>\n",
       "      <th></th>\n",
       "      <th></th>\n",
       "      <th></th>\n",
       "    </tr>\n",
       "  </thead>\n",
       "  <tbody>\n",
       "    <tr>\n",
       "      <th>SAO PAULO</th>\n",
       "      <td>ADAMANTINA</td>\n",
       "      <td>-50.997688</td>\n",
       "      <td>-21.706115</td>\n",
       "    </tr>\n",
       "    <tr>\n",
       "      <th>ESPÍRITO SANTO</th>\n",
       "      <td>AFONSO CLAUDIO</td>\n",
       "      <td>-41.018390</td>\n",
       "      <td>-20.191878</td>\n",
       "    </tr>\n",
       "    <tr>\n",
       "      <th>MARANHÃO</th>\n",
       "      <td>AGLOMERACAO URBANA DE SAO LUIS</td>\n",
       "      <td>-44.142982</td>\n",
       "      <td>-2.562962</td>\n",
       "    </tr>\n",
       "  </tbody>\n",
       "</table>\n",
       "</div>"
      ],
      "text/plain": [
       "                                      nm_micro        lng        lat\n",
       "nm_uf                                                               \n",
       "SAO PAULO                           ADAMANTINA -50.997688 -21.706115\n",
       "ESPÍRITO SANTO                  AFONSO CLAUDIO -41.018390 -20.191878\n",
       "MARANHÃO        AGLOMERACAO URBANA DE SAO LUIS -44.142982  -2.562962"
      ]
     },
     "execution_count": 8,
     "metadata": {},
     "output_type": "execute_result"
    }
   ],
   "source": [
    "coord_micro.head(3)"
   ]
  },
  {
   "cell_type": "markdown",
   "metadata": {},
   "source": [
    "# Gravar dataframe resultante em um arquivo csv\n",
    "\n",
    "Arquivo tem as informações:\n",
    "- nm_uf (nome do estado)\n",
    "- nm_micro (nome da microrregião)\n",
    "- lng (longitude do \"centro\", obtido pela média, da microrregião)\n",
    "- lat (latitude do \"centro\" da microrregião)"
   ]
  },
  {
   "cell_type": "code",
   "execution_count": 9,
   "metadata": {},
   "outputs": [],
   "source": [
    "coord_micro.to_csv('coord_geograficas_microrregioes_brasil.csv')"
   ]
  },
  {
   "cell_type": "markdown",
   "metadata": {},
   "source": [
    "---"
   ]
  }
 ],
 "metadata": {
  "kernelspec": {
   "display_name": "Python 3",
   "language": "python",
   "name": "python3"
  },
  "language_info": {
   "codemirror_mode": {
    "name": "ipython",
    "version": 3
   },
   "file_extension": ".py",
   "mimetype": "text/x-python",
   "name": "python",
   "nbconvert_exporter": "python",
   "pygments_lexer": "ipython3",
   "version": "3.7.3"
  },
  "toc": {
   "base_numbering": 1,
   "nav_menu": {},
   "number_sections": true,
   "sideBar": true,
   "skip_h1_title": false,
   "title_cell": "Table of Contents",
   "title_sidebar": "Contents",
   "toc_cell": false,
   "toc_position": {},
   "toc_section_display": true,
   "toc_window_display": false
  }
 },
 "nbformat": 4,
 "nbformat_minor": 2
}
