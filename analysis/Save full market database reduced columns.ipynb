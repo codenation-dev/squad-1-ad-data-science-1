{
 "cells": [
  {
   "cell_type": "markdown",
   "metadata": {},
   "source": [
    "# Objetivo\n",
    "\n",
    "Reduzir o número de colunas do banco de dados original, tanto para reduzir a ocupação de memória quanto para eliminar colunas irrelevantes."
   ]
  },
  {
   "cell_type": "markdown",
   "metadata": {},
   "source": [
    "# Método\n",
    "\n",
    "A partir do conjunto reduzido de features (47) obtido com *pandas profiling*, excluir colunas e gravar arquivo."
   ]
  },
  {
   "cell_type": "markdown",
   "metadata": {},
   "source": [
    "# Leitura dos arquivos"
   ]
  },
  {
   "cell_type": "code",
   "execution_count": 1,
   "metadata": {},
   "outputs": [],
   "source": [
    "# imports\n",
    "import pandas as pd\n",
    "import numpy as np\n",
    "import feather"
   ]
  },
  {
   "cell_type": "markdown",
   "metadata": {},
   "source": [
    "## Leitura da lista de features a excluir"
   ]
  },
  {
   "cell_type": "code",
   "execution_count": 17,
   "metadata": {},
   "outputs": [],
   "source": [
    "# obtida em EDA Pandas_profiling_sample_10k_market.ipynb\n",
    "exclude_df = pd.read_csv('exclude_variables_generated_from_profiling.csv')\n",
    "exclude_variables = exclude_df.values.squeeze().tolist()\n",
    "len(exclude_variables)\n",
    "exclude_variables.append('Unnamed: 0')"
   ]
  },
  {
   "cell_type": "markdown",
   "metadata": {},
   "source": [
    "## Carregamento banco"
   ]
  },
  {
   "cell_type": "code",
   "execution_count": 18,
   "metadata": {},
   "outputs": [
    {
     "name": "stdout",
     "output_type": "stream",
     "text": [
      "<class 'pandas.core.frame.DataFrame'>\n",
      "RangeIndex: 462298 entries, 0 to 462297\n",
      "Columns: 182 entries, Unnamed: 0 to qt_filiais\n",
      "dtypes: bool(9), float64(144), int64(2), object(27)\n",
      "memory usage: 614.1+ MB\n"
     ]
    }
   ],
   "source": [
    "fulldb = pd.read_csv('../../estaticos_market.csv')\n",
    "fulldb.info()"
   ]
  },
  {
   "cell_type": "markdown",
   "metadata": {},
   "source": [
    "## Redução no número de features"
   ]
  },
  {
   "cell_type": "code",
   "execution_count": 19,
   "metadata": {},
   "outputs": [],
   "source": [
    "fulldb.drop(columns=exclude_variables, inplace = True)"
   ]
  },
  {
   "cell_type": "code",
   "execution_count": 20,
   "metadata": {},
   "outputs": [
    {
     "data": {
      "text/plain": [
       "(462298, 38)"
      ]
     },
     "execution_count": 20,
     "metadata": {},
     "output_type": "execute_result"
    }
   ],
   "source": [
    "fulldb.shape"
   ]
  },
  {
   "cell_type": "code",
   "execution_count": 21,
   "metadata": {},
   "outputs": [
    {
     "data": {
      "text/html": [
       "<div>\n",
       "<style scoped>\n",
       "    .dataframe tbody tr th:only-of-type {\n",
       "        vertical-align: middle;\n",
       "    }\n",
       "\n",
       "    .dataframe tbody tr th {\n",
       "        vertical-align: top;\n",
       "    }\n",
       "\n",
       "    .dataframe thead th {\n",
       "        text-align: right;\n",
       "    }\n",
       "</style>\n",
       "<table border=\"1\" class=\"dataframe\">\n",
       "  <thead>\n",
       "    <tr style=\"text-align: right;\">\n",
       "      <th></th>\n",
       "      <th>id</th>\n",
       "      <th>fl_matriz</th>\n",
       "      <th>de_natureza_juridica</th>\n",
       "      <th>sg_uf</th>\n",
       "      <th>natureza_juridica_macro</th>\n",
       "      <th>de_ramo</th>\n",
       "      <th>setor</th>\n",
       "      <th>idade_empresa_anos</th>\n",
       "      <th>idade_emp_cat</th>\n",
       "      <th>fl_me</th>\n",
       "      <th>...</th>\n",
       "      <th>nm_meso_regiao</th>\n",
       "      <th>nm_micro_regiao</th>\n",
       "      <th>fl_passivel_iss</th>\n",
       "      <th>qt_socios</th>\n",
       "      <th>idade_media_socios</th>\n",
       "      <th>qt_socios_feminino</th>\n",
       "      <th>de_faixa_faturamento_estimado</th>\n",
       "      <th>de_faixa_faturamento_estimado_grupo</th>\n",
       "      <th>vl_faturamento_estimado_aux</th>\n",
       "      <th>vl_faturamento_estimado_grupo_aux</th>\n",
       "    </tr>\n",
       "  </thead>\n",
       "  <tbody>\n",
       "    <tr>\n",
       "      <th>0</th>\n",
       "      <td>a6984c3ae395090e3bee8ad63c3758b110de096d5d8195...</td>\n",
       "      <td>True</td>\n",
       "      <td>SOCIEDADE EMPRESARIA LIMITADA</td>\n",
       "      <td>RN</td>\n",
       "      <td>ENTIDADES EMPRESARIAIS</td>\n",
       "      <td>INDUSTRIA DA CONSTRUCAO</td>\n",
       "      <td>CONSTRUÇÃO CIVIL</td>\n",
       "      <td>14.457534</td>\n",
       "      <td>10 a 15</td>\n",
       "      <td>False</td>\n",
       "      <td>...</td>\n",
       "      <td>LESTE POTIGUAR</td>\n",
       "      <td>NATAL</td>\n",
       "      <td>True</td>\n",
       "      <td>2.0</td>\n",
       "      <td>44.0</td>\n",
       "      <td>NaN</td>\n",
       "      <td>DE R$ 1.500.000,01 A R$ 4.800.000,00</td>\n",
       "      <td>DE R$ 1.500.000,01 A R$ 4.800.000,00</td>\n",
       "      <td>3132172.8</td>\n",
       "      <td>3132172.8</td>\n",
       "    </tr>\n",
       "    <tr>\n",
       "      <th>1</th>\n",
       "      <td>6178f41ade1365e44bc2c46654c2c8c0eaae27dcb476c4...</td>\n",
       "      <td>True</td>\n",
       "      <td>EMPRESARIO INDIVIDUAL</td>\n",
       "      <td>PI</td>\n",
       "      <td>OUTROS</td>\n",
       "      <td>SERVICOS DE ALOJAMENTO/ALIMENTACAO</td>\n",
       "      <td>SERVIÇO</td>\n",
       "      <td>1.463014</td>\n",
       "      <td>1 a 5</td>\n",
       "      <td>False</td>\n",
       "      <td>...</td>\n",
       "      <td>CENTRO NORTE PIAUIENSE</td>\n",
       "      <td>TERESINA</td>\n",
       "      <td>True</td>\n",
       "      <td>1.0</td>\n",
       "      <td>27.0</td>\n",
       "      <td>NaN</td>\n",
       "      <td>DE R$ 81.000,01 A R$ 360.000,00</td>\n",
       "      <td>DE R$ 81.000,01 A R$ 360.000,00</td>\n",
       "      <td>210000.0</td>\n",
       "      <td>210000.0</td>\n",
       "    </tr>\n",
       "    <tr>\n",
       "      <th>2</th>\n",
       "      <td>4a7e5069a397f12fdd7fd57111d6dc5d3ba558958efc02...</td>\n",
       "      <td>True</td>\n",
       "      <td>EMPRESARIO INDIVIDUAL</td>\n",
       "      <td>AM</td>\n",
       "      <td>OUTROS</td>\n",
       "      <td>TRANSPORTE, ARMAZENAGEM E CORREIO</td>\n",
       "      <td>SERVIÇO</td>\n",
       "      <td>7.093151</td>\n",
       "      <td>5 a 10</td>\n",
       "      <td>False</td>\n",
       "      <td>...</td>\n",
       "      <td>CENTRO AMAZONENSE</td>\n",
       "      <td>MANAUS</td>\n",
       "      <td>True</td>\n",
       "      <td>1.0</td>\n",
       "      <td>32.0</td>\n",
       "      <td>NaN</td>\n",
       "      <td>ATE R$ 81.000,00</td>\n",
       "      <td>ATE R$ 81.000,00</td>\n",
       "      <td>50000.0</td>\n",
       "      <td>50000.0</td>\n",
       "    </tr>\n",
       "  </tbody>\n",
       "</table>\n",
       "<p>3 rows × 38 columns</p>\n",
       "</div>"
      ],
      "text/plain": [
       "                                                  id  fl_matriz  \\\n",
       "0  a6984c3ae395090e3bee8ad63c3758b110de096d5d8195...       True   \n",
       "1  6178f41ade1365e44bc2c46654c2c8c0eaae27dcb476c4...       True   \n",
       "2  4a7e5069a397f12fdd7fd57111d6dc5d3ba558958efc02...       True   \n",
       "\n",
       "            de_natureza_juridica sg_uf natureza_juridica_macro  \\\n",
       "0  SOCIEDADE EMPRESARIA LIMITADA    RN  ENTIDADES EMPRESARIAIS   \n",
       "1          EMPRESARIO INDIVIDUAL    PI                  OUTROS   \n",
       "2          EMPRESARIO INDIVIDUAL    AM                  OUTROS   \n",
       "\n",
       "                              de_ramo             setor  idade_empresa_anos  \\\n",
       "0             INDUSTRIA DA CONSTRUCAO  CONSTRUÇÃO CIVIL           14.457534   \n",
       "1  SERVICOS DE ALOJAMENTO/ALIMENTACAO           SERVIÇO            1.463014   \n",
       "2   TRANSPORTE, ARMAZENAGEM E CORREIO           SERVIÇO            7.093151   \n",
       "\n",
       "  idade_emp_cat  fl_me  ...          nm_meso_regiao  nm_micro_regiao  \\\n",
       "0       10 a 15  False  ...          LESTE POTIGUAR            NATAL   \n",
       "1         1 a 5  False  ...  CENTRO NORTE PIAUIENSE         TERESINA   \n",
       "2        5 a 10  False  ...       CENTRO AMAZONENSE           MANAUS   \n",
       "\n",
       "   fl_passivel_iss qt_socios  idade_media_socios  qt_socios_feminino  \\\n",
       "0             True       2.0                44.0                 NaN   \n",
       "1             True       1.0                27.0                 NaN   \n",
       "2             True       1.0                32.0                 NaN   \n",
       "\n",
       "          de_faixa_faturamento_estimado   de_faixa_faturamento_estimado_grupo  \\\n",
       "0  DE R$ 1.500.000,01 A R$ 4.800.000,00  DE R$ 1.500.000,01 A R$ 4.800.000,00   \n",
       "1       DE R$ 81.000,01 A R$ 360.000,00       DE R$ 81.000,01 A R$ 360.000,00   \n",
       "2                      ATE R$ 81.000,00                      ATE R$ 81.000,00   \n",
       "\n",
       "  vl_faturamento_estimado_aux vl_faturamento_estimado_grupo_aux  \n",
       "0                   3132172.8                         3132172.8  \n",
       "1                    210000.0                          210000.0  \n",
       "2                     50000.0                           50000.0  \n",
       "\n",
       "[3 rows x 38 columns]"
      ]
     },
     "execution_count": 21,
     "metadata": {},
     "output_type": "execute_result"
    }
   ],
   "source": [
    "fulldb.head(3)"
   ]
  },
  {
   "cell_type": "markdown",
   "metadata": {},
   "source": [
    "# Gravação do novo arquivo"
   ]
  },
  {
   "cell_type": "code",
   "execution_count": 10,
   "metadata": {},
   "outputs": [],
   "source": [
    "feather.write_dataframe(fulldb, 'full_market_reduced_columns.feather')"
   ]
  }
 ],
 "metadata": {
  "kernelspec": {
   "display_name": "Python 3",
   "language": "python",
   "name": "python3"
  },
  "language_info": {
   "codemirror_mode": {
    "name": "ipython",
    "version": 3
   },
   "file_extension": ".py",
   "mimetype": "text/x-python",
   "name": "python",
   "nbconvert_exporter": "python",
   "pygments_lexer": "ipython3",
   "version": "3.6.8"
  },
  "toc": {
   "base_numbering": 1,
   "nav_menu": {},
   "number_sections": true,
   "sideBar": true,
   "skip_h1_title": false,
   "title_cell": "Table of Contents",
   "title_sidebar": "Contents",
   "toc_cell": false,
   "toc_position": {},
   "toc_section_display": true,
   "toc_window_display": false
  }
 },
 "nbformat": 4,
 "nbformat_minor": 2
}
