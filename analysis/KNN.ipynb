{
 "cells": [
  {
   "cell_type": "markdown",
   "metadata": {},
   "source": [
    "# Objetivo\n",
    "\n",
    "Aplicar o K Nearest Neighbors Na base toda. "
   ]
  },
  {
   "cell_type": "markdown",
   "metadata": {},
   "source": [
    "# Método\n",
    "\n",
    "A partir do conjunto reduzido de features (39) 100k rows, aplicar:\n",
    "- fillna <b> OK </b>\n",
    "\n",
    "- LabelEncoder (ou algo do tipo) <b> 'parcial' </b> - Travou \n",
    "- KNN"
   ]
  },
  {
   "cell_type": "markdown",
   "metadata": {},
   "source": [
    "# Leitura dos arquivos"
   ]
  },
  {
   "cell_type": "code",
   "execution_count": 1,
   "metadata": {},
   "outputs": [],
   "source": [
    "# imports\n",
    "import pandas as pd\n",
    "import matplotlib.pyplot as plt\n",
    "import seaborn as sns\n",
    "import numpy as np"
   ]
  },
  {
   "cell_type": "markdown",
   "metadata": {},
   "source": [
    "## Leitura da lista de features a excluir"
   ]
  },
  {
   "cell_type": "markdown",
   "metadata": {},
   "source": [
    "## Carregamento Clientes\n",
    "Limitando a 100k por limitação de processamento"
   ]
  },
  {
   "cell_type": "markdown",
   "metadata": {},
   "source": [
    "## Redução no número de features\n",
    "Só rodar caso seja necessário filtrar mais vezes"
   ]
  },
  {
   "cell_type": "code",
   "execution_count": null,
   "metadata": {},
   "outputs": [],
   "source": [
    "p1 = pd.read_csv('estaticos_market.csv')\n",
    "p1.info()"
   ]
  },
  {
   "cell_type": "code",
   "execution_count": null,
   "metadata": {},
   "outputs": [],
   "source": [
    "exclude_df = pd.read_csv('exclude_variables_generated_from_profiling.csv')\n",
    "exclude_variables = exclude_df.values.squeeze().tolist()\n",
    "len(exclude_variables)\n"
   ]
  },
  {
   "cell_type": "code",
   "execution_count": null,
   "metadata": {},
   "outputs": [],
   "source": [
    "p1.columns"
   ]
  },
  {
   "cell_type": "code",
   "execution_count": null,
   "metadata": {},
   "outputs": [],
   "source": [
    "p1.drop(columns=exclude_variables, inplace= True)\n",
    "p1.drop(columns=['Unnamed: 0'], inplace= True)\n",
    "p1.shape"
   ]
  },
  {
   "cell_type": "code",
   "execution_count": null,
   "metadata": {},
   "outputs": [],
   "source": [
    "p1.to_csv('estaticos_31_features.csv')"
   ]
  },
  {
   "cell_type": "markdown",
   "metadata": {},
   "source": [
    "## Carregamento de clientes já filtrados\n"
   ]
  },
  {
   "cell_type": "code",
   "execution_count": 2,
   "metadata": {},
   "outputs": [],
   "source": [
    "p1 = pd.read_csv('estaticos_31_features.csv')#,nrows = 200000)"
   ]
  },
  {
   "cell_type": "code",
   "execution_count": 3,
   "metadata": {},
   "outputs": [
    {
     "data": {
      "text/plain": [
       "Index(['Unnamed: 0', 'id', 'de_natureza_juridica', 'sg_uf',\n",
       "       'natureza_juridica_macro', 'de_ramo', 'setor', 'idade_empresa_anos',\n",
       "       'idade_emp_cat', 'fl_mei', 'dt_situacao', 'fl_email', 'fl_telefone',\n",
       "       'fl_rm', 'nm_divisao', 'nm_segmento', 'fl_optante_simples',\n",
       "       'fl_optante_simei', 'sg_uf_matriz', 'de_saude_tributaria',\n",
       "       'nu_meses_rescencia', 'de_nivel_atividade',\n",
       "       'empsetorcensitariofaixarendapopulacao', 'nm_meso_regiao',\n",
       "       'nm_micro_regiao', 'fl_passivel_iss', 'qt_socios', 'idade_media_socios',\n",
       "       'de_faixa_faturamento_estimado', 'de_faixa_faturamento_estimado_grupo',\n",
       "       'vl_faturamento_estimado_aux', 'vl_faturamento_estimado_grupo_aux'],\n",
       "      dtype='object')"
      ]
     },
     "execution_count": 3,
     "metadata": {},
     "output_type": "execute_result"
    }
   ],
   "source": [
    "p1.columns"
   ]
  },
  {
   "cell_type": "code",
   "execution_count": 4,
   "metadata": {},
   "outputs": [
    {
     "data": {
      "text/plain": [
       "(462298, 30)"
      ]
     },
     "execution_count": 4,
     "metadata": {},
     "output_type": "execute_result"
    }
   ],
   "source": [
    "p1.drop(columns=['Unnamed: 0'], inplace= True)\n",
    "p1.set_index('id',inplace=True)\n",
    "p1.shape"
   ]
  },
  {
   "cell_type": "markdown",
   "metadata": {},
   "source": [
    "# Managing NaNs\n"
   ]
  },
  {
   "cell_type": "markdown",
   "metadata": {},
   "source": [
    "Para usar nos dados do portfólio:\n",
    "- passar as strings para valor numérico\n",
    "- passar bool para int\n",
    "- fazer fillna para todos\n",
    "- - em categoricas -> other\n",
    "- - em numericas -> 0\n",
    "\n",
    "Estamos usando o LabelEncoder"
   ]
  },
  {
   "cell_type": "code",
   "execution_count": 5,
   "metadata": {
    "scrolled": true
   },
   "outputs": [
    {
     "data": {
      "text/plain": [
       "{'de_natureza_juridica': 'other',\n",
       " 'sg_uf': 'other',\n",
       " 'natureza_juridica_macro': 'other',\n",
       " 'de_ramo': 'other',\n",
       " 'setor': 'other',\n",
       " 'idade_empresa_anos': 0,\n",
       " 'idade_emp_cat': 'other',\n",
       " 'fl_mei': False,\n",
       " 'dt_situacao': 'other',\n",
       " 'fl_email': False,\n",
       " 'fl_telefone': False,\n",
       " 'fl_rm': 'other',\n",
       " 'nm_divisao': 'other',\n",
       " 'nm_segmento': 'other',\n",
       " 'fl_optante_simples': False,\n",
       " 'fl_optante_simei': False,\n",
       " 'sg_uf_matriz': 'other',\n",
       " 'de_saude_tributaria': 'other',\n",
       " 'nu_meses_rescencia': 0,\n",
       " 'de_nivel_atividade': 'other',\n",
       " 'empsetorcensitariofaixarendapopulacao': 0,\n",
       " 'nm_meso_regiao': 'other',\n",
       " 'nm_micro_regiao': 'other',\n",
       " 'fl_passivel_iss': False,\n",
       " 'qt_socios': 0,\n",
       " 'idade_media_socios': 0,\n",
       " 'de_faixa_faturamento_estimado': 'other',\n",
       " 'de_faixa_faturamento_estimado_grupo': 'other',\n",
       " 'vl_faturamento_estimado_aux': 0,\n",
       " 'vl_faturamento_estimado_grupo_aux': 0}"
      ]
     },
     "execution_count": 5,
     "metadata": {},
     "output_type": "execute_result"
    }
   ],
   "source": [
    "fill_dict = p1.dtypes.to_dict()\n",
    "cat2bool = ['fl_optante_simei','fl_optante_simples','fl_passivel_iss']\n",
    "\n",
    "for feature in fill_dict:\n",
    "    if(fill_dict[feature] == bool):\n",
    "        fill_dict[feature] = False\n",
    "    elif(fill_dict[feature] == object):\n",
    "        fill_dict[feature] = 'other'\n",
    "    else:\n",
    "        fill_dict[feature] = 0\n",
    "    if feature in cat2bool:\n",
    "        fill_dict[feature] = False\n",
    "        \n",
    "fill_dict\n"
   ]
  },
  {
   "cell_type": "code",
   "execution_count": 28,
   "metadata": {},
   "outputs": [],
   "source": [
    "p1.fillna(value=fill_dict, inplace=True)\n",
    "p1[cat2bool] = p1[cat2bool].astype(bool)\n",
    "\n",
    "bool2numeric = p1.columns[p1.dtypes == bool]\n",
    "p1[bool2numeric] = p1[bool2numeric].astype(int)"
   ]
  },
  {
   "cell_type": "markdown",
   "metadata": {},
   "source": [
    "## Encoding"
   ]
  },
  {
   "cell_type": "code",
   "execution_count": 29,
   "metadata": {},
   "outputs": [],
   "source": [
    "cat = p1.columns[p1.dtypes == object]\n",
    "cat\n",
    "not_cat = p1.columns[p1.dtypes != object]"
   ]
  },
  {
   "cell_type": "code",
   "execution_count": null,
   "metadata": {},
   "outputs": [],
   "source": [
    "from sklearn.preprocessing import OrdinalEncoder\n",
    "\n",
    "encoder = OrdinalEncoder()\n",
    "\n",
    "p1_scaled = encoder.fit_transform(p1)"
   ]
  },
  {
   "cell_type": "code",
   "execution_count": 30,
   "metadata": {},
   "outputs": [],
   "source": [
    "\n",
    "# Usando LabelEncoder\n",
    "#https://chrisalbon.com/machine_learning/preprocessing_structured_data/convert_pandas_categorical_column_into_integers_for_scikit-learn/\n",
    "from sklearn import preprocessing\n",
    "# Create a label (category) encoder object\n",
    "le = preprocessing.LabelEncoder()"
   ]
  },
  {
   "cell_type": "code",
   "execution_count": 31,
   "metadata": {},
   "outputs": [],
   "source": [
    "p1_le = pd.DataFrame()\n",
    "p1_le[cat] = p1[cat].apply(lambda col: le.fit_transform(col))\n"
   ]
  },
  {
   "cell_type": "code",
   "execution_count": 32,
   "metadata": {},
   "outputs": [],
   "source": [
    "p1_encoded = pd.concat([p1[not_cat],p1_le], axis =1)"
   ]
  },
  {
   "cell_type": "code",
   "execution_count": 41,
   "metadata": {},
   "outputs": [
    {
     "data": {
      "text/plain": [
       "idade_empresa_anos                       float64\n",
       "fl_mei                                     int64\n",
       "fl_email                                   int64\n",
       "fl_telefone                                int64\n",
       "fl_optante_simples                         int64\n",
       "fl_optante_simei                           int64\n",
       "nu_meses_rescencia                       float64\n",
       "empsetorcensitariofaixarendapopulacao    float64\n",
       "fl_passivel_iss                            int64\n",
       "qt_socios                                float64\n",
       "idade_media_socios                       float64\n",
       "vl_faturamento_estimado_aux              float64\n",
       "vl_faturamento_estimado_grupo_aux        float64\n",
       "de_natureza_juridica                       int64\n",
       "sg_uf                                      int64\n",
       "natureza_juridica_macro                    int64\n",
       "de_ramo                                    int64\n",
       "setor                                      int64\n",
       "idade_emp_cat                              int64\n",
       "dt_situacao                                int64\n",
       "fl_rm                                      int64\n",
       "nm_divisao                                 int64\n",
       "nm_segmento                                int64\n",
       "sg_uf_matriz                               int64\n",
       "de_saude_tributaria                        int64\n",
       "de_nivel_atividade                         int64\n",
       "nm_meso_regiao                             int64\n",
       "nm_micro_regiao                            int64\n",
       "de_faixa_faturamento_estimado              int64\n",
       "de_faixa_faturamento_estimado_grupo        int64\n",
       "dtype: object"
      ]
     },
     "execution_count": 41,
     "metadata": {},
     "output_type": "execute_result"
    }
   ],
   "source": [
    "p1_encoded.dtypes"
   ]
  },
  {
   "cell_type": "markdown",
   "metadata": {},
   "source": [
    "# PCA\n"
   ]
  },
  {
   "cell_type": "markdown",
   "metadata": {},
   "source": [
    "Aplicar o PCA para redução de features"
   ]
  },
  {
   "cell_type": "code",
   "execution_count": 68,
   "metadata": {},
   "outputs": [],
   "source": [
    "from sklearn.decomposition import PCA\n",
    "from sklearn.preprocessing import MinMaxScaler\n",
    "stdScaler = MinMaxScaler()\n",
    "\n",
    "p1_scaled = stdScaler.fit_transform(p1_encoded)\n",
    "\n",
    "pca = PCA().fit(p1_scaled)\n",
    "#pca.fit_transform(p1_encoded)"
   ]
  },
  {
   "cell_type": "code",
   "execution_count": 69,
   "metadata": {},
   "outputs": [
    {
     "data": {
      "text/plain": [
       "array([2.25751735e-01, 1.33521000e-01, 1.03174510e-01, 9.53057180e-02,\n",
       "       6.65242033e-02, 5.70631093e-02, 4.39452073e-02, 3.82645581e-02,\n",
       "       3.32607544e-02, 2.80849452e-02, 2.54108387e-02, 2.49192678e-02,\n",
       "       2.29812303e-02, 1.97481773e-02, 1.78788810e-02, 1.58844283e-02,\n",
       "       1.00329151e-02, 8.62601094e-03, 7.13846852e-03, 5.23462222e-03,\n",
       "       5.09575884e-03, 4.36783699e-03, 3.38456687e-03, 1.87473886e-03,\n",
       "       1.55716349e-03, 5.56552317e-04, 3.26423656e-04, 6.98884238e-05,\n",
       "       1.50514366e-05, 1.43775329e-06])"
      ]
     },
     "execution_count": 69,
     "metadata": {},
     "output_type": "execute_result"
    }
   ],
   "source": [
    "evr = pca.explained_variance_ratio_\n",
    "\n",
    "evr"
   ]
  },
  {
   "cell_type": "code",
   "execution_count": 70,
   "metadata": {},
   "outputs": [
    {
     "data": {
      "image/png": "[encoded data removed]",
      "text/plain": [
       "<Figure size 432x288 with 1 Axes>"
      ]
     },
     "metadata": {
      "needs_background": "light"
     },
     "output_type": "display_data"
    }
   ],
   "source": [
    "g = sns.lineplot(np.arange(len(evr)), np.cumsum(evr))\n",
    "g.axes.axhline(0.95, ls=\"--\", color=\"red\")\n",
    "plt.xlabel('Number of components')\n",
    "plt.ylabel('Cumulative explained variance');"
   ]
  },
  {
   "cell_type": "code",
   "execution_count": null,
   "metadata": {},
   "outputs": [],
   "source": [
    "from sklearn.neighbors import NearestNeighbors\n",
    "\n",
    "nearest = NearestNeighbors()"
   ]
  },
  {
   "cell_type": "code",
   "execution_count": null,
   "metadata": {},
   "outputs": [],
   "source": [
    "from sklearn.model_selection import train_test_split\n",
    "\n",
    "X_train, X_test, y_train, y_test"
   ]
  },
  {
   "cell_type": "code",
   "execution_count": null,
   "metadata": {},
   "outputs": [],
   "source": [
    "from sklearn.Ne import AgglomerativeClustering\n",
    "\n",
    "cluster = AgglomerativeClustering(n_clusters=5, affinity='euclidean', linkage='ward')\n",
    "p1_label['cluster'] = cluster.fit_predict(p1_label)"
   ]
  },
  {
   "cell_type": "markdown",
   "metadata": {},
   "source": [
    "## Conclusão até o momento"
   ]
  },
  {
   "cell_type": "code",
   "execution_count": null,
   "metadata": {},
   "outputs": [],
   "source": [
    "- NaNs limpos\n",
    "- "
   ]
  }
 ],
 "metadata": {
  "kernelspec": {
   "display_name": "Python 3",
   "language": "python",
   "name": "python3"
  },
  "language_info": {
   "codemirror_mode": {
    "name": "ipython",
    "version": 3
   },
   "file_extension": ".py",
   "mimetype": "text/x-python",
   "name": "python",
   "nbconvert_exporter": "python",
   "pygments_lexer": "ipython3",
   "version": "3.6.8"
  },
  "toc": {
   "base_numbering": 1,
   "nav_menu": {},
   "number_sections": true,
   "sideBar": true,
   "skip_h1_title": false,
   "title_cell": "Table of Contents",
   "title_sidebar": "Contents",
   "toc_cell": false,
   "toc_position": {},
   "toc_section_display": true,
   "toc_window_display": false
  }
 },
 "nbformat": 4,
 "nbformat_minor": 2
}
